{
  "nbformat": 4,
  "nbformat_minor": 0,
  "metadata": {
    "colab": {
      "provenance": [],
      "collapsed_sections": [
        "qQngujlX1BfW",
        "IGaqDEBF0wDx"
      ]
    },
    "kernelspec": {
      "name": "python3",
      "display_name": "Python 3"
    },
    "language_info": {
      "name": "python"
    }
  },
  "cells": [
    {
      "cell_type": "markdown",
      "source": [
        "# Fart Data Extraction Protocol"
      ],
      "metadata": {
        "id": "WtGoF49LyyQr"
      }
    },
    {
      "cell_type": "markdown",
      "source": [
        "In this colab we extract five publicly accessible databases:\n",
        "\n",
        "\n",
        "*   FlavorDB\n",
        "*   ChemTastesDB\n",
        "*   IUPAC pkA database\n",
        "*   PhytocompoundsDB\n",
        "*   Tas2R Agonists\n",
        "*   Umami compounds from Ref. [1]\n",
        "\n",
        "[1] B. Suess, D. Festring, T. Hofmann. Umami compounds and taste enhancers, In Woodhead Publishing Series in Food Science, Technology and Nutrition, Flavour Development, Analysis and Perception in Food and Beverages,Woodhead Publishing, 2015, p. 331-351.\n",
        "\n"
      ],
      "metadata": {
        "id": "xeasIPmYy1B0"
      }
    },
    {
      "cell_type": "code",
      "source": [
        "!pip install rdkit"
      ],
      "metadata": {
        "colab": {
          "base_uri": "https://localhost:8080/"
        },
        "id": "g-D7RQ3V8xGI",
        "outputId": "6209fe5d-5b7b-431c-aeb9-01dd36f33b76"
      },
      "execution_count": 60,
      "outputs": [
        {
          "output_type": "stream",
          "name": "stdout",
          "text": [
            "Requirement already satisfied: rdkit in /usr/local/lib/python3.10/dist-packages (2023.9.6)\n",
            "Requirement already satisfied: numpy in /usr/local/lib/python3.10/dist-packages (from rdkit) (1.25.2)\n",
            "Requirement already satisfied: Pillow in /usr/local/lib/python3.10/dist-packages (from rdkit) (9.4.0)\n"
          ]
        }
      ]
    },
    {
      "cell_type": "code",
      "source": [
        "!pip install pubchempy"
      ],
      "metadata": {
        "colab": {
          "base_uri": "https://localhost:8080/"
        },
        "id": "0UepR95L9THD",
        "outputId": "ffee0ca2-1257-4d1d-a887-49b9ec7f2bc1"
      },
      "execution_count": 64,
      "outputs": [
        {
          "output_type": "stream",
          "name": "stdout",
          "text": [
            "Collecting pubchempy\n",
            "  Downloading PubChemPy-1.0.4.tar.gz (29 kB)\n",
            "  Preparing metadata (setup.py) ... \u001b[?25l\u001b[?25hdone\n",
            "Building wheels for collected packages: pubchempy\n",
            "  Building wheel for pubchempy (setup.py) ... \u001b[?25l\u001b[?25hdone\n",
            "  Created wheel for pubchempy: filename=PubChemPy-1.0.4-py3-none-any.whl size=13820 sha256=abfc3f239ebef7580c7bd5bb4f3300172b54b8582e45326d1c890e3525335b10\n",
            "  Stored in directory: /root/.cache/pip/wheels/90/7c/45/18a0671e3c3316966ef7ed9ad2b3f3300a7e41d3421a44e799\n",
            "Successfully built pubchempy\n",
            "Installing collected packages: pubchempy\n",
            "Successfully installed pubchempy-1.0.4\n"
          ]
        }
      ]
    },
    {
      "cell_type": "code",
      "source": [
        "import pandas as pd\n",
        "import numpy as np\n",
        "from collections import Counter\n",
        "from rdkit import Chem\n",
        "import requests\n",
        "from bs4 import BeautifulSoup\n",
        "import pubchempy as pcp\n",
        "from tqdm import tqdm\n"
      ],
      "metadata": {
        "id": "h_veF1ODz2Yz"
      },
      "execution_count": 68,
      "outputs": []
    },
    {
      "cell_type": "markdown",
      "source": [
        "The final database is saved in 'fart_uncurated.csv' with columns\n",
        "\n",
        "\n",
        "*   Canonicalized SMILES\n",
        "*   Canonicalized Flavor\n",
        "*   Source\n",
        "\n",
        "Here we initialize the empty pandas dataframe for use later."
      ],
      "metadata": {
        "id": "WvhyyXhT16QU"
      }
    },
    {
      "cell_type": "code",
      "source": [
        "columns = ['Canonicalized SMILES', 'Canonicalized Taste', 'Original Labels', 'Source']\n",
        "fart_uncurated = pd.DataFrame(columns=columns)\n",
        "\n",
        "# arrays for the final plot\n",
        "full_dataset_size = [0]  # collects the size of dataset at each stage\n",
        "dataset_stage = ['initialization']"
      ],
      "metadata": {
        "id": "5DRSdlpU3OHZ"
      },
      "execution_count": 355,
      "outputs": []
    },
    {
      "cell_type": "markdown",
      "source": [
        "## Utils"
      ],
      "metadata": {
        "id": "qQngujlX1BfW"
      }
    },
    {
      "cell_type": "code",
      "source": [
        "# Helper function\n",
        "# Split the flavors from a string 'flavor1, flavor2, ...' into a list of flavors\n",
        "def split_flavors(flavor_string):\n",
        "    # Ensure the input is a string\n",
        "    str(flavor_string)\n",
        "    # Check if the input is indeed a string\n",
        "    if isinstance(flavor_string, str):\n",
        "        # Split the string by ', ' to create a list of flavors\n",
        "        return flavor_string.split(', ')\n",
        "    else:\n",
        "        # Print an error message if the input is not a string\n",
        "        print('ERROR, flavor_string is not a string', flavor_string)\n",
        "        return []\n",
        "\n",
        "# Input: data frame, name for the flavor/taste column of interest\n",
        "# Transform the row 'flavor_column_name' so that instead of one string value it\n",
        "# contains the list of all strings\n",
        "def flavors_to_list(data, flavor_column_name='Flavor'):\n",
        "    # Apply the split_flavors function to each entry in the specified column\n",
        "    data[flavor_column_name] = data[flavor_column_name].apply(lambda x: split_flavors(x))\n",
        "    return data\n",
        "\n",
        "# Input: data frame, name for the flavor/taste column of interest\n",
        "# Output: dictionary {'flavor': number_of_occurrences}\n",
        "def distinct_flavors(data, flavor_column_name=\"Flavor\"):\n",
        "    # Convert the flavors to a list format\n",
        "    data = flavors_to_list(data.copy(), flavor_column_name)\n",
        "\n",
        "    # Flatten the list of lists into a single list of all flavors\n",
        "    all_flavors = [flavor for sublist in data[flavor_column_name] for flavor in sublist]\n",
        "\n",
        "    # Count the occurrences of each flavor\n",
        "    taste_counts = Counter(all_flavors)\n",
        "\n",
        "    # Convert the Counter object to a dictionary and sort by occurrence count\n",
        "    taste_counts_dict = dict(taste_counts)\n",
        "    taste_counts_dict = dict(sorted(taste_counts_dict.items(), key=lambda item: item[1], reverse=True))\n",
        "\n",
        "    return taste_counts_dict\n",
        "\n",
        "# Function to tidy the canonical flavors\n",
        "def tidy_canonical_flavors(df):\n",
        "    new_rows = []\n",
        "    # Iterate over each row in the DataFrame\n",
        "    for index, row in df.iterrows():\n",
        "        # Check if the 'Canonicalized Taste Intermediary' column is a list\n",
        "        if isinstance(row['Canonicalized Taste Intermediary'], list):\n",
        "            flavors = row['Canonicalized Taste Intermediary']\n",
        "            # Create a new row for each flavor in the list\n",
        "            for flavor in flavors:\n",
        "                new_row = row.copy()\n",
        "                new_row['Canonicalized Taste Intermediary'] = flavor\n",
        "                new_row['Canonicalized Taste'] = str(flavor)\n",
        "                new_rows.append(new_row)\n",
        "        else:\n",
        "            # If it's not a list, just convert the value to string and add the row\n",
        "            row['Canonicalized Taste'] = str(row['Canonicalized Taste Intermediary'])\n",
        "            new_rows.append(row)\n",
        "    return pd.DataFrame(new_rows)\n",
        "\n",
        "# Function to canonicalize SMILES strings\n",
        "def canonicalize_smiles(smiles):\n",
        "    # Convert SMILES string to a molecule object\n",
        "    mol = Chem.MolFromSmiles(smiles)\n",
        "    if mol is not None:\n",
        "        # Convert molecule object back to a canonical SMILES string\n",
        "        return Chem.MolToSmiles(mol)\n",
        "    else:\n",
        "        # Return None if the SMILES string is invalid\n",
        "        return None\n",
        "\n",
        "# Function to canonicalize SMILES strings in a DataFrame column\n",
        "def canonicalize_smiles_column(df, smiles_name='SMILES'):\n",
        "    # Drop rows where the SMILES column is NaN\n",
        "    df = df.dropna(subset=[smiles_name])\n",
        "    # Apply the canonicalize_smiles function to the SMILES column\n",
        "    df['Canonicalized SMILES'] = df[smiles_name].apply(canonicalize_smiles)\n",
        "    return df\n"
      ],
      "metadata": {
        "id": "hGyMmw5P1CW_"
      },
      "execution_count": 185,
      "outputs": []
    },
    {
      "cell_type": "markdown",
      "source": [
        "## ChemtastesDB"
      ],
      "metadata": {
        "id": "IGaqDEBF0wDx"
      }
    },
    {
      "cell_type": "markdown",
      "source": [
        "ChemtastesDB is accessible as an excel document online"
      ],
      "metadata": {
        "id": "Mr2XHrwgc-Ke"
      }
    },
    {
      "cell_type": "code",
      "source": [
        "chemtastes_db = pd.read_excel(\"https://zenodo.org/records/5747393/files/ChemTastesDB_database.xlsx?download=1\")\n",
        "chemtastes_db = chemtastes_db.dropna(subset=[\"Class taste\"])"
      ],
      "metadata": {
        "id": "FMiAINVI0xtx"
      },
      "execution_count": 308,
      "outputs": []
    },
    {
      "cell_type": "markdown",
      "source": [
        "We care about the column \"Class Taste\" mostly as this already maps relatively well to our own canonical categories. The case of \"multitaste\" is treated separately and gets mapped onto one of the canonical tastes where possible. Else it is labeled as \"undefined\"."
      ],
      "metadata": {
        "id": "rLR2LdSSdD6g"
      }
    },
    {
      "cell_type": "code",
      "source": [
        "FLAVOR_CATEGORIES_map_chemtastes = {\n",
        "    'Sweetness' : 'sweet',\n",
        "    'Bitterness': 'bitter',\n",
        "    'Umaminess' : 'umami',\n",
        "    'Sourness': 'sour'\n",
        "}\n",
        "\n",
        "FLAVOR_CATEGORIES_map_chemtastes_multiflavors = {\n",
        "    'Acid' : 'sour',\n",
        "    'Bitter' : 'bitter',\n",
        "    'Moderately bitter' : 'bitter',\n",
        "    'Sour' : 'sour',\n",
        "    'Sweet' : 'sweet',\n",
        "    'Umami' : 'umami'\n",
        "}\n",
        "\n",
        "def map_flavor(row):\n",
        "    class_taste = row[\"Class taste\"]\n",
        "    if class_taste == \"Multitaste\":\n",
        "        return 'multi'\n",
        "    else:\n",
        "        return [FLAVOR_CATEGORIES_map_chemtastes.get(class_taste, 'undefined')]\n",
        "\n",
        "chemtastes_db['Canonicalized Taste Intermediary'] = chemtastes_db.apply(map_flavor, axis=1)"
      ],
      "metadata": {
        "id": "SVuAiehT08D4"
      },
      "execution_count": 309,
      "outputs": []
    },
    {
      "cell_type": "markdown",
      "source": [
        "This code handles the case of multitaste where the additional column \"Taste\" is considered. The mapping happens in accordance to the code above."
      ],
      "metadata": {
        "id": "Ch9B-bXSd3fU"
      }
    },
    {
      "cell_type": "code",
      "source": [
        "import re\n",
        "\n",
        "def split_flavors(text):\n",
        "    split_list = re.split(r'[;,/]', text)\n",
        "    return [word.strip() for word in split_list if word.strip()]\n",
        "\n",
        "chemtastes_db.loc[chemtastes_db[\"Class taste\"].apply(lambda x: x[0] == \"Multitaste\"), \"Taste\"] = chemtastes_db.loc[chemtastes_db[\"Class taste\"].apply(lambda x: x[0] == \"Multitaste\"), \"Taste\"].apply(split_flavors)\n",
        "\n",
        "multitastes = chemtastes_db[chemtastes_db[\"Class taste\"].apply(lambda x: x[0] == \"Multitaste\")]\n",
        "\n",
        "def translate_flavors(item_list):\n",
        "    return [FLAVOR_CATEGORIES_map_chemtastes_multiflavors.get(item, 'undefined') for item in item_list]\n",
        "\n",
        "for idx, row in chemtastes_db[chemtastes_db['Canonicalized Taste Intermediary'] == 'multi'].iterrows():\n",
        "    chemtastes_db.at[idx, \"Canonicalized Taste Intermediary\"] = translate_flavors(row[\"Taste\"])\n"
      ],
      "metadata": {
        "id": "c8-6dJ2Q1PRz"
      },
      "execution_count": 310,
      "outputs": []
    },
    {
      "cell_type": "markdown",
      "source": [
        "The list of tastes is then flattened and made fully canonical."
      ],
      "metadata": {
        "id": "xsCyj4jmeMEG"
      }
    },
    {
      "cell_type": "code",
      "source": [
        "chemtastes_db = tidy_canonical_flavors(chemtastes_db)\n",
        "print(distinct_flavors(chemtastes_db, \"Canonicalized Taste\"))"
      ],
      "metadata": {
        "colab": {
          "base_uri": "https://localhost:8080/"
        },
        "id": "4Xz10ehj1P7v",
        "outputId": "a30a076b-cc41-4ca7-c939-22aa1ac9be8d"
      },
      "execution_count": 311,
      "outputs": [
        {
          "output_type": "stream",
          "name": "stdout",
          "text": [
            "{'undefined': 2090, 'bitter': 1183, 'sweet': 977, 'umami': 98, 'sour': 38}\n"
          ]
        }
      ]
    },
    {
      "cell_type": "markdown",
      "source": [
        "Canonicalize the SMILES and give the source and original labels. Both class taste and taste are considered original labels in this case.  "
      ],
      "metadata": {
        "id": "W4pp_S2xeRu8"
      }
    },
    {
      "cell_type": "code",
      "source": [
        "chemtastes_db = canonicalize_smiles_column(chemtastes_db, 'canonical SMILES')\n",
        "chemtastes_db['Source'] = 'ChemTastesDB'\n",
        "chemtastes_db['Original Labels'] = chemtastes_db['Taste'] + ', ' + chemtastes_db['Class taste']"
      ],
      "metadata": {
        "id": "ytTNPp5e1Z0f"
      },
      "execution_count": 312,
      "outputs": []
    },
    {
      "cell_type": "code",
      "source": [
        "# save this database as an intermediate csv file\n",
        "chemtastes_db.to_csv('chemtastes_db.csv', index=False)"
      ],
      "metadata": {
        "id": "0-qLBNFD1g1w"
      },
      "execution_count": 313,
      "outputs": []
    },
    {
      "cell_type": "markdown",
      "source": [
        "Concatenate ChemTastesDB to the final dataframe."
      ],
      "metadata": {
        "id": "eV2Lwekweg5l"
      }
    },
    {
      "cell_type": "code",
      "source": [
        "chemtastes_db_subset = chemtastes_db[['Canonicalized SMILES', 'Canonicalized Taste', 'Original Labels', 'Source']]\n",
        "chemtastes_db_subset = chemtastes_db_subset.reset_index(drop=True)\n",
        "\n",
        "fart_uncurated = pd.concat([fart_uncurated, chemtastes_db_subset], axis=0, ignore_index=True)"
      ],
      "metadata": {
        "id": "G9zfwpnV1hWg"
      },
      "execution_count": 356,
      "outputs": []
    },
    {
      "cell_type": "code",
      "source": [
        "# updates lists for final plot\n",
        "full_dataset_size.append(len(fart_uncurated))\n",
        "dataset_stage.append('ChemtastesDB')\n",
        "len(fart_uncurated)"
      ],
      "metadata": {
        "colab": {
          "base_uri": "https://localhost:8080/"
        },
        "id": "Eb4BXDrSaQCI",
        "outputId": "5affc529-0af6-47ea-95cf-f77290614258"
      },
      "execution_count": 357,
      "outputs": [
        {
          "output_type": "execute_result",
          "data": {
            "text/plain": [
              "4386"
            ]
          },
          "metadata": {},
          "execution_count": 357
        }
      ]
    },
    {
      "cell_type": "markdown",
      "source": [
        "## Flavor DB"
      ],
      "metadata": {
        "id": "0KMBcvN4zygL"
      }
    },
    {
      "cell_type": "markdown",
      "source": [
        "Here we extract the data from flavordb via web scraping. The database contains a \"Taste\" column which is unreliable however and mostly empty. We therefore focus on the \"Flavor Profile\" which contains a mixture of fragrance and taste cues. In our relabelling scheme we try to only include adjectives which are clearly taste associated."
      ],
      "metadata": {
        "id": "OFAqXy0R87A4"
      }
    },
    {
      "cell_type": "code",
      "source": [
        "base_url = \"https://cosylab.iiitd.edu.in/flavordb/molecules?advance_search=true&num_rings=0%3A10&page=\"\n",
        "\n",
        "molecules = []\n",
        "\n",
        "for page in range(1, 513):\n",
        "    url = f\"{base_url}{page}\"\n",
        "    response = requests.get(url)\n",
        "\n",
        "    if response.status_code == 200:\n",
        "        soup = BeautifulSoup(response.text, 'html.parser')\n",
        "\n",
        "        for row in soup.select(\"table#molecules tbody tr\"):\n",
        "            cols = row.find_all(\"td\")\n",
        "            if len(cols) >= 2:\n",
        "                name = cols[0].text.strip()\n",
        "                pubchem_id = cols[1].text.strip()\n",
        "                flavor = cols[2].text.strip()\n",
        "                molecules.append((name, pubchem_id, flavor))\n",
        "    else:\n",
        "        print(f\"Failed to retrieve page {page}\")\n",
        "\n",
        "    print(f\"Processed page {page}/{512}\")\n",
        "\n",
        "print(f\"Total molecules scraped: {len(molecules)}\")\n",
        "\n",
        "import pandas as pd\n",
        "\n",
        "df = pd.DataFrame(molecules, columns=['Name', 'PubChem ID', 'Flavor'])\n",
        "df.to_csv('flavor_db_raw.csv', index=False)\n",
        "print(\"Data saved to flavor_db_raw.csv\")"
      ],
      "metadata": {
        "colab": {
          "base_uri": "https://localhost:8080/"
        },
        "collapsed": true,
        "id": "_XnmkPz674P6",
        "outputId": "f5d91d9c-2c44-4556-addd-71d579472fce"
      },
      "execution_count": 194,
      "outputs": [
        {
          "output_type": "stream",
          "name": "stdout",
          "text": [
            "Processed page 1/512\n",
            "Processed page 2/512\n",
            "Processed page 3/512\n",
            "Processed page 4/512\n",
            "Processed page 5/512\n",
            "Processed page 6/512\n",
            "Processed page 7/512\n",
            "Processed page 8/512\n",
            "Processed page 9/512\n",
            "Processed page 10/512\n",
            "Processed page 11/512\n",
            "Processed page 12/512\n",
            "Processed page 13/512\n",
            "Processed page 14/512\n",
            "Processed page 15/512\n",
            "Processed page 16/512\n",
            "Processed page 17/512\n",
            "Processed page 18/512\n",
            "Processed page 19/512\n",
            "Processed page 20/512\n",
            "Processed page 21/512\n",
            "Processed page 22/512\n",
            "Processed page 23/512\n",
            "Processed page 24/512\n",
            "Processed page 25/512\n",
            "Processed page 26/512\n",
            "Processed page 27/512\n",
            "Processed page 28/512\n",
            "Processed page 29/512\n",
            "Processed page 30/512\n",
            "Processed page 31/512\n",
            "Processed page 32/512\n",
            "Processed page 33/512\n",
            "Processed page 34/512\n",
            "Processed page 35/512\n",
            "Processed page 36/512\n",
            "Processed page 37/512\n",
            "Processed page 38/512\n",
            "Processed page 39/512\n",
            "Processed page 40/512\n",
            "Processed page 41/512\n",
            "Processed page 42/512\n",
            "Processed page 43/512\n",
            "Processed page 44/512\n",
            "Processed page 45/512\n",
            "Processed page 46/512\n",
            "Processed page 47/512\n",
            "Processed page 48/512\n",
            "Processed page 49/512\n",
            "Processed page 50/512\n",
            "Processed page 51/512\n",
            "Processed page 52/512\n",
            "Processed page 53/512\n",
            "Processed page 54/512\n",
            "Processed page 55/512\n",
            "Processed page 56/512\n",
            "Processed page 57/512\n",
            "Processed page 58/512\n",
            "Processed page 59/512\n",
            "Processed page 60/512\n",
            "Processed page 61/512\n",
            "Processed page 62/512\n",
            "Processed page 63/512\n",
            "Processed page 64/512\n",
            "Processed page 65/512\n",
            "Processed page 66/512\n",
            "Processed page 67/512\n",
            "Processed page 68/512\n",
            "Processed page 69/512\n",
            "Processed page 70/512\n",
            "Processed page 71/512\n",
            "Processed page 72/512\n",
            "Processed page 73/512\n",
            "Processed page 74/512\n",
            "Processed page 75/512\n",
            "Processed page 76/512\n",
            "Processed page 77/512\n",
            "Processed page 78/512\n",
            "Processed page 79/512\n",
            "Processed page 80/512\n",
            "Processed page 81/512\n",
            "Processed page 82/512\n",
            "Processed page 83/512\n",
            "Processed page 84/512\n",
            "Processed page 85/512\n",
            "Processed page 86/512\n",
            "Processed page 87/512\n",
            "Processed page 88/512\n",
            "Processed page 89/512\n",
            "Processed page 90/512\n",
            "Processed page 91/512\n",
            "Processed page 92/512\n",
            "Processed page 93/512\n",
            "Processed page 94/512\n",
            "Processed page 95/512\n",
            "Processed page 96/512\n",
            "Processed page 97/512\n",
            "Processed page 98/512\n",
            "Processed page 99/512\n",
            "Processed page 100/512\n",
            "Processed page 101/512\n",
            "Processed page 102/512\n",
            "Processed page 103/512\n",
            "Processed page 104/512\n",
            "Processed page 105/512\n",
            "Processed page 106/512\n",
            "Processed page 107/512\n",
            "Processed page 108/512\n",
            "Processed page 109/512\n",
            "Processed page 110/512\n",
            "Processed page 111/512\n",
            "Processed page 112/512\n",
            "Processed page 113/512\n",
            "Processed page 114/512\n",
            "Processed page 115/512\n",
            "Processed page 116/512\n",
            "Processed page 117/512\n",
            "Processed page 118/512\n",
            "Processed page 119/512\n",
            "Processed page 120/512\n",
            "Processed page 121/512\n",
            "Processed page 122/512\n",
            "Processed page 123/512\n",
            "Processed page 124/512\n",
            "Processed page 125/512\n",
            "Processed page 126/512\n",
            "Processed page 127/512\n",
            "Processed page 128/512\n",
            "Processed page 129/512\n",
            "Processed page 130/512\n",
            "Processed page 131/512\n",
            "Processed page 132/512\n",
            "Processed page 133/512\n",
            "Processed page 134/512\n",
            "Processed page 135/512\n",
            "Processed page 136/512\n",
            "Processed page 137/512\n",
            "Processed page 138/512\n",
            "Processed page 139/512\n",
            "Processed page 140/512\n",
            "Processed page 141/512\n",
            "Processed page 142/512\n",
            "Processed page 143/512\n",
            "Processed page 144/512\n",
            "Processed page 145/512\n",
            "Processed page 146/512\n",
            "Processed page 147/512\n",
            "Processed page 148/512\n",
            "Processed page 149/512\n",
            "Processed page 150/512\n",
            "Processed page 151/512\n",
            "Processed page 152/512\n",
            "Processed page 153/512\n",
            "Processed page 154/512\n",
            "Processed page 155/512\n",
            "Processed page 156/512\n",
            "Processed page 157/512\n",
            "Processed page 158/512\n",
            "Processed page 159/512\n",
            "Processed page 160/512\n",
            "Processed page 161/512\n",
            "Processed page 162/512\n",
            "Processed page 163/512\n",
            "Processed page 164/512\n",
            "Processed page 165/512\n",
            "Processed page 166/512\n",
            "Processed page 167/512\n",
            "Processed page 168/512\n",
            "Processed page 169/512\n",
            "Processed page 170/512\n",
            "Processed page 171/512\n",
            "Processed page 172/512\n",
            "Processed page 173/512\n",
            "Processed page 174/512\n",
            "Processed page 175/512\n",
            "Processed page 176/512\n",
            "Processed page 177/512\n",
            "Processed page 178/512\n",
            "Processed page 179/512\n",
            "Processed page 180/512\n",
            "Processed page 181/512\n",
            "Processed page 182/512\n",
            "Processed page 183/512\n",
            "Processed page 184/512\n",
            "Processed page 185/512\n",
            "Processed page 186/512\n",
            "Processed page 187/512\n",
            "Processed page 188/512\n",
            "Processed page 189/512\n",
            "Processed page 190/512\n",
            "Processed page 191/512\n",
            "Processed page 192/512\n",
            "Processed page 193/512\n",
            "Processed page 194/512\n",
            "Processed page 195/512\n",
            "Processed page 196/512\n",
            "Processed page 197/512\n",
            "Processed page 198/512\n",
            "Processed page 199/512\n",
            "Processed page 200/512\n",
            "Processed page 201/512\n",
            "Processed page 202/512\n",
            "Processed page 203/512\n",
            "Processed page 204/512\n",
            "Processed page 205/512\n",
            "Processed page 206/512\n",
            "Processed page 207/512\n",
            "Processed page 208/512\n",
            "Processed page 209/512\n",
            "Processed page 210/512\n",
            "Processed page 211/512\n",
            "Processed page 212/512\n",
            "Processed page 213/512\n",
            "Processed page 214/512\n",
            "Processed page 215/512\n",
            "Processed page 216/512\n",
            "Processed page 217/512\n",
            "Processed page 218/512\n",
            "Processed page 219/512\n",
            "Processed page 220/512\n",
            "Processed page 221/512\n",
            "Processed page 222/512\n",
            "Processed page 223/512\n",
            "Processed page 224/512\n",
            "Processed page 225/512\n",
            "Processed page 226/512\n",
            "Processed page 227/512\n",
            "Processed page 228/512\n",
            "Processed page 229/512\n",
            "Processed page 230/512\n",
            "Processed page 231/512\n",
            "Processed page 232/512\n",
            "Processed page 233/512\n",
            "Processed page 234/512\n",
            "Processed page 235/512\n",
            "Processed page 236/512\n",
            "Processed page 237/512\n",
            "Processed page 238/512\n",
            "Processed page 239/512\n",
            "Processed page 240/512\n",
            "Processed page 241/512\n",
            "Processed page 242/512\n",
            "Processed page 243/512\n",
            "Processed page 244/512\n",
            "Processed page 245/512\n",
            "Processed page 246/512\n",
            "Processed page 247/512\n",
            "Processed page 248/512\n",
            "Processed page 249/512\n",
            "Processed page 250/512\n",
            "Processed page 251/512\n",
            "Processed page 252/512\n",
            "Processed page 253/512\n",
            "Processed page 254/512\n",
            "Processed page 255/512\n",
            "Processed page 256/512\n",
            "Processed page 257/512\n",
            "Processed page 258/512\n",
            "Processed page 259/512\n",
            "Processed page 260/512\n",
            "Processed page 261/512\n",
            "Processed page 262/512\n",
            "Processed page 263/512\n",
            "Processed page 264/512\n",
            "Processed page 265/512\n",
            "Processed page 266/512\n",
            "Processed page 267/512\n",
            "Processed page 268/512\n",
            "Processed page 269/512\n",
            "Processed page 270/512\n",
            "Processed page 271/512\n",
            "Processed page 272/512\n",
            "Processed page 273/512\n",
            "Processed page 274/512\n",
            "Processed page 275/512\n",
            "Processed page 276/512\n",
            "Processed page 277/512\n",
            "Processed page 278/512\n",
            "Processed page 279/512\n",
            "Processed page 280/512\n",
            "Processed page 281/512\n",
            "Processed page 282/512\n",
            "Processed page 283/512\n",
            "Processed page 284/512\n",
            "Processed page 285/512\n",
            "Processed page 286/512\n",
            "Processed page 287/512\n",
            "Processed page 288/512\n",
            "Processed page 289/512\n",
            "Processed page 290/512\n",
            "Processed page 291/512\n",
            "Processed page 292/512\n",
            "Processed page 293/512\n",
            "Processed page 294/512\n",
            "Processed page 295/512\n",
            "Processed page 296/512\n",
            "Processed page 297/512\n",
            "Processed page 298/512\n",
            "Processed page 299/512\n",
            "Processed page 300/512\n",
            "Processed page 301/512\n",
            "Processed page 302/512\n",
            "Processed page 303/512\n",
            "Processed page 304/512\n",
            "Processed page 305/512\n",
            "Processed page 306/512\n",
            "Processed page 307/512\n",
            "Processed page 308/512\n",
            "Processed page 309/512\n",
            "Processed page 310/512\n",
            "Processed page 311/512\n",
            "Processed page 312/512\n",
            "Processed page 313/512\n",
            "Processed page 314/512\n",
            "Processed page 315/512\n",
            "Processed page 316/512\n",
            "Processed page 317/512\n",
            "Processed page 318/512\n",
            "Processed page 319/512\n",
            "Processed page 320/512\n",
            "Processed page 321/512\n",
            "Processed page 322/512\n",
            "Processed page 323/512\n",
            "Processed page 324/512\n",
            "Processed page 325/512\n",
            "Processed page 326/512\n",
            "Processed page 327/512\n",
            "Processed page 328/512\n",
            "Processed page 329/512\n",
            "Processed page 330/512\n",
            "Processed page 331/512\n",
            "Processed page 332/512\n",
            "Processed page 333/512\n",
            "Processed page 334/512\n",
            "Processed page 335/512\n",
            "Processed page 336/512\n",
            "Processed page 337/512\n",
            "Processed page 338/512\n",
            "Processed page 339/512\n",
            "Processed page 340/512\n",
            "Processed page 341/512\n",
            "Processed page 342/512\n",
            "Processed page 343/512\n",
            "Processed page 344/512\n",
            "Processed page 345/512\n",
            "Processed page 346/512\n",
            "Processed page 347/512\n",
            "Processed page 348/512\n",
            "Processed page 349/512\n",
            "Processed page 350/512\n",
            "Processed page 351/512\n",
            "Processed page 352/512\n",
            "Processed page 353/512\n",
            "Processed page 354/512\n",
            "Processed page 355/512\n",
            "Processed page 356/512\n",
            "Processed page 357/512\n",
            "Processed page 358/512\n",
            "Processed page 359/512\n",
            "Processed page 360/512\n",
            "Processed page 361/512\n",
            "Processed page 362/512\n",
            "Processed page 363/512\n",
            "Processed page 364/512\n",
            "Processed page 365/512\n",
            "Processed page 366/512\n",
            "Processed page 367/512\n",
            "Processed page 368/512\n",
            "Processed page 369/512\n",
            "Processed page 370/512\n",
            "Processed page 371/512\n",
            "Processed page 372/512\n",
            "Processed page 373/512\n",
            "Processed page 374/512\n",
            "Processed page 375/512\n",
            "Processed page 376/512\n",
            "Processed page 377/512\n",
            "Processed page 378/512\n",
            "Processed page 379/512\n",
            "Processed page 380/512\n",
            "Processed page 381/512\n",
            "Processed page 382/512\n",
            "Processed page 383/512\n",
            "Processed page 384/512\n",
            "Processed page 385/512\n",
            "Processed page 386/512\n",
            "Processed page 387/512\n",
            "Processed page 388/512\n",
            "Processed page 389/512\n",
            "Processed page 390/512\n",
            "Processed page 391/512\n",
            "Processed page 392/512\n",
            "Processed page 393/512\n",
            "Processed page 394/512\n",
            "Processed page 395/512\n",
            "Processed page 396/512\n",
            "Processed page 397/512\n",
            "Processed page 398/512\n",
            "Processed page 399/512\n",
            "Processed page 400/512\n",
            "Processed page 401/512\n",
            "Processed page 402/512\n",
            "Processed page 403/512\n",
            "Processed page 404/512\n",
            "Processed page 405/512\n",
            "Processed page 406/512\n",
            "Processed page 407/512\n",
            "Processed page 408/512\n",
            "Processed page 409/512\n",
            "Processed page 410/512\n",
            "Processed page 411/512\n",
            "Processed page 412/512\n",
            "Processed page 413/512\n",
            "Processed page 414/512\n",
            "Processed page 415/512\n",
            "Processed page 416/512\n",
            "Processed page 417/512\n",
            "Processed page 418/512\n",
            "Processed page 419/512\n",
            "Processed page 420/512\n",
            "Processed page 421/512\n",
            "Processed page 422/512\n",
            "Processed page 423/512\n",
            "Processed page 424/512\n",
            "Processed page 425/512\n",
            "Processed page 426/512\n",
            "Processed page 427/512\n",
            "Processed page 428/512\n",
            "Processed page 429/512\n",
            "Processed page 430/512\n",
            "Processed page 431/512\n",
            "Processed page 432/512\n",
            "Processed page 433/512\n",
            "Processed page 434/512\n",
            "Processed page 435/512\n",
            "Processed page 436/512\n",
            "Processed page 437/512\n",
            "Processed page 438/512\n",
            "Processed page 439/512\n",
            "Processed page 440/512\n",
            "Processed page 441/512\n",
            "Processed page 442/512\n",
            "Processed page 443/512\n",
            "Processed page 444/512\n",
            "Processed page 445/512\n",
            "Processed page 446/512\n",
            "Processed page 447/512\n",
            "Processed page 448/512\n",
            "Processed page 449/512\n",
            "Processed page 450/512\n",
            "Processed page 451/512\n",
            "Processed page 452/512\n",
            "Processed page 453/512\n",
            "Processed page 454/512\n",
            "Processed page 455/512\n",
            "Processed page 456/512\n",
            "Processed page 457/512\n",
            "Processed page 458/512\n",
            "Processed page 459/512\n",
            "Processed page 460/512\n",
            "Processed page 461/512\n",
            "Processed page 462/512\n",
            "Processed page 463/512\n",
            "Processed page 464/512\n",
            "Processed page 465/512\n",
            "Processed page 466/512\n",
            "Processed page 467/512\n",
            "Processed page 468/512\n",
            "Processed page 469/512\n",
            "Processed page 470/512\n",
            "Processed page 471/512\n",
            "Processed page 472/512\n",
            "Processed page 473/512\n",
            "Processed page 474/512\n",
            "Processed page 475/512\n",
            "Processed page 476/512\n",
            "Processed page 477/512\n",
            "Processed page 478/512\n",
            "Processed page 479/512\n",
            "Processed page 480/512\n",
            "Processed page 481/512\n",
            "Processed page 482/512\n",
            "Processed page 483/512\n",
            "Processed page 484/512\n",
            "Processed page 485/512\n",
            "Processed page 486/512\n",
            "Processed page 487/512\n",
            "Processed page 488/512\n",
            "Processed page 489/512\n",
            "Processed page 490/512\n",
            "Processed page 491/512\n",
            "Processed page 492/512\n",
            "Processed page 493/512\n",
            "Processed page 494/512\n",
            "Processed page 495/512\n",
            "Processed page 496/512\n",
            "Processed page 497/512\n",
            "Processed page 498/512\n",
            "Processed page 499/512\n",
            "Processed page 500/512\n",
            "Processed page 501/512\n",
            "Processed page 502/512\n",
            "Processed page 503/512\n",
            "Processed page 504/512\n",
            "Processed page 505/512\n",
            "Processed page 506/512\n",
            "Processed page 507/512\n",
            "Processed page 508/512\n",
            "Processed page 509/512\n",
            "Processed page 510/512\n",
            "Processed page 511/512\n",
            "Processed page 512/512\n",
            "Total molecules scraped: 25559\n",
            "Data saved to flavor_db_raw.csv\n"
          ]
        }
      ]
    },
    {
      "cell_type": "markdown",
      "source": [
        "Now we enrich the database to also contain a SMILES columns instead of just the names of molecules."
      ],
      "metadata": {
        "id": "tl2xqjbx9aJq"
      }
    },
    {
      "cell_type": "code",
      "source": [
        "def get_name_smiles(pubchem_id):\n",
        "    try:\n",
        "        compound = pcp.Compound.from_cid(pubchem_id)\n",
        "        return compound.canonical_smiles, compound.iupac_name\n",
        "    except Exception as e:\n",
        "        print(f\"Error fetching data for CID {pubchem_id}: {e}\")\n",
        "        return None, None\n",
        "\n",
        "\n",
        "def process_batch(batch):\n",
        "    \"\"\"Process a batch of PubChem IDs.\"\"\"\n",
        "    tqdm.pandas()\n",
        "    batch['SMILES_IUPAC'] = batch['PubChem ID'].progress_apply(lambda x: get_name_smiles(x))\n",
        "    batch['SMILES'], batch['IUPAC Name'] = zip(*batch['SMILES_IUPAC'])\n",
        "    batch.drop(columns=['SMILES_IUPAC'], inplace=True)\n",
        "    return batch\n",
        "\n",
        "\n",
        "# Load the original dataset\n",
        "df_original = pd.read_csv('flavor_db_raw.csv')  # Path to your full dataset\n",
        "\n",
        "# Try to load the partially processed dataset; if not found, start with an empty DataFrame\n",
        "try:\n",
        "    df_processed = pd.read_csv('flavor_db_scraped.csv')  # current progress\n",
        "    print(\"Loaded partially processed data.\")\n",
        "except FileNotFoundError:\n",
        "    df_processed = pd.DataFrame(columns=df_original.columns.tolist() + ['SMILES', 'IUPAC Name'])\n",
        "    print(\"Starting from scratch.\")\n",
        "\n",
        "processed_ids = set(df_processed['PubChem ID'])\n",
        "df_unprocessed = df_original[~df_original['PubChem ID'].isin(processed_ids)]\n",
        "\n",
        "# Batch processing settings\n",
        "batch_size = 500\n",
        "num_batches = len(df_unprocessed) // batch_size + (0 if len(df_unprocessed) % batch_size == 0 else 1)\n",
        "\n",
        "for i in range(num_batches):\n",
        "    batch_start = i * batch_size\n",
        "    batch_end = min((i + 1) * batch_size, len(df_unprocessed))\n",
        "    print(f\"Processing batch {i + 1}/{num_batches}: IDs {batch_start} to {batch_end}\")\n",
        "\n",
        "    batch = df_unprocessed.iloc[batch_start:batch_end]\n",
        "    processed_batch = process_batch(batch)\n",
        "\n",
        "    df_processed = pd.concat([df_processed, processed_batch], ignore_index=True)\n",
        "\n",
        "df_processed.to_csv('flavor_db_scraped.csv', index=False)\n",
        "\n",
        "print(\"Data processing complete. All data saved.\")\n",
        "flavor_db = df"
      ],
      "metadata": {
        "colab": {
          "base_uri": "https://localhost:8080/"
        },
        "collapsed": true,
        "id": "4rcpIyE682Wt",
        "outputId": "075d12e8-2365-47e8-9127-9a2e847d599a"
      },
      "execution_count": 198,
      "outputs": [
        {
          "output_type": "stream",
          "name": "stdout",
          "text": [
            "Starting from scratch.\n",
            "Processing batch 1/52: IDs 0 to 500\n"
          ]
        },
        {
          "output_type": "stream",
          "name": "stderr",
          "text": [
            "100%|██████████| 500/500 [02:34<00:00,  3.25it/s]\n",
            "<ipython-input-198-44630f5fcce5>:13: SettingWithCopyWarning: \n",
            "A value is trying to be set on a copy of a slice from a DataFrame.\n",
            "Try using .loc[row_indexer,col_indexer] = value instead\n",
            "\n",
            "See the caveats in the documentation: https://pandas.pydata.org/pandas-docs/stable/user_guide/indexing.html#returning-a-view-versus-a-copy\n",
            "  batch['SMILES_IUPAC'] = batch['PubChem ID'].progress_apply(lambda x: get_name_smiles(x))\n",
            "<ipython-input-198-44630f5fcce5>:14: SettingWithCopyWarning: \n",
            "A value is trying to be set on a copy of a slice from a DataFrame.\n",
            "Try using .loc[row_indexer,col_indexer] = value instead\n",
            "\n",
            "See the caveats in the documentation: https://pandas.pydata.org/pandas-docs/stable/user_guide/indexing.html#returning-a-view-versus-a-copy\n",
            "  batch['SMILES'], batch['IUPAC Name'] = zip(*batch['SMILES_IUPAC'])\n",
            "<ipython-input-198-44630f5fcce5>:14: SettingWithCopyWarning: \n",
            "A value is trying to be set on a copy of a slice from a DataFrame.\n",
            "Try using .loc[row_indexer,col_indexer] = value instead\n",
            "\n",
            "See the caveats in the documentation: https://pandas.pydata.org/pandas-docs/stable/user_guide/indexing.html#returning-a-view-versus-a-copy\n",
            "  batch['SMILES'], batch['IUPAC Name'] = zip(*batch['SMILES_IUPAC'])\n",
            "<ipython-input-198-44630f5fcce5>:15: SettingWithCopyWarning: \n",
            "A value is trying to be set on a copy of a slice from a DataFrame\n",
            "\n",
            "See the caveats in the documentation: https://pandas.pydata.org/pandas-docs/stable/user_guide/indexing.html#returning-a-view-versus-a-copy\n",
            "  batch.drop(columns=['SMILES_IUPAC'], inplace=True)\n"
          ]
        },
        {
          "output_type": "stream",
          "name": "stdout",
          "text": [
            "Processing batch 2/52: IDs 500 to 1000\n"
          ]
        },
        {
          "output_type": "stream",
          "name": "stderr",
          "text": [
            "100%|██████████| 500/500 [02:32<00:00,  3.29it/s]\n",
            "<ipython-input-198-44630f5fcce5>:13: SettingWithCopyWarning: \n",
            "A value is trying to be set on a copy of a slice from a DataFrame.\n",
            "Try using .loc[row_indexer,col_indexer] = value instead\n",
            "\n",
            "See the caveats in the documentation: https://pandas.pydata.org/pandas-docs/stable/user_guide/indexing.html#returning-a-view-versus-a-copy\n",
            "  batch['SMILES_IUPAC'] = batch['PubChem ID'].progress_apply(lambda x: get_name_smiles(x))\n",
            "<ipython-input-198-44630f5fcce5>:14: SettingWithCopyWarning: \n",
            "A value is trying to be set on a copy of a slice from a DataFrame.\n",
            "Try using .loc[row_indexer,col_indexer] = value instead\n",
            "\n",
            "See the caveats in the documentation: https://pandas.pydata.org/pandas-docs/stable/user_guide/indexing.html#returning-a-view-versus-a-copy\n",
            "  batch['SMILES'], batch['IUPAC Name'] = zip(*batch['SMILES_IUPAC'])\n",
            "<ipython-input-198-44630f5fcce5>:14: SettingWithCopyWarning: \n",
            "A value is trying to be set on a copy of a slice from a DataFrame.\n",
            "Try using .loc[row_indexer,col_indexer] = value instead\n",
            "\n",
            "See the caveats in the documentation: https://pandas.pydata.org/pandas-docs/stable/user_guide/indexing.html#returning-a-view-versus-a-copy\n",
            "  batch['SMILES'], batch['IUPAC Name'] = zip(*batch['SMILES_IUPAC'])\n",
            "<ipython-input-198-44630f5fcce5>:15: SettingWithCopyWarning: \n",
            "A value is trying to be set on a copy of a slice from a DataFrame\n",
            "\n",
            "See the caveats in the documentation: https://pandas.pydata.org/pandas-docs/stable/user_guide/indexing.html#returning-a-view-versus-a-copy\n",
            "  batch.drop(columns=['SMILES_IUPAC'], inplace=True)\n"
          ]
        },
        {
          "output_type": "stream",
          "name": "stdout",
          "text": [
            "Processing batch 3/52: IDs 1000 to 1500\n"
          ]
        },
        {
          "output_type": "stream",
          "name": "stderr",
          "text": [
            "100%|██████████| 500/500 [02:34<00:00,  3.24it/s]\n",
            "<ipython-input-198-44630f5fcce5>:13: SettingWithCopyWarning: \n",
            "A value is trying to be set on a copy of a slice from a DataFrame.\n",
            "Try using .loc[row_indexer,col_indexer] = value instead\n",
            "\n",
            "See the caveats in the documentation: https://pandas.pydata.org/pandas-docs/stable/user_guide/indexing.html#returning-a-view-versus-a-copy\n",
            "  batch['SMILES_IUPAC'] = batch['PubChem ID'].progress_apply(lambda x: get_name_smiles(x))\n",
            "<ipython-input-198-44630f5fcce5>:14: SettingWithCopyWarning: \n",
            "A value is trying to be set on a copy of a slice from a DataFrame.\n",
            "Try using .loc[row_indexer,col_indexer] = value instead\n",
            "\n",
            "See the caveats in the documentation: https://pandas.pydata.org/pandas-docs/stable/user_guide/indexing.html#returning-a-view-versus-a-copy\n",
            "  batch['SMILES'], batch['IUPAC Name'] = zip(*batch['SMILES_IUPAC'])\n",
            "<ipython-input-198-44630f5fcce5>:14: SettingWithCopyWarning: \n",
            "A value is trying to be set on a copy of a slice from a DataFrame.\n",
            "Try using .loc[row_indexer,col_indexer] = value instead\n",
            "\n",
            "See the caveats in the documentation: https://pandas.pydata.org/pandas-docs/stable/user_guide/indexing.html#returning-a-view-versus-a-copy\n",
            "  batch['SMILES'], batch['IUPAC Name'] = zip(*batch['SMILES_IUPAC'])\n",
            "<ipython-input-198-44630f5fcce5>:15: SettingWithCopyWarning: \n",
            "A value is trying to be set on a copy of a slice from a DataFrame\n",
            "\n",
            "See the caveats in the documentation: https://pandas.pydata.org/pandas-docs/stable/user_guide/indexing.html#returning-a-view-versus-a-copy\n",
            "  batch.drop(columns=['SMILES_IUPAC'], inplace=True)\n"
          ]
        },
        {
          "output_type": "stream",
          "name": "stdout",
          "text": [
            "Processing batch 4/52: IDs 1500 to 2000\n"
          ]
        },
        {
          "output_type": "stream",
          "name": "stderr",
          "text": [
            "100%|██████████| 500/500 [02:36<00:00,  3.20it/s]\n",
            "<ipython-input-198-44630f5fcce5>:13: SettingWithCopyWarning: \n",
            "A value is trying to be set on a copy of a slice from a DataFrame.\n",
            "Try using .loc[row_indexer,col_indexer] = value instead\n",
            "\n",
            "See the caveats in the documentation: https://pandas.pydata.org/pandas-docs/stable/user_guide/indexing.html#returning-a-view-versus-a-copy\n",
            "  batch['SMILES_IUPAC'] = batch['PubChem ID'].progress_apply(lambda x: get_name_smiles(x))\n",
            "<ipython-input-198-44630f5fcce5>:14: SettingWithCopyWarning: \n",
            "A value is trying to be set on a copy of a slice from a DataFrame.\n",
            "Try using .loc[row_indexer,col_indexer] = value instead\n",
            "\n",
            "See the caveats in the documentation: https://pandas.pydata.org/pandas-docs/stable/user_guide/indexing.html#returning-a-view-versus-a-copy\n",
            "  batch['SMILES'], batch['IUPAC Name'] = zip(*batch['SMILES_IUPAC'])\n",
            "<ipython-input-198-44630f5fcce5>:14: SettingWithCopyWarning: \n",
            "A value is trying to be set on a copy of a slice from a DataFrame.\n",
            "Try using .loc[row_indexer,col_indexer] = value instead\n",
            "\n",
            "See the caveats in the documentation: https://pandas.pydata.org/pandas-docs/stable/user_guide/indexing.html#returning-a-view-versus-a-copy\n",
            "  batch['SMILES'], batch['IUPAC Name'] = zip(*batch['SMILES_IUPAC'])\n",
            "<ipython-input-198-44630f5fcce5>:15: SettingWithCopyWarning: \n",
            "A value is trying to be set on a copy of a slice from a DataFrame\n",
            "\n",
            "See the caveats in the documentation: https://pandas.pydata.org/pandas-docs/stable/user_guide/indexing.html#returning-a-view-versus-a-copy\n",
            "  batch.drop(columns=['SMILES_IUPAC'], inplace=True)\n"
          ]
        },
        {
          "output_type": "stream",
          "name": "stdout",
          "text": [
            "Processing batch 5/52: IDs 2000 to 2500\n"
          ]
        },
        {
          "output_type": "stream",
          "name": "stderr",
          "text": [
            "100%|██████████| 500/500 [02:43<00:00,  3.06it/s]\n",
            "<ipython-input-198-44630f5fcce5>:13: SettingWithCopyWarning: \n",
            "A value is trying to be set on a copy of a slice from a DataFrame.\n",
            "Try using .loc[row_indexer,col_indexer] = value instead\n",
            "\n",
            "See the caveats in the documentation: https://pandas.pydata.org/pandas-docs/stable/user_guide/indexing.html#returning-a-view-versus-a-copy\n",
            "  batch['SMILES_IUPAC'] = batch['PubChem ID'].progress_apply(lambda x: get_name_smiles(x))\n",
            "<ipython-input-198-44630f5fcce5>:14: SettingWithCopyWarning: \n",
            "A value is trying to be set on a copy of a slice from a DataFrame.\n",
            "Try using .loc[row_indexer,col_indexer] = value instead\n",
            "\n",
            "See the caveats in the documentation: https://pandas.pydata.org/pandas-docs/stable/user_guide/indexing.html#returning-a-view-versus-a-copy\n",
            "  batch['SMILES'], batch['IUPAC Name'] = zip(*batch['SMILES_IUPAC'])\n",
            "<ipython-input-198-44630f5fcce5>:14: SettingWithCopyWarning: \n",
            "A value is trying to be set on a copy of a slice from a DataFrame.\n",
            "Try using .loc[row_indexer,col_indexer] = value instead\n",
            "\n",
            "See the caveats in the documentation: https://pandas.pydata.org/pandas-docs/stable/user_guide/indexing.html#returning-a-view-versus-a-copy\n",
            "  batch['SMILES'], batch['IUPAC Name'] = zip(*batch['SMILES_IUPAC'])\n",
            "<ipython-input-198-44630f5fcce5>:15: SettingWithCopyWarning: \n",
            "A value is trying to be set on a copy of a slice from a DataFrame\n",
            "\n",
            "See the caveats in the documentation: https://pandas.pydata.org/pandas-docs/stable/user_guide/indexing.html#returning-a-view-versus-a-copy\n",
            "  batch.drop(columns=['SMILES_IUPAC'], inplace=True)\n"
          ]
        },
        {
          "output_type": "stream",
          "name": "stdout",
          "text": [
            "Processing batch 6/52: IDs 2500 to 3000\n"
          ]
        },
        {
          "output_type": "stream",
          "name": "stderr",
          "text": [
            "100%|██████████| 500/500 [02:48<00:00,  2.97it/s]\n",
            "<ipython-input-198-44630f5fcce5>:13: SettingWithCopyWarning: \n",
            "A value is trying to be set on a copy of a slice from a DataFrame.\n",
            "Try using .loc[row_indexer,col_indexer] = value instead\n",
            "\n",
            "See the caveats in the documentation: https://pandas.pydata.org/pandas-docs/stable/user_guide/indexing.html#returning-a-view-versus-a-copy\n",
            "  batch['SMILES_IUPAC'] = batch['PubChem ID'].progress_apply(lambda x: get_name_smiles(x))\n",
            "<ipython-input-198-44630f5fcce5>:14: SettingWithCopyWarning: \n",
            "A value is trying to be set on a copy of a slice from a DataFrame.\n",
            "Try using .loc[row_indexer,col_indexer] = value instead\n",
            "\n",
            "See the caveats in the documentation: https://pandas.pydata.org/pandas-docs/stable/user_guide/indexing.html#returning-a-view-versus-a-copy\n",
            "  batch['SMILES'], batch['IUPAC Name'] = zip(*batch['SMILES_IUPAC'])\n",
            "<ipython-input-198-44630f5fcce5>:14: SettingWithCopyWarning: \n",
            "A value is trying to be set on a copy of a slice from a DataFrame.\n",
            "Try using .loc[row_indexer,col_indexer] = value instead\n",
            "\n",
            "See the caveats in the documentation: https://pandas.pydata.org/pandas-docs/stable/user_guide/indexing.html#returning-a-view-versus-a-copy\n",
            "  batch['SMILES'], batch['IUPAC Name'] = zip(*batch['SMILES_IUPAC'])\n",
            "<ipython-input-198-44630f5fcce5>:15: SettingWithCopyWarning: \n",
            "A value is trying to be set on a copy of a slice from a DataFrame\n",
            "\n",
            "See the caveats in the documentation: https://pandas.pydata.org/pandas-docs/stable/user_guide/indexing.html#returning-a-view-versus-a-copy\n",
            "  batch.drop(columns=['SMILES_IUPAC'], inplace=True)\n"
          ]
        },
        {
          "output_type": "stream",
          "name": "stdout",
          "text": [
            "Processing batch 7/52: IDs 3000 to 3500\n"
          ]
        },
        {
          "output_type": "stream",
          "name": "stderr",
          "text": [
            "100%|██████████| 500/500 [02:44<00:00,  3.04it/s]\n",
            "<ipython-input-198-44630f5fcce5>:13: SettingWithCopyWarning: \n",
            "A value is trying to be set on a copy of a slice from a DataFrame.\n",
            "Try using .loc[row_indexer,col_indexer] = value instead\n",
            "\n",
            "See the caveats in the documentation: https://pandas.pydata.org/pandas-docs/stable/user_guide/indexing.html#returning-a-view-versus-a-copy\n",
            "  batch['SMILES_IUPAC'] = batch['PubChem ID'].progress_apply(lambda x: get_name_smiles(x))\n",
            "<ipython-input-198-44630f5fcce5>:14: SettingWithCopyWarning: \n",
            "A value is trying to be set on a copy of a slice from a DataFrame.\n",
            "Try using .loc[row_indexer,col_indexer] = value instead\n",
            "\n",
            "See the caveats in the documentation: https://pandas.pydata.org/pandas-docs/stable/user_guide/indexing.html#returning-a-view-versus-a-copy\n",
            "  batch['SMILES'], batch['IUPAC Name'] = zip(*batch['SMILES_IUPAC'])\n",
            "<ipython-input-198-44630f5fcce5>:14: SettingWithCopyWarning: \n",
            "A value is trying to be set on a copy of a slice from a DataFrame.\n",
            "Try using .loc[row_indexer,col_indexer] = value instead\n",
            "\n",
            "See the caveats in the documentation: https://pandas.pydata.org/pandas-docs/stable/user_guide/indexing.html#returning-a-view-versus-a-copy\n",
            "  batch['SMILES'], batch['IUPAC Name'] = zip(*batch['SMILES_IUPAC'])\n",
            "<ipython-input-198-44630f5fcce5>:15: SettingWithCopyWarning: \n",
            "A value is trying to be set on a copy of a slice from a DataFrame\n",
            "\n",
            "See the caveats in the documentation: https://pandas.pydata.org/pandas-docs/stable/user_guide/indexing.html#returning-a-view-versus-a-copy\n",
            "  batch.drop(columns=['SMILES_IUPAC'], inplace=True)\n"
          ]
        },
        {
          "output_type": "stream",
          "name": "stdout",
          "text": [
            "Processing batch 8/52: IDs 3500 to 4000\n"
          ]
        },
        {
          "output_type": "stream",
          "name": "stderr",
          "text": [
            "100%|██████████| 500/500 [02:52<00:00,  2.91it/s]\n",
            "<ipython-input-198-44630f5fcce5>:13: SettingWithCopyWarning: \n",
            "A value is trying to be set on a copy of a slice from a DataFrame.\n",
            "Try using .loc[row_indexer,col_indexer] = value instead\n",
            "\n",
            "See the caveats in the documentation: https://pandas.pydata.org/pandas-docs/stable/user_guide/indexing.html#returning-a-view-versus-a-copy\n",
            "  batch['SMILES_IUPAC'] = batch['PubChem ID'].progress_apply(lambda x: get_name_smiles(x))\n",
            "<ipython-input-198-44630f5fcce5>:14: SettingWithCopyWarning: \n",
            "A value is trying to be set on a copy of a slice from a DataFrame.\n",
            "Try using .loc[row_indexer,col_indexer] = value instead\n",
            "\n",
            "See the caveats in the documentation: https://pandas.pydata.org/pandas-docs/stable/user_guide/indexing.html#returning-a-view-versus-a-copy\n",
            "  batch['SMILES'], batch['IUPAC Name'] = zip(*batch['SMILES_IUPAC'])\n",
            "<ipython-input-198-44630f5fcce5>:14: SettingWithCopyWarning: \n",
            "A value is trying to be set on a copy of a slice from a DataFrame.\n",
            "Try using .loc[row_indexer,col_indexer] = value instead\n",
            "\n",
            "See the caveats in the documentation: https://pandas.pydata.org/pandas-docs/stable/user_guide/indexing.html#returning-a-view-versus-a-copy\n",
            "  batch['SMILES'], batch['IUPAC Name'] = zip(*batch['SMILES_IUPAC'])\n",
            "<ipython-input-198-44630f5fcce5>:15: SettingWithCopyWarning: \n",
            "A value is trying to be set on a copy of a slice from a DataFrame\n",
            "\n",
            "See the caveats in the documentation: https://pandas.pydata.org/pandas-docs/stable/user_guide/indexing.html#returning-a-view-versus-a-copy\n",
            "  batch.drop(columns=['SMILES_IUPAC'], inplace=True)\n"
          ]
        },
        {
          "output_type": "stream",
          "name": "stdout",
          "text": [
            "Processing batch 9/52: IDs 4000 to 4500\n"
          ]
        },
        {
          "output_type": "stream",
          "name": "stderr",
          "text": [
            "100%|██████████| 500/500 [02:56<00:00,  2.83it/s]\n",
            "<ipython-input-198-44630f5fcce5>:13: SettingWithCopyWarning: \n",
            "A value is trying to be set on a copy of a slice from a DataFrame.\n",
            "Try using .loc[row_indexer,col_indexer] = value instead\n",
            "\n",
            "See the caveats in the documentation: https://pandas.pydata.org/pandas-docs/stable/user_guide/indexing.html#returning-a-view-versus-a-copy\n",
            "  batch['SMILES_IUPAC'] = batch['PubChem ID'].progress_apply(lambda x: get_name_smiles(x))\n",
            "<ipython-input-198-44630f5fcce5>:14: SettingWithCopyWarning: \n",
            "A value is trying to be set on a copy of a slice from a DataFrame.\n",
            "Try using .loc[row_indexer,col_indexer] = value instead\n",
            "\n",
            "See the caveats in the documentation: https://pandas.pydata.org/pandas-docs/stable/user_guide/indexing.html#returning-a-view-versus-a-copy\n",
            "  batch['SMILES'], batch['IUPAC Name'] = zip(*batch['SMILES_IUPAC'])\n",
            "<ipython-input-198-44630f5fcce5>:14: SettingWithCopyWarning: \n",
            "A value is trying to be set on a copy of a slice from a DataFrame.\n",
            "Try using .loc[row_indexer,col_indexer] = value instead\n",
            "\n",
            "See the caveats in the documentation: https://pandas.pydata.org/pandas-docs/stable/user_guide/indexing.html#returning-a-view-versus-a-copy\n",
            "  batch['SMILES'], batch['IUPAC Name'] = zip(*batch['SMILES_IUPAC'])\n",
            "<ipython-input-198-44630f5fcce5>:15: SettingWithCopyWarning: \n",
            "A value is trying to be set on a copy of a slice from a DataFrame\n",
            "\n",
            "See the caveats in the documentation: https://pandas.pydata.org/pandas-docs/stable/user_guide/indexing.html#returning-a-view-versus-a-copy\n",
            "  batch.drop(columns=['SMILES_IUPAC'], inplace=True)\n"
          ]
        },
        {
          "output_type": "stream",
          "name": "stdout",
          "text": [
            "Processing batch 10/52: IDs 4500 to 5000\n"
          ]
        },
        {
          "output_type": "stream",
          "name": "stderr",
          "text": [
            "100%|██████████| 500/500 [02:42<00:00,  3.08it/s]\n",
            "<ipython-input-198-44630f5fcce5>:13: SettingWithCopyWarning: \n",
            "A value is trying to be set on a copy of a slice from a DataFrame.\n",
            "Try using .loc[row_indexer,col_indexer] = value instead\n",
            "\n",
            "See the caveats in the documentation: https://pandas.pydata.org/pandas-docs/stable/user_guide/indexing.html#returning-a-view-versus-a-copy\n",
            "  batch['SMILES_IUPAC'] = batch['PubChem ID'].progress_apply(lambda x: get_name_smiles(x))\n",
            "<ipython-input-198-44630f5fcce5>:14: SettingWithCopyWarning: \n",
            "A value is trying to be set on a copy of a slice from a DataFrame.\n",
            "Try using .loc[row_indexer,col_indexer] = value instead\n",
            "\n",
            "See the caveats in the documentation: https://pandas.pydata.org/pandas-docs/stable/user_guide/indexing.html#returning-a-view-versus-a-copy\n",
            "  batch['SMILES'], batch['IUPAC Name'] = zip(*batch['SMILES_IUPAC'])\n",
            "<ipython-input-198-44630f5fcce5>:14: SettingWithCopyWarning: \n",
            "A value is trying to be set on a copy of a slice from a DataFrame.\n",
            "Try using .loc[row_indexer,col_indexer] = value instead\n",
            "\n",
            "See the caveats in the documentation: https://pandas.pydata.org/pandas-docs/stable/user_guide/indexing.html#returning-a-view-versus-a-copy\n",
            "  batch['SMILES'], batch['IUPAC Name'] = zip(*batch['SMILES_IUPAC'])\n",
            "<ipython-input-198-44630f5fcce5>:15: SettingWithCopyWarning: \n",
            "A value is trying to be set on a copy of a slice from a DataFrame\n",
            "\n",
            "See the caveats in the documentation: https://pandas.pydata.org/pandas-docs/stable/user_guide/indexing.html#returning-a-view-versus-a-copy\n",
            "  batch.drop(columns=['SMILES_IUPAC'], inplace=True)\n"
          ]
        },
        {
          "output_type": "stream",
          "name": "stdout",
          "text": [
            "Processing batch 11/52: IDs 5000 to 5500\n"
          ]
        },
        {
          "output_type": "stream",
          "name": "stderr",
          "text": [
            "100%|██████████| 500/500 [02:48<00:00,  2.97it/s]\n",
            "<ipython-input-198-44630f5fcce5>:13: SettingWithCopyWarning: \n",
            "A value is trying to be set on a copy of a slice from a DataFrame.\n",
            "Try using .loc[row_indexer,col_indexer] = value instead\n",
            "\n",
            "See the caveats in the documentation: https://pandas.pydata.org/pandas-docs/stable/user_guide/indexing.html#returning-a-view-versus-a-copy\n",
            "  batch['SMILES_IUPAC'] = batch['PubChem ID'].progress_apply(lambda x: get_name_smiles(x))\n",
            "<ipython-input-198-44630f5fcce5>:14: SettingWithCopyWarning: \n",
            "A value is trying to be set on a copy of a slice from a DataFrame.\n",
            "Try using .loc[row_indexer,col_indexer] = value instead\n",
            "\n",
            "See the caveats in the documentation: https://pandas.pydata.org/pandas-docs/stable/user_guide/indexing.html#returning-a-view-versus-a-copy\n",
            "  batch['SMILES'], batch['IUPAC Name'] = zip(*batch['SMILES_IUPAC'])\n",
            "<ipython-input-198-44630f5fcce5>:14: SettingWithCopyWarning: \n",
            "A value is trying to be set on a copy of a slice from a DataFrame.\n",
            "Try using .loc[row_indexer,col_indexer] = value instead\n",
            "\n",
            "See the caveats in the documentation: https://pandas.pydata.org/pandas-docs/stable/user_guide/indexing.html#returning-a-view-versus-a-copy\n",
            "  batch['SMILES'], batch['IUPAC Name'] = zip(*batch['SMILES_IUPAC'])\n",
            "<ipython-input-198-44630f5fcce5>:15: SettingWithCopyWarning: \n",
            "A value is trying to be set on a copy of a slice from a DataFrame\n",
            "\n",
            "See the caveats in the documentation: https://pandas.pydata.org/pandas-docs/stable/user_guide/indexing.html#returning-a-view-versus-a-copy\n",
            "  batch.drop(columns=['SMILES_IUPAC'], inplace=True)\n"
          ]
        },
        {
          "output_type": "stream",
          "name": "stdout",
          "text": [
            "Processing batch 12/52: IDs 5500 to 6000\n"
          ]
        },
        {
          "output_type": "stream",
          "name": "stderr",
          "text": [
            "100%|██████████| 500/500 [02:57<00:00,  2.82it/s]\n",
            "<ipython-input-198-44630f5fcce5>:13: SettingWithCopyWarning: \n",
            "A value is trying to be set on a copy of a slice from a DataFrame.\n",
            "Try using .loc[row_indexer,col_indexer] = value instead\n",
            "\n",
            "See the caveats in the documentation: https://pandas.pydata.org/pandas-docs/stable/user_guide/indexing.html#returning-a-view-versus-a-copy\n",
            "  batch['SMILES_IUPAC'] = batch['PubChem ID'].progress_apply(lambda x: get_name_smiles(x))\n",
            "<ipython-input-198-44630f5fcce5>:14: SettingWithCopyWarning: \n",
            "A value is trying to be set on a copy of a slice from a DataFrame.\n",
            "Try using .loc[row_indexer,col_indexer] = value instead\n",
            "\n",
            "See the caveats in the documentation: https://pandas.pydata.org/pandas-docs/stable/user_guide/indexing.html#returning-a-view-versus-a-copy\n",
            "  batch['SMILES'], batch['IUPAC Name'] = zip(*batch['SMILES_IUPAC'])\n",
            "<ipython-input-198-44630f5fcce5>:14: SettingWithCopyWarning: \n",
            "A value is trying to be set on a copy of a slice from a DataFrame.\n",
            "Try using .loc[row_indexer,col_indexer] = value instead\n",
            "\n",
            "See the caveats in the documentation: https://pandas.pydata.org/pandas-docs/stable/user_guide/indexing.html#returning-a-view-versus-a-copy\n",
            "  batch['SMILES'], batch['IUPAC Name'] = zip(*batch['SMILES_IUPAC'])\n",
            "<ipython-input-198-44630f5fcce5>:15: SettingWithCopyWarning: \n",
            "A value is trying to be set on a copy of a slice from a DataFrame\n",
            "\n",
            "See the caveats in the documentation: https://pandas.pydata.org/pandas-docs/stable/user_guide/indexing.html#returning-a-view-versus-a-copy\n",
            "  batch.drop(columns=['SMILES_IUPAC'], inplace=True)\n"
          ]
        },
        {
          "output_type": "stream",
          "name": "stdout",
          "text": [
            "Processing batch 13/52: IDs 6000 to 6500\n"
          ]
        },
        {
          "output_type": "stream",
          "name": "stderr",
          "text": [
            "100%|██████████| 500/500 [02:57<00:00,  2.81it/s]\n",
            "<ipython-input-198-44630f5fcce5>:13: SettingWithCopyWarning: \n",
            "A value is trying to be set on a copy of a slice from a DataFrame.\n",
            "Try using .loc[row_indexer,col_indexer] = value instead\n",
            "\n",
            "See the caveats in the documentation: https://pandas.pydata.org/pandas-docs/stable/user_guide/indexing.html#returning-a-view-versus-a-copy\n",
            "  batch['SMILES_IUPAC'] = batch['PubChem ID'].progress_apply(lambda x: get_name_smiles(x))\n",
            "<ipython-input-198-44630f5fcce5>:14: SettingWithCopyWarning: \n",
            "A value is trying to be set on a copy of a slice from a DataFrame.\n",
            "Try using .loc[row_indexer,col_indexer] = value instead\n",
            "\n",
            "See the caveats in the documentation: https://pandas.pydata.org/pandas-docs/stable/user_guide/indexing.html#returning-a-view-versus-a-copy\n",
            "  batch['SMILES'], batch['IUPAC Name'] = zip(*batch['SMILES_IUPAC'])\n",
            "<ipython-input-198-44630f5fcce5>:14: SettingWithCopyWarning: \n",
            "A value is trying to be set on a copy of a slice from a DataFrame.\n",
            "Try using .loc[row_indexer,col_indexer] = value instead\n",
            "\n",
            "See the caveats in the documentation: https://pandas.pydata.org/pandas-docs/stable/user_guide/indexing.html#returning-a-view-versus-a-copy\n",
            "  batch['SMILES'], batch['IUPAC Name'] = zip(*batch['SMILES_IUPAC'])\n",
            "<ipython-input-198-44630f5fcce5>:15: SettingWithCopyWarning: \n",
            "A value is trying to be set on a copy of a slice from a DataFrame\n",
            "\n",
            "See the caveats in the documentation: https://pandas.pydata.org/pandas-docs/stable/user_guide/indexing.html#returning-a-view-versus-a-copy\n",
            "  batch.drop(columns=['SMILES_IUPAC'], inplace=True)\n"
          ]
        },
        {
          "output_type": "stream",
          "name": "stdout",
          "text": [
            "Processing batch 14/52: IDs 6500 to 7000\n"
          ]
        },
        {
          "output_type": "stream",
          "name": "stderr",
          "text": [
            "100%|██████████| 500/500 [02:55<00:00,  2.85it/s]\n",
            "<ipython-input-198-44630f5fcce5>:13: SettingWithCopyWarning: \n",
            "A value is trying to be set on a copy of a slice from a DataFrame.\n",
            "Try using .loc[row_indexer,col_indexer] = value instead\n",
            "\n",
            "See the caveats in the documentation: https://pandas.pydata.org/pandas-docs/stable/user_guide/indexing.html#returning-a-view-versus-a-copy\n",
            "  batch['SMILES_IUPAC'] = batch['PubChem ID'].progress_apply(lambda x: get_name_smiles(x))\n",
            "<ipython-input-198-44630f5fcce5>:14: SettingWithCopyWarning: \n",
            "A value is trying to be set on a copy of a slice from a DataFrame.\n",
            "Try using .loc[row_indexer,col_indexer] = value instead\n",
            "\n",
            "See the caveats in the documentation: https://pandas.pydata.org/pandas-docs/stable/user_guide/indexing.html#returning-a-view-versus-a-copy\n",
            "  batch['SMILES'], batch['IUPAC Name'] = zip(*batch['SMILES_IUPAC'])\n",
            "<ipython-input-198-44630f5fcce5>:14: SettingWithCopyWarning: \n",
            "A value is trying to be set on a copy of a slice from a DataFrame.\n",
            "Try using .loc[row_indexer,col_indexer] = value instead\n",
            "\n",
            "See the caveats in the documentation: https://pandas.pydata.org/pandas-docs/stable/user_guide/indexing.html#returning-a-view-versus-a-copy\n",
            "  batch['SMILES'], batch['IUPAC Name'] = zip(*batch['SMILES_IUPAC'])\n",
            "<ipython-input-198-44630f5fcce5>:15: SettingWithCopyWarning: \n",
            "A value is trying to be set on a copy of a slice from a DataFrame\n",
            "\n",
            "See the caveats in the documentation: https://pandas.pydata.org/pandas-docs/stable/user_guide/indexing.html#returning-a-view-versus-a-copy\n",
            "  batch.drop(columns=['SMILES_IUPAC'], inplace=True)\n"
          ]
        },
        {
          "output_type": "stream",
          "name": "stdout",
          "text": [
            "Processing batch 15/52: IDs 7000 to 7500\n"
          ]
        },
        {
          "output_type": "stream",
          "name": "stderr",
          "text": [
            "100%|██████████| 500/500 [02:54<00:00,  2.86it/s]\n",
            "<ipython-input-198-44630f5fcce5>:13: SettingWithCopyWarning: \n",
            "A value is trying to be set on a copy of a slice from a DataFrame.\n",
            "Try using .loc[row_indexer,col_indexer] = value instead\n",
            "\n",
            "See the caveats in the documentation: https://pandas.pydata.org/pandas-docs/stable/user_guide/indexing.html#returning-a-view-versus-a-copy\n",
            "  batch['SMILES_IUPAC'] = batch['PubChem ID'].progress_apply(lambda x: get_name_smiles(x))\n",
            "<ipython-input-198-44630f5fcce5>:14: SettingWithCopyWarning: \n",
            "A value is trying to be set on a copy of a slice from a DataFrame.\n",
            "Try using .loc[row_indexer,col_indexer] = value instead\n",
            "\n",
            "See the caveats in the documentation: https://pandas.pydata.org/pandas-docs/stable/user_guide/indexing.html#returning-a-view-versus-a-copy\n",
            "  batch['SMILES'], batch['IUPAC Name'] = zip(*batch['SMILES_IUPAC'])\n",
            "<ipython-input-198-44630f5fcce5>:14: SettingWithCopyWarning: \n",
            "A value is trying to be set on a copy of a slice from a DataFrame.\n",
            "Try using .loc[row_indexer,col_indexer] = value instead\n",
            "\n",
            "See the caveats in the documentation: https://pandas.pydata.org/pandas-docs/stable/user_guide/indexing.html#returning-a-view-versus-a-copy\n",
            "  batch['SMILES'], batch['IUPAC Name'] = zip(*batch['SMILES_IUPAC'])\n",
            "<ipython-input-198-44630f5fcce5>:15: SettingWithCopyWarning: \n",
            "A value is trying to be set on a copy of a slice from a DataFrame\n",
            "\n",
            "See the caveats in the documentation: https://pandas.pydata.org/pandas-docs/stable/user_guide/indexing.html#returning-a-view-versus-a-copy\n",
            "  batch.drop(columns=['SMILES_IUPAC'], inplace=True)\n"
          ]
        },
        {
          "output_type": "stream",
          "name": "stdout",
          "text": [
            "Processing batch 16/52: IDs 7500 to 8000\n"
          ]
        },
        {
          "output_type": "stream",
          "name": "stderr",
          "text": [
            "100%|██████████| 500/500 [02:51<00:00,  2.92it/s]\n",
            "<ipython-input-198-44630f5fcce5>:13: SettingWithCopyWarning: \n",
            "A value is trying to be set on a copy of a slice from a DataFrame.\n",
            "Try using .loc[row_indexer,col_indexer] = value instead\n",
            "\n",
            "See the caveats in the documentation: https://pandas.pydata.org/pandas-docs/stable/user_guide/indexing.html#returning-a-view-versus-a-copy\n",
            "  batch['SMILES_IUPAC'] = batch['PubChem ID'].progress_apply(lambda x: get_name_smiles(x))\n",
            "<ipython-input-198-44630f5fcce5>:14: SettingWithCopyWarning: \n",
            "A value is trying to be set on a copy of a slice from a DataFrame.\n",
            "Try using .loc[row_indexer,col_indexer] = value instead\n",
            "\n",
            "See the caveats in the documentation: https://pandas.pydata.org/pandas-docs/stable/user_guide/indexing.html#returning-a-view-versus-a-copy\n",
            "  batch['SMILES'], batch['IUPAC Name'] = zip(*batch['SMILES_IUPAC'])\n",
            "<ipython-input-198-44630f5fcce5>:14: SettingWithCopyWarning: \n",
            "A value is trying to be set on a copy of a slice from a DataFrame.\n",
            "Try using .loc[row_indexer,col_indexer] = value instead\n",
            "\n",
            "See the caveats in the documentation: https://pandas.pydata.org/pandas-docs/stable/user_guide/indexing.html#returning-a-view-versus-a-copy\n",
            "  batch['SMILES'], batch['IUPAC Name'] = zip(*batch['SMILES_IUPAC'])\n",
            "<ipython-input-198-44630f5fcce5>:15: SettingWithCopyWarning: \n",
            "A value is trying to be set on a copy of a slice from a DataFrame\n",
            "\n",
            "See the caveats in the documentation: https://pandas.pydata.org/pandas-docs/stable/user_guide/indexing.html#returning-a-view-versus-a-copy\n",
            "  batch.drop(columns=['SMILES_IUPAC'], inplace=True)\n"
          ]
        },
        {
          "output_type": "stream",
          "name": "stdout",
          "text": [
            "Processing batch 17/52: IDs 8000 to 8500\n"
          ]
        },
        {
          "output_type": "stream",
          "name": "stderr",
          "text": [
            "100%|██████████| 500/500 [02:52<00:00,  2.90it/s]\n",
            "<ipython-input-198-44630f5fcce5>:13: SettingWithCopyWarning: \n",
            "A value is trying to be set on a copy of a slice from a DataFrame.\n",
            "Try using .loc[row_indexer,col_indexer] = value instead\n",
            "\n",
            "See the caveats in the documentation: https://pandas.pydata.org/pandas-docs/stable/user_guide/indexing.html#returning-a-view-versus-a-copy\n",
            "  batch['SMILES_IUPAC'] = batch['PubChem ID'].progress_apply(lambda x: get_name_smiles(x))\n",
            "<ipython-input-198-44630f5fcce5>:14: SettingWithCopyWarning: \n",
            "A value is trying to be set on a copy of a slice from a DataFrame.\n",
            "Try using .loc[row_indexer,col_indexer] = value instead\n",
            "\n",
            "See the caveats in the documentation: https://pandas.pydata.org/pandas-docs/stable/user_guide/indexing.html#returning-a-view-versus-a-copy\n",
            "  batch['SMILES'], batch['IUPAC Name'] = zip(*batch['SMILES_IUPAC'])\n",
            "<ipython-input-198-44630f5fcce5>:14: SettingWithCopyWarning: \n",
            "A value is trying to be set on a copy of a slice from a DataFrame.\n",
            "Try using .loc[row_indexer,col_indexer] = value instead\n",
            "\n",
            "See the caveats in the documentation: https://pandas.pydata.org/pandas-docs/stable/user_guide/indexing.html#returning-a-view-versus-a-copy\n",
            "  batch['SMILES'], batch['IUPAC Name'] = zip(*batch['SMILES_IUPAC'])\n",
            "<ipython-input-198-44630f5fcce5>:15: SettingWithCopyWarning: \n",
            "A value is trying to be set on a copy of a slice from a DataFrame\n",
            "\n",
            "See the caveats in the documentation: https://pandas.pydata.org/pandas-docs/stable/user_guide/indexing.html#returning-a-view-versus-a-copy\n",
            "  batch.drop(columns=['SMILES_IUPAC'], inplace=True)\n"
          ]
        },
        {
          "output_type": "stream",
          "name": "stdout",
          "text": [
            "Processing batch 18/52: IDs 8500 to 9000\n"
          ]
        },
        {
          "output_type": "stream",
          "name": "stderr",
          "text": [
            "100%|██████████| 500/500 [02:53<00:00,  2.87it/s]\n",
            "<ipython-input-198-44630f5fcce5>:13: SettingWithCopyWarning: \n",
            "A value is trying to be set on a copy of a slice from a DataFrame.\n",
            "Try using .loc[row_indexer,col_indexer] = value instead\n",
            "\n",
            "See the caveats in the documentation: https://pandas.pydata.org/pandas-docs/stable/user_guide/indexing.html#returning-a-view-versus-a-copy\n",
            "  batch['SMILES_IUPAC'] = batch['PubChem ID'].progress_apply(lambda x: get_name_smiles(x))\n",
            "<ipython-input-198-44630f5fcce5>:14: SettingWithCopyWarning: \n",
            "A value is trying to be set on a copy of a slice from a DataFrame.\n",
            "Try using .loc[row_indexer,col_indexer] = value instead\n",
            "\n",
            "See the caveats in the documentation: https://pandas.pydata.org/pandas-docs/stable/user_guide/indexing.html#returning-a-view-versus-a-copy\n",
            "  batch['SMILES'], batch['IUPAC Name'] = zip(*batch['SMILES_IUPAC'])\n",
            "<ipython-input-198-44630f5fcce5>:14: SettingWithCopyWarning: \n",
            "A value is trying to be set on a copy of a slice from a DataFrame.\n",
            "Try using .loc[row_indexer,col_indexer] = value instead\n",
            "\n",
            "See the caveats in the documentation: https://pandas.pydata.org/pandas-docs/stable/user_guide/indexing.html#returning-a-view-versus-a-copy\n",
            "  batch['SMILES'], batch['IUPAC Name'] = zip(*batch['SMILES_IUPAC'])\n",
            "<ipython-input-198-44630f5fcce5>:15: SettingWithCopyWarning: \n",
            "A value is trying to be set on a copy of a slice from a DataFrame\n",
            "\n",
            "See the caveats in the documentation: https://pandas.pydata.org/pandas-docs/stable/user_guide/indexing.html#returning-a-view-versus-a-copy\n",
            "  batch.drop(columns=['SMILES_IUPAC'], inplace=True)\n"
          ]
        },
        {
          "output_type": "stream",
          "name": "stdout",
          "text": [
            "Processing batch 19/52: IDs 9000 to 9500\n"
          ]
        },
        {
          "output_type": "stream",
          "name": "stderr",
          "text": [
            "100%|██████████| 500/500 [02:53<00:00,  2.88it/s]\n",
            "<ipython-input-198-44630f5fcce5>:13: SettingWithCopyWarning: \n",
            "A value is trying to be set on a copy of a slice from a DataFrame.\n",
            "Try using .loc[row_indexer,col_indexer] = value instead\n",
            "\n",
            "See the caveats in the documentation: https://pandas.pydata.org/pandas-docs/stable/user_guide/indexing.html#returning-a-view-versus-a-copy\n",
            "  batch['SMILES_IUPAC'] = batch['PubChem ID'].progress_apply(lambda x: get_name_smiles(x))\n",
            "<ipython-input-198-44630f5fcce5>:14: SettingWithCopyWarning: \n",
            "A value is trying to be set on a copy of a slice from a DataFrame.\n",
            "Try using .loc[row_indexer,col_indexer] = value instead\n",
            "\n",
            "See the caveats in the documentation: https://pandas.pydata.org/pandas-docs/stable/user_guide/indexing.html#returning-a-view-versus-a-copy\n",
            "  batch['SMILES'], batch['IUPAC Name'] = zip(*batch['SMILES_IUPAC'])\n",
            "<ipython-input-198-44630f5fcce5>:14: SettingWithCopyWarning: \n",
            "A value is trying to be set on a copy of a slice from a DataFrame.\n",
            "Try using .loc[row_indexer,col_indexer] = value instead\n",
            "\n",
            "See the caveats in the documentation: https://pandas.pydata.org/pandas-docs/stable/user_guide/indexing.html#returning-a-view-versus-a-copy\n",
            "  batch['SMILES'], batch['IUPAC Name'] = zip(*batch['SMILES_IUPAC'])\n",
            "<ipython-input-198-44630f5fcce5>:15: SettingWithCopyWarning: \n",
            "A value is trying to be set on a copy of a slice from a DataFrame\n",
            "\n",
            "See the caveats in the documentation: https://pandas.pydata.org/pandas-docs/stable/user_guide/indexing.html#returning-a-view-versus-a-copy\n",
            "  batch.drop(columns=['SMILES_IUPAC'], inplace=True)\n"
          ]
        },
        {
          "output_type": "stream",
          "name": "stdout",
          "text": [
            "Processing batch 20/52: IDs 9500 to 10000\n"
          ]
        },
        {
          "output_type": "stream",
          "name": "stderr",
          "text": [
            "100%|██████████| 500/500 [02:59<00:00,  2.79it/s]\n",
            "<ipython-input-198-44630f5fcce5>:13: SettingWithCopyWarning: \n",
            "A value is trying to be set on a copy of a slice from a DataFrame.\n",
            "Try using .loc[row_indexer,col_indexer] = value instead\n",
            "\n",
            "See the caveats in the documentation: https://pandas.pydata.org/pandas-docs/stable/user_guide/indexing.html#returning-a-view-versus-a-copy\n",
            "  batch['SMILES_IUPAC'] = batch['PubChem ID'].progress_apply(lambda x: get_name_smiles(x))\n",
            "<ipython-input-198-44630f5fcce5>:14: SettingWithCopyWarning: \n",
            "A value is trying to be set on a copy of a slice from a DataFrame.\n",
            "Try using .loc[row_indexer,col_indexer] = value instead\n",
            "\n",
            "See the caveats in the documentation: https://pandas.pydata.org/pandas-docs/stable/user_guide/indexing.html#returning-a-view-versus-a-copy\n",
            "  batch['SMILES'], batch['IUPAC Name'] = zip(*batch['SMILES_IUPAC'])\n",
            "<ipython-input-198-44630f5fcce5>:14: SettingWithCopyWarning: \n",
            "A value is trying to be set on a copy of a slice from a DataFrame.\n",
            "Try using .loc[row_indexer,col_indexer] = value instead\n",
            "\n",
            "See the caveats in the documentation: https://pandas.pydata.org/pandas-docs/stable/user_guide/indexing.html#returning-a-view-versus-a-copy\n",
            "  batch['SMILES'], batch['IUPAC Name'] = zip(*batch['SMILES_IUPAC'])\n",
            "<ipython-input-198-44630f5fcce5>:15: SettingWithCopyWarning: \n",
            "A value is trying to be set on a copy of a slice from a DataFrame\n",
            "\n",
            "See the caveats in the documentation: https://pandas.pydata.org/pandas-docs/stable/user_guide/indexing.html#returning-a-view-versus-a-copy\n",
            "  batch.drop(columns=['SMILES_IUPAC'], inplace=True)\n"
          ]
        },
        {
          "output_type": "stream",
          "name": "stdout",
          "text": [
            "Processing batch 21/52: IDs 10000 to 10500\n"
          ]
        },
        {
          "output_type": "stream",
          "name": "stderr",
          "text": [
            "100%|██████████| 500/500 [02:52<00:00,  2.90it/s]\n",
            "<ipython-input-198-44630f5fcce5>:13: SettingWithCopyWarning: \n",
            "A value is trying to be set on a copy of a slice from a DataFrame.\n",
            "Try using .loc[row_indexer,col_indexer] = value instead\n",
            "\n",
            "See the caveats in the documentation: https://pandas.pydata.org/pandas-docs/stable/user_guide/indexing.html#returning-a-view-versus-a-copy\n",
            "  batch['SMILES_IUPAC'] = batch['PubChem ID'].progress_apply(lambda x: get_name_smiles(x))\n",
            "<ipython-input-198-44630f5fcce5>:14: SettingWithCopyWarning: \n",
            "A value is trying to be set on a copy of a slice from a DataFrame.\n",
            "Try using .loc[row_indexer,col_indexer] = value instead\n",
            "\n",
            "See the caveats in the documentation: https://pandas.pydata.org/pandas-docs/stable/user_guide/indexing.html#returning-a-view-versus-a-copy\n",
            "  batch['SMILES'], batch['IUPAC Name'] = zip(*batch['SMILES_IUPAC'])\n",
            "<ipython-input-198-44630f5fcce5>:14: SettingWithCopyWarning: \n",
            "A value is trying to be set on a copy of a slice from a DataFrame.\n",
            "Try using .loc[row_indexer,col_indexer] = value instead\n",
            "\n",
            "See the caveats in the documentation: https://pandas.pydata.org/pandas-docs/stable/user_guide/indexing.html#returning-a-view-versus-a-copy\n",
            "  batch['SMILES'], batch['IUPAC Name'] = zip(*batch['SMILES_IUPAC'])\n",
            "<ipython-input-198-44630f5fcce5>:15: SettingWithCopyWarning: \n",
            "A value is trying to be set on a copy of a slice from a DataFrame\n",
            "\n",
            "See the caveats in the documentation: https://pandas.pydata.org/pandas-docs/stable/user_guide/indexing.html#returning-a-view-versus-a-copy\n",
            "  batch.drop(columns=['SMILES_IUPAC'], inplace=True)\n"
          ]
        },
        {
          "output_type": "stream",
          "name": "stdout",
          "text": [
            "Processing batch 22/52: IDs 10500 to 11000\n"
          ]
        },
        {
          "output_type": "stream",
          "name": "stderr",
          "text": [
            "100%|██████████| 500/500 [02:52<00:00,  2.89it/s]\n",
            "<ipython-input-198-44630f5fcce5>:13: SettingWithCopyWarning: \n",
            "A value is trying to be set on a copy of a slice from a DataFrame.\n",
            "Try using .loc[row_indexer,col_indexer] = value instead\n",
            "\n",
            "See the caveats in the documentation: https://pandas.pydata.org/pandas-docs/stable/user_guide/indexing.html#returning-a-view-versus-a-copy\n",
            "  batch['SMILES_IUPAC'] = batch['PubChem ID'].progress_apply(lambda x: get_name_smiles(x))\n",
            "<ipython-input-198-44630f5fcce5>:14: SettingWithCopyWarning: \n",
            "A value is trying to be set on a copy of a slice from a DataFrame.\n",
            "Try using .loc[row_indexer,col_indexer] = value instead\n",
            "\n",
            "See the caveats in the documentation: https://pandas.pydata.org/pandas-docs/stable/user_guide/indexing.html#returning-a-view-versus-a-copy\n",
            "  batch['SMILES'], batch['IUPAC Name'] = zip(*batch['SMILES_IUPAC'])\n",
            "<ipython-input-198-44630f5fcce5>:14: SettingWithCopyWarning: \n",
            "A value is trying to be set on a copy of a slice from a DataFrame.\n",
            "Try using .loc[row_indexer,col_indexer] = value instead\n",
            "\n",
            "See the caveats in the documentation: https://pandas.pydata.org/pandas-docs/stable/user_guide/indexing.html#returning-a-view-versus-a-copy\n",
            "  batch['SMILES'], batch['IUPAC Name'] = zip(*batch['SMILES_IUPAC'])\n",
            "<ipython-input-198-44630f5fcce5>:15: SettingWithCopyWarning: \n",
            "A value is trying to be set on a copy of a slice from a DataFrame\n",
            "\n",
            "See the caveats in the documentation: https://pandas.pydata.org/pandas-docs/stable/user_guide/indexing.html#returning-a-view-versus-a-copy\n",
            "  batch.drop(columns=['SMILES_IUPAC'], inplace=True)\n"
          ]
        },
        {
          "output_type": "stream",
          "name": "stdout",
          "text": [
            "Processing batch 23/52: IDs 11000 to 11500\n"
          ]
        },
        {
          "output_type": "stream",
          "name": "stderr",
          "text": [
            "100%|██████████| 500/500 [02:53<00:00,  2.88it/s]\n",
            "<ipython-input-198-44630f5fcce5>:13: SettingWithCopyWarning: \n",
            "A value is trying to be set on a copy of a slice from a DataFrame.\n",
            "Try using .loc[row_indexer,col_indexer] = value instead\n",
            "\n",
            "See the caveats in the documentation: https://pandas.pydata.org/pandas-docs/stable/user_guide/indexing.html#returning-a-view-versus-a-copy\n",
            "  batch['SMILES_IUPAC'] = batch['PubChem ID'].progress_apply(lambda x: get_name_smiles(x))\n",
            "<ipython-input-198-44630f5fcce5>:14: SettingWithCopyWarning: \n",
            "A value is trying to be set on a copy of a slice from a DataFrame.\n",
            "Try using .loc[row_indexer,col_indexer] = value instead\n",
            "\n",
            "See the caveats in the documentation: https://pandas.pydata.org/pandas-docs/stable/user_guide/indexing.html#returning-a-view-versus-a-copy\n",
            "  batch['SMILES'], batch['IUPAC Name'] = zip(*batch['SMILES_IUPAC'])\n",
            "<ipython-input-198-44630f5fcce5>:14: SettingWithCopyWarning: \n",
            "A value is trying to be set on a copy of a slice from a DataFrame.\n",
            "Try using .loc[row_indexer,col_indexer] = value instead\n",
            "\n",
            "See the caveats in the documentation: https://pandas.pydata.org/pandas-docs/stable/user_guide/indexing.html#returning-a-view-versus-a-copy\n",
            "  batch['SMILES'], batch['IUPAC Name'] = zip(*batch['SMILES_IUPAC'])\n",
            "<ipython-input-198-44630f5fcce5>:15: SettingWithCopyWarning: \n",
            "A value is trying to be set on a copy of a slice from a DataFrame\n",
            "\n",
            "See the caveats in the documentation: https://pandas.pydata.org/pandas-docs/stable/user_guide/indexing.html#returning-a-view-versus-a-copy\n",
            "  batch.drop(columns=['SMILES_IUPAC'], inplace=True)\n"
          ]
        },
        {
          "output_type": "stream",
          "name": "stdout",
          "text": [
            "Processing batch 24/52: IDs 11500 to 12000\n"
          ]
        },
        {
          "output_type": "stream",
          "name": "stderr",
          "text": [
            "100%|██████████| 500/500 [02:55<00:00,  2.85it/s]\n",
            "<ipython-input-198-44630f5fcce5>:13: SettingWithCopyWarning: \n",
            "A value is trying to be set on a copy of a slice from a DataFrame.\n",
            "Try using .loc[row_indexer,col_indexer] = value instead\n",
            "\n",
            "See the caveats in the documentation: https://pandas.pydata.org/pandas-docs/stable/user_guide/indexing.html#returning-a-view-versus-a-copy\n",
            "  batch['SMILES_IUPAC'] = batch['PubChem ID'].progress_apply(lambda x: get_name_smiles(x))\n",
            "<ipython-input-198-44630f5fcce5>:14: SettingWithCopyWarning: \n",
            "A value is trying to be set on a copy of a slice from a DataFrame.\n",
            "Try using .loc[row_indexer,col_indexer] = value instead\n",
            "\n",
            "See the caveats in the documentation: https://pandas.pydata.org/pandas-docs/stable/user_guide/indexing.html#returning-a-view-versus-a-copy\n",
            "  batch['SMILES'], batch['IUPAC Name'] = zip(*batch['SMILES_IUPAC'])\n",
            "<ipython-input-198-44630f5fcce5>:14: SettingWithCopyWarning: \n",
            "A value is trying to be set on a copy of a slice from a DataFrame.\n",
            "Try using .loc[row_indexer,col_indexer] = value instead\n",
            "\n",
            "See the caveats in the documentation: https://pandas.pydata.org/pandas-docs/stable/user_guide/indexing.html#returning-a-view-versus-a-copy\n",
            "  batch['SMILES'], batch['IUPAC Name'] = zip(*batch['SMILES_IUPAC'])\n",
            "<ipython-input-198-44630f5fcce5>:15: SettingWithCopyWarning: \n",
            "A value is trying to be set on a copy of a slice from a DataFrame\n",
            "\n",
            "See the caveats in the documentation: https://pandas.pydata.org/pandas-docs/stable/user_guide/indexing.html#returning-a-view-versus-a-copy\n",
            "  batch.drop(columns=['SMILES_IUPAC'], inplace=True)\n"
          ]
        },
        {
          "output_type": "stream",
          "name": "stdout",
          "text": [
            "Processing batch 25/52: IDs 12000 to 12500\n"
          ]
        },
        {
          "output_type": "stream",
          "name": "stderr",
          "text": [
            "100%|██████████| 500/500 [02:54<00:00,  2.87it/s]\n",
            "<ipython-input-198-44630f5fcce5>:13: SettingWithCopyWarning: \n",
            "A value is trying to be set on a copy of a slice from a DataFrame.\n",
            "Try using .loc[row_indexer,col_indexer] = value instead\n",
            "\n",
            "See the caveats in the documentation: https://pandas.pydata.org/pandas-docs/stable/user_guide/indexing.html#returning-a-view-versus-a-copy\n",
            "  batch['SMILES_IUPAC'] = batch['PubChem ID'].progress_apply(lambda x: get_name_smiles(x))\n",
            "<ipython-input-198-44630f5fcce5>:14: SettingWithCopyWarning: \n",
            "A value is trying to be set on a copy of a slice from a DataFrame.\n",
            "Try using .loc[row_indexer,col_indexer] = value instead\n",
            "\n",
            "See the caveats in the documentation: https://pandas.pydata.org/pandas-docs/stable/user_guide/indexing.html#returning-a-view-versus-a-copy\n",
            "  batch['SMILES'], batch['IUPAC Name'] = zip(*batch['SMILES_IUPAC'])\n",
            "<ipython-input-198-44630f5fcce5>:14: SettingWithCopyWarning: \n",
            "A value is trying to be set on a copy of a slice from a DataFrame.\n",
            "Try using .loc[row_indexer,col_indexer] = value instead\n",
            "\n",
            "See the caveats in the documentation: https://pandas.pydata.org/pandas-docs/stable/user_guide/indexing.html#returning-a-view-versus-a-copy\n",
            "  batch['SMILES'], batch['IUPAC Name'] = zip(*batch['SMILES_IUPAC'])\n",
            "<ipython-input-198-44630f5fcce5>:15: SettingWithCopyWarning: \n",
            "A value is trying to be set on a copy of a slice from a DataFrame\n",
            "\n",
            "See the caveats in the documentation: https://pandas.pydata.org/pandas-docs/stable/user_guide/indexing.html#returning-a-view-versus-a-copy\n",
            "  batch.drop(columns=['SMILES_IUPAC'], inplace=True)\n"
          ]
        },
        {
          "output_type": "stream",
          "name": "stdout",
          "text": [
            "Processing batch 26/52: IDs 12500 to 13000\n"
          ]
        },
        {
          "output_type": "stream",
          "name": "stderr",
          "text": [
            "100%|██████████| 500/500 [02:55<00:00,  2.85it/s]\n",
            "<ipython-input-198-44630f5fcce5>:13: SettingWithCopyWarning: \n",
            "A value is trying to be set on a copy of a slice from a DataFrame.\n",
            "Try using .loc[row_indexer,col_indexer] = value instead\n",
            "\n",
            "See the caveats in the documentation: https://pandas.pydata.org/pandas-docs/stable/user_guide/indexing.html#returning-a-view-versus-a-copy\n",
            "  batch['SMILES_IUPAC'] = batch['PubChem ID'].progress_apply(lambda x: get_name_smiles(x))\n",
            "<ipython-input-198-44630f5fcce5>:14: SettingWithCopyWarning: \n",
            "A value is trying to be set on a copy of a slice from a DataFrame.\n",
            "Try using .loc[row_indexer,col_indexer] = value instead\n",
            "\n",
            "See the caveats in the documentation: https://pandas.pydata.org/pandas-docs/stable/user_guide/indexing.html#returning-a-view-versus-a-copy\n",
            "  batch['SMILES'], batch['IUPAC Name'] = zip(*batch['SMILES_IUPAC'])\n",
            "<ipython-input-198-44630f5fcce5>:14: SettingWithCopyWarning: \n",
            "A value is trying to be set on a copy of a slice from a DataFrame.\n",
            "Try using .loc[row_indexer,col_indexer] = value instead\n",
            "\n",
            "See the caveats in the documentation: https://pandas.pydata.org/pandas-docs/stable/user_guide/indexing.html#returning-a-view-versus-a-copy\n",
            "  batch['SMILES'], batch['IUPAC Name'] = zip(*batch['SMILES_IUPAC'])\n",
            "<ipython-input-198-44630f5fcce5>:15: SettingWithCopyWarning: \n",
            "A value is trying to be set on a copy of a slice from a DataFrame\n",
            "\n",
            "See the caveats in the documentation: https://pandas.pydata.org/pandas-docs/stable/user_guide/indexing.html#returning-a-view-versus-a-copy\n",
            "  batch.drop(columns=['SMILES_IUPAC'], inplace=True)\n"
          ]
        },
        {
          "output_type": "stream",
          "name": "stdout",
          "text": [
            "Processing batch 27/52: IDs 13000 to 13500\n"
          ]
        },
        {
          "output_type": "stream",
          "name": "stderr",
          "text": [
            "100%|██████████| 500/500 [02:56<00:00,  2.84it/s]\n",
            "<ipython-input-198-44630f5fcce5>:13: SettingWithCopyWarning: \n",
            "A value is trying to be set on a copy of a slice from a DataFrame.\n",
            "Try using .loc[row_indexer,col_indexer] = value instead\n",
            "\n",
            "See the caveats in the documentation: https://pandas.pydata.org/pandas-docs/stable/user_guide/indexing.html#returning-a-view-versus-a-copy\n",
            "  batch['SMILES_IUPAC'] = batch['PubChem ID'].progress_apply(lambda x: get_name_smiles(x))\n",
            "<ipython-input-198-44630f5fcce5>:14: SettingWithCopyWarning: \n",
            "A value is trying to be set on a copy of a slice from a DataFrame.\n",
            "Try using .loc[row_indexer,col_indexer] = value instead\n",
            "\n",
            "See the caveats in the documentation: https://pandas.pydata.org/pandas-docs/stable/user_guide/indexing.html#returning-a-view-versus-a-copy\n",
            "  batch['SMILES'], batch['IUPAC Name'] = zip(*batch['SMILES_IUPAC'])\n",
            "<ipython-input-198-44630f5fcce5>:14: SettingWithCopyWarning: \n",
            "A value is trying to be set on a copy of a slice from a DataFrame.\n",
            "Try using .loc[row_indexer,col_indexer] = value instead\n",
            "\n",
            "See the caveats in the documentation: https://pandas.pydata.org/pandas-docs/stable/user_guide/indexing.html#returning-a-view-versus-a-copy\n",
            "  batch['SMILES'], batch['IUPAC Name'] = zip(*batch['SMILES_IUPAC'])\n",
            "<ipython-input-198-44630f5fcce5>:15: SettingWithCopyWarning: \n",
            "A value is trying to be set on a copy of a slice from a DataFrame\n",
            "\n",
            "See the caveats in the documentation: https://pandas.pydata.org/pandas-docs/stable/user_guide/indexing.html#returning-a-view-versus-a-copy\n",
            "  batch.drop(columns=['SMILES_IUPAC'], inplace=True)\n"
          ]
        },
        {
          "output_type": "stream",
          "name": "stdout",
          "text": [
            "Processing batch 28/52: IDs 13500 to 14000\n"
          ]
        },
        {
          "output_type": "stream",
          "name": "stderr",
          "text": [
            "100%|██████████| 500/500 [02:55<00:00,  2.84it/s]\n",
            "<ipython-input-198-44630f5fcce5>:13: SettingWithCopyWarning: \n",
            "A value is trying to be set on a copy of a slice from a DataFrame.\n",
            "Try using .loc[row_indexer,col_indexer] = value instead\n",
            "\n",
            "See the caveats in the documentation: https://pandas.pydata.org/pandas-docs/stable/user_guide/indexing.html#returning-a-view-versus-a-copy\n",
            "  batch['SMILES_IUPAC'] = batch['PubChem ID'].progress_apply(lambda x: get_name_smiles(x))\n",
            "<ipython-input-198-44630f5fcce5>:14: SettingWithCopyWarning: \n",
            "A value is trying to be set on a copy of a slice from a DataFrame.\n",
            "Try using .loc[row_indexer,col_indexer] = value instead\n",
            "\n",
            "See the caveats in the documentation: https://pandas.pydata.org/pandas-docs/stable/user_guide/indexing.html#returning-a-view-versus-a-copy\n",
            "  batch['SMILES'], batch['IUPAC Name'] = zip(*batch['SMILES_IUPAC'])\n",
            "<ipython-input-198-44630f5fcce5>:14: SettingWithCopyWarning: \n",
            "A value is trying to be set on a copy of a slice from a DataFrame.\n",
            "Try using .loc[row_indexer,col_indexer] = value instead\n",
            "\n",
            "See the caveats in the documentation: https://pandas.pydata.org/pandas-docs/stable/user_guide/indexing.html#returning-a-view-versus-a-copy\n",
            "  batch['SMILES'], batch['IUPAC Name'] = zip(*batch['SMILES_IUPAC'])\n",
            "<ipython-input-198-44630f5fcce5>:15: SettingWithCopyWarning: \n",
            "A value is trying to be set on a copy of a slice from a DataFrame\n",
            "\n",
            "See the caveats in the documentation: https://pandas.pydata.org/pandas-docs/stable/user_guide/indexing.html#returning-a-view-versus-a-copy\n",
            "  batch.drop(columns=['SMILES_IUPAC'], inplace=True)\n"
          ]
        },
        {
          "output_type": "stream",
          "name": "stdout",
          "text": [
            "Processing batch 29/52: IDs 14000 to 14500\n"
          ]
        },
        {
          "output_type": "stream",
          "name": "stderr",
          "text": [
            "100%|██████████| 500/500 [02:58<00:00,  2.80it/s]\n",
            "<ipython-input-198-44630f5fcce5>:13: SettingWithCopyWarning: \n",
            "A value is trying to be set on a copy of a slice from a DataFrame.\n",
            "Try using .loc[row_indexer,col_indexer] = value instead\n",
            "\n",
            "See the caveats in the documentation: https://pandas.pydata.org/pandas-docs/stable/user_guide/indexing.html#returning-a-view-versus-a-copy\n",
            "  batch['SMILES_IUPAC'] = batch['PubChem ID'].progress_apply(lambda x: get_name_smiles(x))\n",
            "<ipython-input-198-44630f5fcce5>:14: SettingWithCopyWarning: \n",
            "A value is trying to be set on a copy of a slice from a DataFrame.\n",
            "Try using .loc[row_indexer,col_indexer] = value instead\n",
            "\n",
            "See the caveats in the documentation: https://pandas.pydata.org/pandas-docs/stable/user_guide/indexing.html#returning-a-view-versus-a-copy\n",
            "  batch['SMILES'], batch['IUPAC Name'] = zip(*batch['SMILES_IUPAC'])\n",
            "<ipython-input-198-44630f5fcce5>:14: SettingWithCopyWarning: \n",
            "A value is trying to be set on a copy of a slice from a DataFrame.\n",
            "Try using .loc[row_indexer,col_indexer] = value instead\n",
            "\n",
            "See the caveats in the documentation: https://pandas.pydata.org/pandas-docs/stable/user_guide/indexing.html#returning-a-view-versus-a-copy\n",
            "  batch['SMILES'], batch['IUPAC Name'] = zip(*batch['SMILES_IUPAC'])\n",
            "<ipython-input-198-44630f5fcce5>:15: SettingWithCopyWarning: \n",
            "A value is trying to be set on a copy of a slice from a DataFrame\n",
            "\n",
            "See the caveats in the documentation: https://pandas.pydata.org/pandas-docs/stable/user_guide/indexing.html#returning-a-view-versus-a-copy\n",
            "  batch.drop(columns=['SMILES_IUPAC'], inplace=True)\n"
          ]
        },
        {
          "output_type": "stream",
          "name": "stdout",
          "text": [
            "Processing batch 30/52: IDs 14500 to 15000\n"
          ]
        },
        {
          "output_type": "stream",
          "name": "stderr",
          "text": [
            "100%|██████████| 500/500 [02:56<00:00,  2.84it/s]\n",
            "<ipython-input-198-44630f5fcce5>:13: SettingWithCopyWarning: \n",
            "A value is trying to be set on a copy of a slice from a DataFrame.\n",
            "Try using .loc[row_indexer,col_indexer] = value instead\n",
            "\n",
            "See the caveats in the documentation: https://pandas.pydata.org/pandas-docs/stable/user_guide/indexing.html#returning-a-view-versus-a-copy\n",
            "  batch['SMILES_IUPAC'] = batch['PubChem ID'].progress_apply(lambda x: get_name_smiles(x))\n",
            "<ipython-input-198-44630f5fcce5>:14: SettingWithCopyWarning: \n",
            "A value is trying to be set on a copy of a slice from a DataFrame.\n",
            "Try using .loc[row_indexer,col_indexer] = value instead\n",
            "\n",
            "See the caveats in the documentation: https://pandas.pydata.org/pandas-docs/stable/user_guide/indexing.html#returning-a-view-versus-a-copy\n",
            "  batch['SMILES'], batch['IUPAC Name'] = zip(*batch['SMILES_IUPAC'])\n",
            "<ipython-input-198-44630f5fcce5>:14: SettingWithCopyWarning: \n",
            "A value is trying to be set on a copy of a slice from a DataFrame.\n",
            "Try using .loc[row_indexer,col_indexer] = value instead\n",
            "\n",
            "See the caveats in the documentation: https://pandas.pydata.org/pandas-docs/stable/user_guide/indexing.html#returning-a-view-versus-a-copy\n",
            "  batch['SMILES'], batch['IUPAC Name'] = zip(*batch['SMILES_IUPAC'])\n",
            "<ipython-input-198-44630f5fcce5>:15: SettingWithCopyWarning: \n",
            "A value is trying to be set on a copy of a slice from a DataFrame\n",
            "\n",
            "See the caveats in the documentation: https://pandas.pydata.org/pandas-docs/stable/user_guide/indexing.html#returning-a-view-versus-a-copy\n",
            "  batch.drop(columns=['SMILES_IUPAC'], inplace=True)\n"
          ]
        },
        {
          "output_type": "stream",
          "name": "stdout",
          "text": [
            "Processing batch 31/52: IDs 15000 to 15500\n"
          ]
        },
        {
          "output_type": "stream",
          "name": "stderr",
          "text": [
            "100%|██████████| 500/500 [02:56<00:00,  2.84it/s]\n",
            "<ipython-input-198-44630f5fcce5>:13: SettingWithCopyWarning: \n",
            "A value is trying to be set on a copy of a slice from a DataFrame.\n",
            "Try using .loc[row_indexer,col_indexer] = value instead\n",
            "\n",
            "See the caveats in the documentation: https://pandas.pydata.org/pandas-docs/stable/user_guide/indexing.html#returning-a-view-versus-a-copy\n",
            "  batch['SMILES_IUPAC'] = batch['PubChem ID'].progress_apply(lambda x: get_name_smiles(x))\n",
            "<ipython-input-198-44630f5fcce5>:14: SettingWithCopyWarning: \n",
            "A value is trying to be set on a copy of a slice from a DataFrame.\n",
            "Try using .loc[row_indexer,col_indexer] = value instead\n",
            "\n",
            "See the caveats in the documentation: https://pandas.pydata.org/pandas-docs/stable/user_guide/indexing.html#returning-a-view-versus-a-copy\n",
            "  batch['SMILES'], batch['IUPAC Name'] = zip(*batch['SMILES_IUPAC'])\n",
            "<ipython-input-198-44630f5fcce5>:14: SettingWithCopyWarning: \n",
            "A value is trying to be set on a copy of a slice from a DataFrame.\n",
            "Try using .loc[row_indexer,col_indexer] = value instead\n",
            "\n",
            "See the caveats in the documentation: https://pandas.pydata.org/pandas-docs/stable/user_guide/indexing.html#returning-a-view-versus-a-copy\n",
            "  batch['SMILES'], batch['IUPAC Name'] = zip(*batch['SMILES_IUPAC'])\n",
            "<ipython-input-198-44630f5fcce5>:15: SettingWithCopyWarning: \n",
            "A value is trying to be set on a copy of a slice from a DataFrame\n",
            "\n",
            "See the caveats in the documentation: https://pandas.pydata.org/pandas-docs/stable/user_guide/indexing.html#returning-a-view-versus-a-copy\n",
            "  batch.drop(columns=['SMILES_IUPAC'], inplace=True)\n"
          ]
        },
        {
          "output_type": "stream",
          "name": "stdout",
          "text": [
            "Processing batch 32/52: IDs 15500 to 16000\n"
          ]
        },
        {
          "output_type": "stream",
          "name": "stderr",
          "text": [
            "100%|██████████| 500/500 [02:54<00:00,  2.86it/s]\n",
            "<ipython-input-198-44630f5fcce5>:13: SettingWithCopyWarning: \n",
            "A value is trying to be set on a copy of a slice from a DataFrame.\n",
            "Try using .loc[row_indexer,col_indexer] = value instead\n",
            "\n",
            "See the caveats in the documentation: https://pandas.pydata.org/pandas-docs/stable/user_guide/indexing.html#returning-a-view-versus-a-copy\n",
            "  batch['SMILES_IUPAC'] = batch['PubChem ID'].progress_apply(lambda x: get_name_smiles(x))\n",
            "<ipython-input-198-44630f5fcce5>:14: SettingWithCopyWarning: \n",
            "A value is trying to be set on a copy of a slice from a DataFrame.\n",
            "Try using .loc[row_indexer,col_indexer] = value instead\n",
            "\n",
            "See the caveats in the documentation: https://pandas.pydata.org/pandas-docs/stable/user_guide/indexing.html#returning-a-view-versus-a-copy\n",
            "  batch['SMILES'], batch['IUPAC Name'] = zip(*batch['SMILES_IUPAC'])\n",
            "<ipython-input-198-44630f5fcce5>:14: SettingWithCopyWarning: \n",
            "A value is trying to be set on a copy of a slice from a DataFrame.\n",
            "Try using .loc[row_indexer,col_indexer] = value instead\n",
            "\n",
            "See the caveats in the documentation: https://pandas.pydata.org/pandas-docs/stable/user_guide/indexing.html#returning-a-view-versus-a-copy\n",
            "  batch['SMILES'], batch['IUPAC Name'] = zip(*batch['SMILES_IUPAC'])\n",
            "<ipython-input-198-44630f5fcce5>:15: SettingWithCopyWarning: \n",
            "A value is trying to be set on a copy of a slice from a DataFrame\n",
            "\n",
            "See the caveats in the documentation: https://pandas.pydata.org/pandas-docs/stable/user_guide/indexing.html#returning-a-view-versus-a-copy\n",
            "  batch.drop(columns=['SMILES_IUPAC'], inplace=True)\n"
          ]
        },
        {
          "output_type": "stream",
          "name": "stdout",
          "text": [
            "Processing batch 33/52: IDs 16000 to 16500\n"
          ]
        },
        {
          "output_type": "stream",
          "name": "stderr",
          "text": [
            "100%|██████████| 500/500 [02:57<00:00,  2.82it/s]\n",
            "<ipython-input-198-44630f5fcce5>:13: SettingWithCopyWarning: \n",
            "A value is trying to be set on a copy of a slice from a DataFrame.\n",
            "Try using .loc[row_indexer,col_indexer] = value instead\n",
            "\n",
            "See the caveats in the documentation: https://pandas.pydata.org/pandas-docs/stable/user_guide/indexing.html#returning-a-view-versus-a-copy\n",
            "  batch['SMILES_IUPAC'] = batch['PubChem ID'].progress_apply(lambda x: get_name_smiles(x))\n",
            "<ipython-input-198-44630f5fcce5>:14: SettingWithCopyWarning: \n",
            "A value is trying to be set on a copy of a slice from a DataFrame.\n",
            "Try using .loc[row_indexer,col_indexer] = value instead\n",
            "\n",
            "See the caveats in the documentation: https://pandas.pydata.org/pandas-docs/stable/user_guide/indexing.html#returning-a-view-versus-a-copy\n",
            "  batch['SMILES'], batch['IUPAC Name'] = zip(*batch['SMILES_IUPAC'])\n",
            "<ipython-input-198-44630f5fcce5>:14: SettingWithCopyWarning: \n",
            "A value is trying to be set on a copy of a slice from a DataFrame.\n",
            "Try using .loc[row_indexer,col_indexer] = value instead\n",
            "\n",
            "See the caveats in the documentation: https://pandas.pydata.org/pandas-docs/stable/user_guide/indexing.html#returning-a-view-versus-a-copy\n",
            "  batch['SMILES'], batch['IUPAC Name'] = zip(*batch['SMILES_IUPAC'])\n",
            "<ipython-input-198-44630f5fcce5>:15: SettingWithCopyWarning: \n",
            "A value is trying to be set on a copy of a slice from a DataFrame\n",
            "\n",
            "See the caveats in the documentation: https://pandas.pydata.org/pandas-docs/stable/user_guide/indexing.html#returning-a-view-versus-a-copy\n",
            "  batch.drop(columns=['SMILES_IUPAC'], inplace=True)\n"
          ]
        },
        {
          "output_type": "stream",
          "name": "stdout",
          "text": [
            "Processing batch 34/52: IDs 16500 to 17000\n"
          ]
        },
        {
          "output_type": "stream",
          "name": "stderr",
          "text": [
            "100%|██████████| 500/500 [02:55<00:00,  2.86it/s]\n",
            "<ipython-input-198-44630f5fcce5>:13: SettingWithCopyWarning: \n",
            "A value is trying to be set on a copy of a slice from a DataFrame.\n",
            "Try using .loc[row_indexer,col_indexer] = value instead\n",
            "\n",
            "See the caveats in the documentation: https://pandas.pydata.org/pandas-docs/stable/user_guide/indexing.html#returning-a-view-versus-a-copy\n",
            "  batch['SMILES_IUPAC'] = batch['PubChem ID'].progress_apply(lambda x: get_name_smiles(x))\n",
            "<ipython-input-198-44630f5fcce5>:14: SettingWithCopyWarning: \n",
            "A value is trying to be set on a copy of a slice from a DataFrame.\n",
            "Try using .loc[row_indexer,col_indexer] = value instead\n",
            "\n",
            "See the caveats in the documentation: https://pandas.pydata.org/pandas-docs/stable/user_guide/indexing.html#returning-a-view-versus-a-copy\n",
            "  batch['SMILES'], batch['IUPAC Name'] = zip(*batch['SMILES_IUPAC'])\n",
            "<ipython-input-198-44630f5fcce5>:14: SettingWithCopyWarning: \n",
            "A value is trying to be set on a copy of a slice from a DataFrame.\n",
            "Try using .loc[row_indexer,col_indexer] = value instead\n",
            "\n",
            "See the caveats in the documentation: https://pandas.pydata.org/pandas-docs/stable/user_guide/indexing.html#returning-a-view-versus-a-copy\n",
            "  batch['SMILES'], batch['IUPAC Name'] = zip(*batch['SMILES_IUPAC'])\n",
            "<ipython-input-198-44630f5fcce5>:15: SettingWithCopyWarning: \n",
            "A value is trying to be set on a copy of a slice from a DataFrame\n",
            "\n",
            "See the caveats in the documentation: https://pandas.pydata.org/pandas-docs/stable/user_guide/indexing.html#returning-a-view-versus-a-copy\n",
            "  batch.drop(columns=['SMILES_IUPAC'], inplace=True)\n"
          ]
        },
        {
          "output_type": "stream",
          "name": "stdout",
          "text": [
            "Processing batch 35/52: IDs 17000 to 17500\n"
          ]
        },
        {
          "output_type": "stream",
          "name": "stderr",
          "text": [
            "100%|██████████| 500/500 [02:54<00:00,  2.86it/s]\n",
            "<ipython-input-198-44630f5fcce5>:13: SettingWithCopyWarning: \n",
            "A value is trying to be set on a copy of a slice from a DataFrame.\n",
            "Try using .loc[row_indexer,col_indexer] = value instead\n",
            "\n",
            "See the caveats in the documentation: https://pandas.pydata.org/pandas-docs/stable/user_guide/indexing.html#returning-a-view-versus-a-copy\n",
            "  batch['SMILES_IUPAC'] = batch['PubChem ID'].progress_apply(lambda x: get_name_smiles(x))\n",
            "<ipython-input-198-44630f5fcce5>:14: SettingWithCopyWarning: \n",
            "A value is trying to be set on a copy of a slice from a DataFrame.\n",
            "Try using .loc[row_indexer,col_indexer] = value instead\n",
            "\n",
            "See the caveats in the documentation: https://pandas.pydata.org/pandas-docs/stable/user_guide/indexing.html#returning-a-view-versus-a-copy\n",
            "  batch['SMILES'], batch['IUPAC Name'] = zip(*batch['SMILES_IUPAC'])\n",
            "<ipython-input-198-44630f5fcce5>:14: SettingWithCopyWarning: \n",
            "A value is trying to be set on a copy of a slice from a DataFrame.\n",
            "Try using .loc[row_indexer,col_indexer] = value instead\n",
            "\n",
            "See the caveats in the documentation: https://pandas.pydata.org/pandas-docs/stable/user_guide/indexing.html#returning-a-view-versus-a-copy\n",
            "  batch['SMILES'], batch['IUPAC Name'] = zip(*batch['SMILES_IUPAC'])\n",
            "<ipython-input-198-44630f5fcce5>:15: SettingWithCopyWarning: \n",
            "A value is trying to be set on a copy of a slice from a DataFrame\n",
            "\n",
            "See the caveats in the documentation: https://pandas.pydata.org/pandas-docs/stable/user_guide/indexing.html#returning-a-view-versus-a-copy\n",
            "  batch.drop(columns=['SMILES_IUPAC'], inplace=True)\n"
          ]
        },
        {
          "output_type": "stream",
          "name": "stdout",
          "text": [
            "Processing batch 36/52: IDs 17500 to 18000\n"
          ]
        },
        {
          "output_type": "stream",
          "name": "stderr",
          "text": [
            "100%|██████████| 500/500 [02:56<00:00,  2.83it/s]\n",
            "<ipython-input-198-44630f5fcce5>:13: SettingWithCopyWarning: \n",
            "A value is trying to be set on a copy of a slice from a DataFrame.\n",
            "Try using .loc[row_indexer,col_indexer] = value instead\n",
            "\n",
            "See the caveats in the documentation: https://pandas.pydata.org/pandas-docs/stable/user_guide/indexing.html#returning-a-view-versus-a-copy\n",
            "  batch['SMILES_IUPAC'] = batch['PubChem ID'].progress_apply(lambda x: get_name_smiles(x))\n",
            "<ipython-input-198-44630f5fcce5>:14: SettingWithCopyWarning: \n",
            "A value is trying to be set on a copy of a slice from a DataFrame.\n",
            "Try using .loc[row_indexer,col_indexer] = value instead\n",
            "\n",
            "See the caveats in the documentation: https://pandas.pydata.org/pandas-docs/stable/user_guide/indexing.html#returning-a-view-versus-a-copy\n",
            "  batch['SMILES'], batch['IUPAC Name'] = zip(*batch['SMILES_IUPAC'])\n",
            "<ipython-input-198-44630f5fcce5>:14: SettingWithCopyWarning: \n",
            "A value is trying to be set on a copy of a slice from a DataFrame.\n",
            "Try using .loc[row_indexer,col_indexer] = value instead\n",
            "\n",
            "See the caveats in the documentation: https://pandas.pydata.org/pandas-docs/stable/user_guide/indexing.html#returning-a-view-versus-a-copy\n",
            "  batch['SMILES'], batch['IUPAC Name'] = zip(*batch['SMILES_IUPAC'])\n",
            "<ipython-input-198-44630f5fcce5>:15: SettingWithCopyWarning: \n",
            "A value is trying to be set on a copy of a slice from a DataFrame\n",
            "\n",
            "See the caveats in the documentation: https://pandas.pydata.org/pandas-docs/stable/user_guide/indexing.html#returning-a-view-versus-a-copy\n",
            "  batch.drop(columns=['SMILES_IUPAC'], inplace=True)\n"
          ]
        },
        {
          "output_type": "stream",
          "name": "stdout",
          "text": [
            "Processing batch 37/52: IDs 18000 to 18500\n"
          ]
        },
        {
          "output_type": "stream",
          "name": "stderr",
          "text": [
            "100%|██████████| 500/500 [02:58<00:00,  2.80it/s]\n",
            "<ipython-input-198-44630f5fcce5>:13: SettingWithCopyWarning: \n",
            "A value is trying to be set on a copy of a slice from a DataFrame.\n",
            "Try using .loc[row_indexer,col_indexer] = value instead\n",
            "\n",
            "See the caveats in the documentation: https://pandas.pydata.org/pandas-docs/stable/user_guide/indexing.html#returning-a-view-versus-a-copy\n",
            "  batch['SMILES_IUPAC'] = batch['PubChem ID'].progress_apply(lambda x: get_name_smiles(x))\n",
            "<ipython-input-198-44630f5fcce5>:14: SettingWithCopyWarning: \n",
            "A value is trying to be set on a copy of a slice from a DataFrame.\n",
            "Try using .loc[row_indexer,col_indexer] = value instead\n",
            "\n",
            "See the caveats in the documentation: https://pandas.pydata.org/pandas-docs/stable/user_guide/indexing.html#returning-a-view-versus-a-copy\n",
            "  batch['SMILES'], batch['IUPAC Name'] = zip(*batch['SMILES_IUPAC'])\n",
            "<ipython-input-198-44630f5fcce5>:14: SettingWithCopyWarning: \n",
            "A value is trying to be set on a copy of a slice from a DataFrame.\n",
            "Try using .loc[row_indexer,col_indexer] = value instead\n",
            "\n",
            "See the caveats in the documentation: https://pandas.pydata.org/pandas-docs/stable/user_guide/indexing.html#returning-a-view-versus-a-copy\n",
            "  batch['SMILES'], batch['IUPAC Name'] = zip(*batch['SMILES_IUPAC'])\n",
            "<ipython-input-198-44630f5fcce5>:15: SettingWithCopyWarning: \n",
            "A value is trying to be set on a copy of a slice from a DataFrame\n",
            "\n",
            "See the caveats in the documentation: https://pandas.pydata.org/pandas-docs/stable/user_guide/indexing.html#returning-a-view-versus-a-copy\n",
            "  batch.drop(columns=['SMILES_IUPAC'], inplace=True)\n"
          ]
        },
        {
          "output_type": "stream",
          "name": "stdout",
          "text": [
            "Processing batch 38/52: IDs 18500 to 19000\n"
          ]
        },
        {
          "output_type": "stream",
          "name": "stderr",
          "text": [
            "100%|██████████| 500/500 [02:56<00:00,  2.83it/s]\n",
            "<ipython-input-198-44630f5fcce5>:13: SettingWithCopyWarning: \n",
            "A value is trying to be set on a copy of a slice from a DataFrame.\n",
            "Try using .loc[row_indexer,col_indexer] = value instead\n",
            "\n",
            "See the caveats in the documentation: https://pandas.pydata.org/pandas-docs/stable/user_guide/indexing.html#returning-a-view-versus-a-copy\n",
            "  batch['SMILES_IUPAC'] = batch['PubChem ID'].progress_apply(lambda x: get_name_smiles(x))\n",
            "<ipython-input-198-44630f5fcce5>:14: SettingWithCopyWarning: \n",
            "A value is trying to be set on a copy of a slice from a DataFrame.\n",
            "Try using .loc[row_indexer,col_indexer] = value instead\n",
            "\n",
            "See the caveats in the documentation: https://pandas.pydata.org/pandas-docs/stable/user_guide/indexing.html#returning-a-view-versus-a-copy\n",
            "  batch['SMILES'], batch['IUPAC Name'] = zip(*batch['SMILES_IUPAC'])\n",
            "<ipython-input-198-44630f5fcce5>:14: SettingWithCopyWarning: \n",
            "A value is trying to be set on a copy of a slice from a DataFrame.\n",
            "Try using .loc[row_indexer,col_indexer] = value instead\n",
            "\n",
            "See the caveats in the documentation: https://pandas.pydata.org/pandas-docs/stable/user_guide/indexing.html#returning-a-view-versus-a-copy\n",
            "  batch['SMILES'], batch['IUPAC Name'] = zip(*batch['SMILES_IUPAC'])\n",
            "<ipython-input-198-44630f5fcce5>:15: SettingWithCopyWarning: \n",
            "A value is trying to be set on a copy of a slice from a DataFrame\n",
            "\n",
            "See the caveats in the documentation: https://pandas.pydata.org/pandas-docs/stable/user_guide/indexing.html#returning-a-view-versus-a-copy\n",
            "  batch.drop(columns=['SMILES_IUPAC'], inplace=True)\n"
          ]
        },
        {
          "output_type": "stream",
          "name": "stdout",
          "text": [
            "Processing batch 39/52: IDs 19000 to 19500\n"
          ]
        },
        {
          "output_type": "stream",
          "name": "stderr",
          "text": [
            "100%|██████████| 500/500 [02:57<00:00,  2.82it/s]\n",
            "<ipython-input-198-44630f5fcce5>:13: SettingWithCopyWarning: \n",
            "A value is trying to be set on a copy of a slice from a DataFrame.\n",
            "Try using .loc[row_indexer,col_indexer] = value instead\n",
            "\n",
            "See the caveats in the documentation: https://pandas.pydata.org/pandas-docs/stable/user_guide/indexing.html#returning-a-view-versus-a-copy\n",
            "  batch['SMILES_IUPAC'] = batch['PubChem ID'].progress_apply(lambda x: get_name_smiles(x))\n",
            "<ipython-input-198-44630f5fcce5>:14: SettingWithCopyWarning: \n",
            "A value is trying to be set on a copy of a slice from a DataFrame.\n",
            "Try using .loc[row_indexer,col_indexer] = value instead\n",
            "\n",
            "See the caveats in the documentation: https://pandas.pydata.org/pandas-docs/stable/user_guide/indexing.html#returning-a-view-versus-a-copy\n",
            "  batch['SMILES'], batch['IUPAC Name'] = zip(*batch['SMILES_IUPAC'])\n",
            "<ipython-input-198-44630f5fcce5>:14: SettingWithCopyWarning: \n",
            "A value is trying to be set on a copy of a slice from a DataFrame.\n",
            "Try using .loc[row_indexer,col_indexer] = value instead\n",
            "\n",
            "See the caveats in the documentation: https://pandas.pydata.org/pandas-docs/stable/user_guide/indexing.html#returning-a-view-versus-a-copy\n",
            "  batch['SMILES'], batch['IUPAC Name'] = zip(*batch['SMILES_IUPAC'])\n",
            "<ipython-input-198-44630f5fcce5>:15: SettingWithCopyWarning: \n",
            "A value is trying to be set on a copy of a slice from a DataFrame\n",
            "\n",
            "See the caveats in the documentation: https://pandas.pydata.org/pandas-docs/stable/user_guide/indexing.html#returning-a-view-versus-a-copy\n",
            "  batch.drop(columns=['SMILES_IUPAC'], inplace=True)\n"
          ]
        },
        {
          "output_type": "stream",
          "name": "stdout",
          "text": [
            "Processing batch 40/52: IDs 19500 to 20000\n"
          ]
        },
        {
          "output_type": "stream",
          "name": "stderr",
          "text": [
            "100%|██████████| 500/500 [02:55<00:00,  2.85it/s]\n",
            "<ipython-input-198-44630f5fcce5>:13: SettingWithCopyWarning: \n",
            "A value is trying to be set on a copy of a slice from a DataFrame.\n",
            "Try using .loc[row_indexer,col_indexer] = value instead\n",
            "\n",
            "See the caveats in the documentation: https://pandas.pydata.org/pandas-docs/stable/user_guide/indexing.html#returning-a-view-versus-a-copy\n",
            "  batch['SMILES_IUPAC'] = batch['PubChem ID'].progress_apply(lambda x: get_name_smiles(x))\n",
            "<ipython-input-198-44630f5fcce5>:14: SettingWithCopyWarning: \n",
            "A value is trying to be set on a copy of a slice from a DataFrame.\n",
            "Try using .loc[row_indexer,col_indexer] = value instead\n",
            "\n",
            "See the caveats in the documentation: https://pandas.pydata.org/pandas-docs/stable/user_guide/indexing.html#returning-a-view-versus-a-copy\n",
            "  batch['SMILES'], batch['IUPAC Name'] = zip(*batch['SMILES_IUPAC'])\n",
            "<ipython-input-198-44630f5fcce5>:14: SettingWithCopyWarning: \n",
            "A value is trying to be set on a copy of a slice from a DataFrame.\n",
            "Try using .loc[row_indexer,col_indexer] = value instead\n",
            "\n",
            "See the caveats in the documentation: https://pandas.pydata.org/pandas-docs/stable/user_guide/indexing.html#returning-a-view-versus-a-copy\n",
            "  batch['SMILES'], batch['IUPAC Name'] = zip(*batch['SMILES_IUPAC'])\n",
            "<ipython-input-198-44630f5fcce5>:15: SettingWithCopyWarning: \n",
            "A value is trying to be set on a copy of a slice from a DataFrame\n",
            "\n",
            "See the caveats in the documentation: https://pandas.pydata.org/pandas-docs/stable/user_guide/indexing.html#returning-a-view-versus-a-copy\n",
            "  batch.drop(columns=['SMILES_IUPAC'], inplace=True)\n"
          ]
        },
        {
          "output_type": "stream",
          "name": "stdout",
          "text": [
            "Processing batch 41/52: IDs 20000 to 20500\n"
          ]
        },
        {
          "output_type": "stream",
          "name": "stderr",
          "text": [
            "100%|██████████| 500/500 [02:52<00:00,  2.90it/s]\n",
            "<ipython-input-198-44630f5fcce5>:13: SettingWithCopyWarning: \n",
            "A value is trying to be set on a copy of a slice from a DataFrame.\n",
            "Try using .loc[row_indexer,col_indexer] = value instead\n",
            "\n",
            "See the caveats in the documentation: https://pandas.pydata.org/pandas-docs/stable/user_guide/indexing.html#returning-a-view-versus-a-copy\n",
            "  batch['SMILES_IUPAC'] = batch['PubChem ID'].progress_apply(lambda x: get_name_smiles(x))\n",
            "<ipython-input-198-44630f5fcce5>:14: SettingWithCopyWarning: \n",
            "A value is trying to be set on a copy of a slice from a DataFrame.\n",
            "Try using .loc[row_indexer,col_indexer] = value instead\n",
            "\n",
            "See the caveats in the documentation: https://pandas.pydata.org/pandas-docs/stable/user_guide/indexing.html#returning-a-view-versus-a-copy\n",
            "  batch['SMILES'], batch['IUPAC Name'] = zip(*batch['SMILES_IUPAC'])\n",
            "<ipython-input-198-44630f5fcce5>:14: SettingWithCopyWarning: \n",
            "A value is trying to be set on a copy of a slice from a DataFrame.\n",
            "Try using .loc[row_indexer,col_indexer] = value instead\n",
            "\n",
            "See the caveats in the documentation: https://pandas.pydata.org/pandas-docs/stable/user_guide/indexing.html#returning-a-view-versus-a-copy\n",
            "  batch['SMILES'], batch['IUPAC Name'] = zip(*batch['SMILES_IUPAC'])\n",
            "<ipython-input-198-44630f5fcce5>:15: SettingWithCopyWarning: \n",
            "A value is trying to be set on a copy of a slice from a DataFrame\n",
            "\n",
            "See the caveats in the documentation: https://pandas.pydata.org/pandas-docs/stable/user_guide/indexing.html#returning-a-view-versus-a-copy\n",
            "  batch.drop(columns=['SMILES_IUPAC'], inplace=True)\n"
          ]
        },
        {
          "output_type": "stream",
          "name": "stdout",
          "text": [
            "Processing batch 42/52: IDs 20500 to 21000\n"
          ]
        },
        {
          "output_type": "stream",
          "name": "stderr",
          "text": [
            "100%|██████████| 500/500 [02:53<00:00,  2.88it/s]\n",
            "<ipython-input-198-44630f5fcce5>:13: SettingWithCopyWarning: \n",
            "A value is trying to be set on a copy of a slice from a DataFrame.\n",
            "Try using .loc[row_indexer,col_indexer] = value instead\n",
            "\n",
            "See the caveats in the documentation: https://pandas.pydata.org/pandas-docs/stable/user_guide/indexing.html#returning-a-view-versus-a-copy\n",
            "  batch['SMILES_IUPAC'] = batch['PubChem ID'].progress_apply(lambda x: get_name_smiles(x))\n",
            "<ipython-input-198-44630f5fcce5>:14: SettingWithCopyWarning: \n",
            "A value is trying to be set on a copy of a slice from a DataFrame.\n",
            "Try using .loc[row_indexer,col_indexer] = value instead\n",
            "\n",
            "See the caveats in the documentation: https://pandas.pydata.org/pandas-docs/stable/user_guide/indexing.html#returning-a-view-versus-a-copy\n",
            "  batch['SMILES'], batch['IUPAC Name'] = zip(*batch['SMILES_IUPAC'])\n",
            "<ipython-input-198-44630f5fcce5>:14: SettingWithCopyWarning: \n",
            "A value is trying to be set on a copy of a slice from a DataFrame.\n",
            "Try using .loc[row_indexer,col_indexer] = value instead\n",
            "\n",
            "See the caveats in the documentation: https://pandas.pydata.org/pandas-docs/stable/user_guide/indexing.html#returning-a-view-versus-a-copy\n",
            "  batch['SMILES'], batch['IUPAC Name'] = zip(*batch['SMILES_IUPAC'])\n",
            "<ipython-input-198-44630f5fcce5>:15: SettingWithCopyWarning: \n",
            "A value is trying to be set on a copy of a slice from a DataFrame\n",
            "\n",
            "See the caveats in the documentation: https://pandas.pydata.org/pandas-docs/stable/user_guide/indexing.html#returning-a-view-versus-a-copy\n",
            "  batch.drop(columns=['SMILES_IUPAC'], inplace=True)\n"
          ]
        },
        {
          "output_type": "stream",
          "name": "stdout",
          "text": [
            "Processing batch 43/52: IDs 21000 to 21500\n"
          ]
        },
        {
          "output_type": "stream",
          "name": "stderr",
          "text": [
            "100%|██████████| 500/500 [03:00<00:00,  2.77it/s]\n",
            "<ipython-input-198-44630f5fcce5>:13: SettingWithCopyWarning: \n",
            "A value is trying to be set on a copy of a slice from a DataFrame.\n",
            "Try using .loc[row_indexer,col_indexer] = value instead\n",
            "\n",
            "See the caveats in the documentation: https://pandas.pydata.org/pandas-docs/stable/user_guide/indexing.html#returning-a-view-versus-a-copy\n",
            "  batch['SMILES_IUPAC'] = batch['PubChem ID'].progress_apply(lambda x: get_name_smiles(x))\n",
            "<ipython-input-198-44630f5fcce5>:14: SettingWithCopyWarning: \n",
            "A value is trying to be set on a copy of a slice from a DataFrame.\n",
            "Try using .loc[row_indexer,col_indexer] = value instead\n",
            "\n",
            "See the caveats in the documentation: https://pandas.pydata.org/pandas-docs/stable/user_guide/indexing.html#returning-a-view-versus-a-copy\n",
            "  batch['SMILES'], batch['IUPAC Name'] = zip(*batch['SMILES_IUPAC'])\n",
            "<ipython-input-198-44630f5fcce5>:14: SettingWithCopyWarning: \n",
            "A value is trying to be set on a copy of a slice from a DataFrame.\n",
            "Try using .loc[row_indexer,col_indexer] = value instead\n",
            "\n",
            "See the caveats in the documentation: https://pandas.pydata.org/pandas-docs/stable/user_guide/indexing.html#returning-a-view-versus-a-copy\n",
            "  batch['SMILES'], batch['IUPAC Name'] = zip(*batch['SMILES_IUPAC'])\n",
            "<ipython-input-198-44630f5fcce5>:15: SettingWithCopyWarning: \n",
            "A value is trying to be set on a copy of a slice from a DataFrame\n",
            "\n",
            "See the caveats in the documentation: https://pandas.pydata.org/pandas-docs/stable/user_guide/indexing.html#returning-a-view-versus-a-copy\n",
            "  batch.drop(columns=['SMILES_IUPAC'], inplace=True)\n"
          ]
        },
        {
          "output_type": "stream",
          "name": "stdout",
          "text": [
            "Processing batch 44/52: IDs 21500 to 22000\n"
          ]
        },
        {
          "output_type": "stream",
          "name": "stderr",
          "text": [
            "100%|██████████| 500/500 [03:00<00:00,  2.77it/s]\n",
            "<ipython-input-198-44630f5fcce5>:13: SettingWithCopyWarning: \n",
            "A value is trying to be set on a copy of a slice from a DataFrame.\n",
            "Try using .loc[row_indexer,col_indexer] = value instead\n",
            "\n",
            "See the caveats in the documentation: https://pandas.pydata.org/pandas-docs/stable/user_guide/indexing.html#returning-a-view-versus-a-copy\n",
            "  batch['SMILES_IUPAC'] = batch['PubChem ID'].progress_apply(lambda x: get_name_smiles(x))\n",
            "<ipython-input-198-44630f5fcce5>:14: SettingWithCopyWarning: \n",
            "A value is trying to be set on a copy of a slice from a DataFrame.\n",
            "Try using .loc[row_indexer,col_indexer] = value instead\n",
            "\n",
            "See the caveats in the documentation: https://pandas.pydata.org/pandas-docs/stable/user_guide/indexing.html#returning-a-view-versus-a-copy\n",
            "  batch['SMILES'], batch['IUPAC Name'] = zip(*batch['SMILES_IUPAC'])\n",
            "<ipython-input-198-44630f5fcce5>:14: SettingWithCopyWarning: \n",
            "A value is trying to be set on a copy of a slice from a DataFrame.\n",
            "Try using .loc[row_indexer,col_indexer] = value instead\n",
            "\n",
            "See the caveats in the documentation: https://pandas.pydata.org/pandas-docs/stable/user_guide/indexing.html#returning-a-view-versus-a-copy\n",
            "  batch['SMILES'], batch['IUPAC Name'] = zip(*batch['SMILES_IUPAC'])\n",
            "<ipython-input-198-44630f5fcce5>:15: SettingWithCopyWarning: \n",
            "A value is trying to be set on a copy of a slice from a DataFrame\n",
            "\n",
            "See the caveats in the documentation: https://pandas.pydata.org/pandas-docs/stable/user_guide/indexing.html#returning-a-view-versus-a-copy\n",
            "  batch.drop(columns=['SMILES_IUPAC'], inplace=True)\n"
          ]
        },
        {
          "output_type": "stream",
          "name": "stdout",
          "text": [
            "Processing batch 45/52: IDs 22000 to 22500\n"
          ]
        },
        {
          "output_type": "stream",
          "name": "stderr",
          "text": [
            "100%|██████████| 500/500 [02:58<00:00,  2.80it/s]\n",
            "<ipython-input-198-44630f5fcce5>:13: SettingWithCopyWarning: \n",
            "A value is trying to be set on a copy of a slice from a DataFrame.\n",
            "Try using .loc[row_indexer,col_indexer] = value instead\n",
            "\n",
            "See the caveats in the documentation: https://pandas.pydata.org/pandas-docs/stable/user_guide/indexing.html#returning-a-view-versus-a-copy\n",
            "  batch['SMILES_IUPAC'] = batch['PubChem ID'].progress_apply(lambda x: get_name_smiles(x))\n",
            "<ipython-input-198-44630f5fcce5>:14: SettingWithCopyWarning: \n",
            "A value is trying to be set on a copy of a slice from a DataFrame.\n",
            "Try using .loc[row_indexer,col_indexer] = value instead\n",
            "\n",
            "See the caveats in the documentation: https://pandas.pydata.org/pandas-docs/stable/user_guide/indexing.html#returning-a-view-versus-a-copy\n",
            "  batch['SMILES'], batch['IUPAC Name'] = zip(*batch['SMILES_IUPAC'])\n",
            "<ipython-input-198-44630f5fcce5>:14: SettingWithCopyWarning: \n",
            "A value is trying to be set on a copy of a slice from a DataFrame.\n",
            "Try using .loc[row_indexer,col_indexer] = value instead\n",
            "\n",
            "See the caveats in the documentation: https://pandas.pydata.org/pandas-docs/stable/user_guide/indexing.html#returning-a-view-versus-a-copy\n",
            "  batch['SMILES'], batch['IUPAC Name'] = zip(*batch['SMILES_IUPAC'])\n",
            "<ipython-input-198-44630f5fcce5>:15: SettingWithCopyWarning: \n",
            "A value is trying to be set on a copy of a slice from a DataFrame\n",
            "\n",
            "See the caveats in the documentation: https://pandas.pydata.org/pandas-docs/stable/user_guide/indexing.html#returning-a-view-versus-a-copy\n",
            "  batch.drop(columns=['SMILES_IUPAC'], inplace=True)\n"
          ]
        },
        {
          "output_type": "stream",
          "name": "stdout",
          "text": [
            "Processing batch 46/52: IDs 22500 to 23000\n"
          ]
        },
        {
          "output_type": "stream",
          "name": "stderr",
          "text": [
            "100%|██████████| 500/500 [02:58<00:00,  2.80it/s]\n",
            "<ipython-input-198-44630f5fcce5>:13: SettingWithCopyWarning: \n",
            "A value is trying to be set on a copy of a slice from a DataFrame.\n",
            "Try using .loc[row_indexer,col_indexer] = value instead\n",
            "\n",
            "See the caveats in the documentation: https://pandas.pydata.org/pandas-docs/stable/user_guide/indexing.html#returning-a-view-versus-a-copy\n",
            "  batch['SMILES_IUPAC'] = batch['PubChem ID'].progress_apply(lambda x: get_name_smiles(x))\n",
            "<ipython-input-198-44630f5fcce5>:14: SettingWithCopyWarning: \n",
            "A value is trying to be set on a copy of a slice from a DataFrame.\n",
            "Try using .loc[row_indexer,col_indexer] = value instead\n",
            "\n",
            "See the caveats in the documentation: https://pandas.pydata.org/pandas-docs/stable/user_guide/indexing.html#returning-a-view-versus-a-copy\n",
            "  batch['SMILES'], batch['IUPAC Name'] = zip(*batch['SMILES_IUPAC'])\n",
            "<ipython-input-198-44630f5fcce5>:14: SettingWithCopyWarning: \n",
            "A value is trying to be set on a copy of a slice from a DataFrame.\n",
            "Try using .loc[row_indexer,col_indexer] = value instead\n",
            "\n",
            "See the caveats in the documentation: https://pandas.pydata.org/pandas-docs/stable/user_guide/indexing.html#returning-a-view-versus-a-copy\n",
            "  batch['SMILES'], batch['IUPAC Name'] = zip(*batch['SMILES_IUPAC'])\n",
            "<ipython-input-198-44630f5fcce5>:15: SettingWithCopyWarning: \n",
            "A value is trying to be set on a copy of a slice from a DataFrame\n",
            "\n",
            "See the caveats in the documentation: https://pandas.pydata.org/pandas-docs/stable/user_guide/indexing.html#returning-a-view-versus-a-copy\n",
            "  batch.drop(columns=['SMILES_IUPAC'], inplace=True)\n"
          ]
        },
        {
          "output_type": "stream",
          "name": "stdout",
          "text": [
            "Processing batch 47/52: IDs 23000 to 23500\n"
          ]
        },
        {
          "output_type": "stream",
          "name": "stderr",
          "text": [
            "100%|██████████| 500/500 [02:59<00:00,  2.79it/s]\n",
            "<ipython-input-198-44630f5fcce5>:13: SettingWithCopyWarning: \n",
            "A value is trying to be set on a copy of a slice from a DataFrame.\n",
            "Try using .loc[row_indexer,col_indexer] = value instead\n",
            "\n",
            "See the caveats in the documentation: https://pandas.pydata.org/pandas-docs/stable/user_guide/indexing.html#returning-a-view-versus-a-copy\n",
            "  batch['SMILES_IUPAC'] = batch['PubChem ID'].progress_apply(lambda x: get_name_smiles(x))\n",
            "<ipython-input-198-44630f5fcce5>:14: SettingWithCopyWarning: \n",
            "A value is trying to be set on a copy of a slice from a DataFrame.\n",
            "Try using .loc[row_indexer,col_indexer] = value instead\n",
            "\n",
            "See the caveats in the documentation: https://pandas.pydata.org/pandas-docs/stable/user_guide/indexing.html#returning-a-view-versus-a-copy\n",
            "  batch['SMILES'], batch['IUPAC Name'] = zip(*batch['SMILES_IUPAC'])\n",
            "<ipython-input-198-44630f5fcce5>:14: SettingWithCopyWarning: \n",
            "A value is trying to be set on a copy of a slice from a DataFrame.\n",
            "Try using .loc[row_indexer,col_indexer] = value instead\n",
            "\n",
            "See the caveats in the documentation: https://pandas.pydata.org/pandas-docs/stable/user_guide/indexing.html#returning-a-view-versus-a-copy\n",
            "  batch['SMILES'], batch['IUPAC Name'] = zip(*batch['SMILES_IUPAC'])\n",
            "<ipython-input-198-44630f5fcce5>:15: SettingWithCopyWarning: \n",
            "A value is trying to be set on a copy of a slice from a DataFrame\n",
            "\n",
            "See the caveats in the documentation: https://pandas.pydata.org/pandas-docs/stable/user_guide/indexing.html#returning-a-view-versus-a-copy\n",
            "  batch.drop(columns=['SMILES_IUPAC'], inplace=True)\n"
          ]
        },
        {
          "output_type": "stream",
          "name": "stdout",
          "text": [
            "Processing batch 48/52: IDs 23500 to 24000\n"
          ]
        },
        {
          "output_type": "stream",
          "name": "stderr",
          "text": [
            "100%|██████████| 500/500 [03:00<00:00,  2.77it/s]\n",
            "<ipython-input-198-44630f5fcce5>:13: SettingWithCopyWarning: \n",
            "A value is trying to be set on a copy of a slice from a DataFrame.\n",
            "Try using .loc[row_indexer,col_indexer] = value instead\n",
            "\n",
            "See the caveats in the documentation: https://pandas.pydata.org/pandas-docs/stable/user_guide/indexing.html#returning-a-view-versus-a-copy\n",
            "  batch['SMILES_IUPAC'] = batch['PubChem ID'].progress_apply(lambda x: get_name_smiles(x))\n",
            "<ipython-input-198-44630f5fcce5>:14: SettingWithCopyWarning: \n",
            "A value is trying to be set on a copy of a slice from a DataFrame.\n",
            "Try using .loc[row_indexer,col_indexer] = value instead\n",
            "\n",
            "See the caveats in the documentation: https://pandas.pydata.org/pandas-docs/stable/user_guide/indexing.html#returning-a-view-versus-a-copy\n",
            "  batch['SMILES'], batch['IUPAC Name'] = zip(*batch['SMILES_IUPAC'])\n",
            "<ipython-input-198-44630f5fcce5>:14: SettingWithCopyWarning: \n",
            "A value is trying to be set on a copy of a slice from a DataFrame.\n",
            "Try using .loc[row_indexer,col_indexer] = value instead\n",
            "\n",
            "See the caveats in the documentation: https://pandas.pydata.org/pandas-docs/stable/user_guide/indexing.html#returning-a-view-versus-a-copy\n",
            "  batch['SMILES'], batch['IUPAC Name'] = zip(*batch['SMILES_IUPAC'])\n",
            "<ipython-input-198-44630f5fcce5>:15: SettingWithCopyWarning: \n",
            "A value is trying to be set on a copy of a slice from a DataFrame\n",
            "\n",
            "See the caveats in the documentation: https://pandas.pydata.org/pandas-docs/stable/user_guide/indexing.html#returning-a-view-versus-a-copy\n",
            "  batch.drop(columns=['SMILES_IUPAC'], inplace=True)\n"
          ]
        },
        {
          "output_type": "stream",
          "name": "stdout",
          "text": [
            "Processing batch 49/52: IDs 24000 to 24500\n"
          ]
        },
        {
          "output_type": "stream",
          "name": "stderr",
          "text": [
            "100%|██████████| 500/500 [02:59<00:00,  2.79it/s]\n",
            "<ipython-input-198-44630f5fcce5>:13: SettingWithCopyWarning: \n",
            "A value is trying to be set on a copy of a slice from a DataFrame.\n",
            "Try using .loc[row_indexer,col_indexer] = value instead\n",
            "\n",
            "See the caveats in the documentation: https://pandas.pydata.org/pandas-docs/stable/user_guide/indexing.html#returning-a-view-versus-a-copy\n",
            "  batch['SMILES_IUPAC'] = batch['PubChem ID'].progress_apply(lambda x: get_name_smiles(x))\n",
            "<ipython-input-198-44630f5fcce5>:14: SettingWithCopyWarning: \n",
            "A value is trying to be set on a copy of a slice from a DataFrame.\n",
            "Try using .loc[row_indexer,col_indexer] = value instead\n",
            "\n",
            "See the caveats in the documentation: https://pandas.pydata.org/pandas-docs/stable/user_guide/indexing.html#returning-a-view-versus-a-copy\n",
            "  batch['SMILES'], batch['IUPAC Name'] = zip(*batch['SMILES_IUPAC'])\n",
            "<ipython-input-198-44630f5fcce5>:14: SettingWithCopyWarning: \n",
            "A value is trying to be set on a copy of a slice from a DataFrame.\n",
            "Try using .loc[row_indexer,col_indexer] = value instead\n",
            "\n",
            "See the caveats in the documentation: https://pandas.pydata.org/pandas-docs/stable/user_guide/indexing.html#returning-a-view-versus-a-copy\n",
            "  batch['SMILES'], batch['IUPAC Name'] = zip(*batch['SMILES_IUPAC'])\n",
            "<ipython-input-198-44630f5fcce5>:15: SettingWithCopyWarning: \n",
            "A value is trying to be set on a copy of a slice from a DataFrame\n",
            "\n",
            "See the caveats in the documentation: https://pandas.pydata.org/pandas-docs/stable/user_guide/indexing.html#returning-a-view-versus-a-copy\n",
            "  batch.drop(columns=['SMILES_IUPAC'], inplace=True)\n"
          ]
        },
        {
          "output_type": "stream",
          "name": "stdout",
          "text": [
            "Processing batch 50/52: IDs 24500 to 25000\n"
          ]
        },
        {
          "output_type": "stream",
          "name": "stderr",
          "text": [
            "100%|██████████| 500/500 [02:58<00:00,  2.81it/s]\n",
            "<ipython-input-198-44630f5fcce5>:13: SettingWithCopyWarning: \n",
            "A value is trying to be set on a copy of a slice from a DataFrame.\n",
            "Try using .loc[row_indexer,col_indexer] = value instead\n",
            "\n",
            "See the caveats in the documentation: https://pandas.pydata.org/pandas-docs/stable/user_guide/indexing.html#returning-a-view-versus-a-copy\n",
            "  batch['SMILES_IUPAC'] = batch['PubChem ID'].progress_apply(lambda x: get_name_smiles(x))\n",
            "<ipython-input-198-44630f5fcce5>:14: SettingWithCopyWarning: \n",
            "A value is trying to be set on a copy of a slice from a DataFrame.\n",
            "Try using .loc[row_indexer,col_indexer] = value instead\n",
            "\n",
            "See the caveats in the documentation: https://pandas.pydata.org/pandas-docs/stable/user_guide/indexing.html#returning-a-view-versus-a-copy\n",
            "  batch['SMILES'], batch['IUPAC Name'] = zip(*batch['SMILES_IUPAC'])\n",
            "<ipython-input-198-44630f5fcce5>:14: SettingWithCopyWarning: \n",
            "A value is trying to be set on a copy of a slice from a DataFrame.\n",
            "Try using .loc[row_indexer,col_indexer] = value instead\n",
            "\n",
            "See the caveats in the documentation: https://pandas.pydata.org/pandas-docs/stable/user_guide/indexing.html#returning-a-view-versus-a-copy\n",
            "  batch['SMILES'], batch['IUPAC Name'] = zip(*batch['SMILES_IUPAC'])\n",
            "<ipython-input-198-44630f5fcce5>:15: SettingWithCopyWarning: \n",
            "A value is trying to be set on a copy of a slice from a DataFrame\n",
            "\n",
            "See the caveats in the documentation: https://pandas.pydata.org/pandas-docs/stable/user_guide/indexing.html#returning-a-view-versus-a-copy\n",
            "  batch.drop(columns=['SMILES_IUPAC'], inplace=True)\n"
          ]
        },
        {
          "output_type": "stream",
          "name": "stdout",
          "text": [
            "Processing batch 51/52: IDs 25000 to 25500\n"
          ]
        },
        {
          "output_type": "stream",
          "name": "stderr",
          "text": [
            "100%|██████████| 500/500 [02:58<00:00,  2.81it/s]\n",
            "<ipython-input-198-44630f5fcce5>:13: SettingWithCopyWarning: \n",
            "A value is trying to be set on a copy of a slice from a DataFrame.\n",
            "Try using .loc[row_indexer,col_indexer] = value instead\n",
            "\n",
            "See the caveats in the documentation: https://pandas.pydata.org/pandas-docs/stable/user_guide/indexing.html#returning-a-view-versus-a-copy\n",
            "  batch['SMILES_IUPAC'] = batch['PubChem ID'].progress_apply(lambda x: get_name_smiles(x))\n",
            "<ipython-input-198-44630f5fcce5>:14: SettingWithCopyWarning: \n",
            "A value is trying to be set on a copy of a slice from a DataFrame.\n",
            "Try using .loc[row_indexer,col_indexer] = value instead\n",
            "\n",
            "See the caveats in the documentation: https://pandas.pydata.org/pandas-docs/stable/user_guide/indexing.html#returning-a-view-versus-a-copy\n",
            "  batch['SMILES'], batch['IUPAC Name'] = zip(*batch['SMILES_IUPAC'])\n",
            "<ipython-input-198-44630f5fcce5>:14: SettingWithCopyWarning: \n",
            "A value is trying to be set on a copy of a slice from a DataFrame.\n",
            "Try using .loc[row_indexer,col_indexer] = value instead\n",
            "\n",
            "See the caveats in the documentation: https://pandas.pydata.org/pandas-docs/stable/user_guide/indexing.html#returning-a-view-versus-a-copy\n",
            "  batch['SMILES'], batch['IUPAC Name'] = zip(*batch['SMILES_IUPAC'])\n",
            "<ipython-input-198-44630f5fcce5>:15: SettingWithCopyWarning: \n",
            "A value is trying to be set on a copy of a slice from a DataFrame\n",
            "\n",
            "See the caveats in the documentation: https://pandas.pydata.org/pandas-docs/stable/user_guide/indexing.html#returning-a-view-versus-a-copy\n",
            "  batch.drop(columns=['SMILES_IUPAC'], inplace=True)\n"
          ]
        },
        {
          "output_type": "stream",
          "name": "stdout",
          "text": [
            "Processing batch 52/52: IDs 25500 to 25559\n"
          ]
        },
        {
          "output_type": "stream",
          "name": "stderr",
          "text": [
            "100%|██████████| 59/59 [00:22<00:00,  2.67it/s]"
          ]
        },
        {
          "output_type": "stream",
          "name": "stdout",
          "text": [
            "Data processing complete. All data saved.\n"
          ]
        },
        {
          "output_type": "stream",
          "name": "stderr",
          "text": [
            "\n",
            "<ipython-input-198-44630f5fcce5>:13: SettingWithCopyWarning: \n",
            "A value is trying to be set on a copy of a slice from a DataFrame.\n",
            "Try using .loc[row_indexer,col_indexer] = value instead\n",
            "\n",
            "See the caveats in the documentation: https://pandas.pydata.org/pandas-docs/stable/user_guide/indexing.html#returning-a-view-versus-a-copy\n",
            "  batch['SMILES_IUPAC'] = batch['PubChem ID'].progress_apply(lambda x: get_name_smiles(x))\n",
            "<ipython-input-198-44630f5fcce5>:14: SettingWithCopyWarning: \n",
            "A value is trying to be set on a copy of a slice from a DataFrame.\n",
            "Try using .loc[row_indexer,col_indexer] = value instead\n",
            "\n",
            "See the caveats in the documentation: https://pandas.pydata.org/pandas-docs/stable/user_guide/indexing.html#returning-a-view-versus-a-copy\n",
            "  batch['SMILES'], batch['IUPAC Name'] = zip(*batch['SMILES_IUPAC'])\n",
            "<ipython-input-198-44630f5fcce5>:14: SettingWithCopyWarning: \n",
            "A value is trying to be set on a copy of a slice from a DataFrame.\n",
            "Try using .loc[row_indexer,col_indexer] = value instead\n",
            "\n",
            "See the caveats in the documentation: https://pandas.pydata.org/pandas-docs/stable/user_guide/indexing.html#returning-a-view-versus-a-copy\n",
            "  batch['SMILES'], batch['IUPAC Name'] = zip(*batch['SMILES_IUPAC'])\n",
            "<ipython-input-198-44630f5fcce5>:15: SettingWithCopyWarning: \n",
            "A value is trying to be set on a copy of a slice from a DataFrame\n",
            "\n",
            "See the caveats in the documentation: https://pandas.pydata.org/pandas-docs/stable/user_guide/indexing.html#returning-a-view-versus-a-copy\n",
            "  batch.drop(columns=['SMILES_IUPAC'], inplace=True)\n"
          ]
        }
      ]
    },
    {
      "cell_type": "code",
      "source": [
        "# read in the data from the saved intermediary csv file\n",
        "flavor_db = pd.read_csv('flavor_db_scraped.csv')\n",
        "flavor_db = flavor_db.dropna(subset=['Flavor'])"
      ],
      "metadata": {
        "id": "rfMcWbdQPPA2"
      },
      "execution_count": 331,
      "outputs": []
    },
    {
      "cell_type": "markdown",
      "source": [
        "This list gives an overview of what labels exists and how common they are."
      ],
      "metadata": {
        "id": "3Khcs3ace3He"
      }
    },
    {
      "cell_type": "code",
      "source": [
        "flavor_db_distinct_flavors = distinct_flavors(flavor_db, 'Flavor')\n",
        "print(flavor_db_distinct_flavors)"
      ],
      "metadata": {
        "colab": {
          "base_uri": "https://localhost:8080/"
        },
        "id": "HI-0_Rk89o8X",
        "outputId": "3d6fcbf9-321c-495f-8f16-4d76cbc67bcf"
      },
      "execution_count": 332,
      "outputs": [
        {
          "output_type": "stream",
          "name": "stdout",
          "text": [
            "{'sweet-like': 13754, 'sweet': 8804, 'bitter': 738, 'fruity': 640, 'green': 540, 'floral': 309, 'woody': 243, 'herbal': 221, 'waxy': 211, 'fatty': 191, 'odorless': 162, 'spicy': 159, 'fresh': 158, 'nutty': 143, 'citrus': 138, 'earthy': 127, 'rose': 120, 'balsam': 117, 'sulfurous': 115, 'roasted': 115, 'oily': 112, 'tropical': 108, 'meaty': 103, 'apple': 100, 'pineapple': 97, 'musty': 96, 'vegetable': 90, 'fruit': 88, 'creamy': 86, 'minty': 78, 'mild': 77, 'phenolic': 76, 'caramel': 74, 'onion': 74, 'spice': 72, 'pungent': 70, 'berry': 69, 'powdery': 69, 'honey': 64, 'garlic': 59, 'ethereal': 58, 'vanilla': 57, 'coconut': 56, 'pear': 56, 'camphor': 55, 'banana': 55, 'almond': 49, 'dry': 49, 'sulfury': 48, 'mushroom': 47, 'peach': 47, 'coffee': 47, 'orange': 46, 'melon': 46, 'cherry': 45, 'cheese': 45, 'burnt': 45, 'metallic': 45, 'herb': 44, 'wood': 43, 'aldehydic': 41, 'cocoa': 41, 'flower': 40, 'fat': 40, 'wine': 40, 'apricot': 39, 'fishy': 38, 'chocolate': 37, 'cooked': 37, 'jasmin': 37, 'tobacco': 36, 'cinnamon': 35, 'butter': 35, 'mint': 35, 'warm': 35, 'balsamic': 34, 'strawberry': 34, 'leaf': 33, 'medicinal': 32, 'clean': 32, 'lemon': 31, 'pine': 31, 'sharp': 30, 'animal': 30, 'soapy': 30, 'grape': 30, 'violet': 30, 'ether': 28, 'dairy': 28, 'raspberry': 28, 'buttery': 27, 'bland': 27, 'smoky': 27, 'sulfur': 27, 'cabbage': 27, 'plum': 27, 'rum': 26, 'hyacinth': 26, 'pepper': 26, 'geranium': 26, 'leafy': 26, 'potato': 26, 'sour': 25, 'cucumber': 25, 'oil': 24, 'clove': 24, 'anise': 24, 'alliaceous': 24, 'grassy': 24, 'nut': 24, 'hazelnut': 24, 'grapefruit': 23, 'tomato': 23, 'roast': 23, 'plastic': 22, 'meat': 22, 'natural': 22, 'weedy': 21, 'ripe': 21, 'orris': 21, 'tonka': 20, 'alkane': 20, 'earth': 20, 'lavender': 20, 'peanut': 19, 'celery': 19, 'milky': 18, 'tea': 18, 'alcohol': 17, 'lily': 17, 'must': 17, 'cognac': 17, 'jam': 17, 'strong': 16, 'rancid': 16, 'chemical': 16, 'hawthorn': 16, 'lime': 16, 'neroli': 16, 'savory': 15, 'solvent': 15, 'faint': 15, 'coumarin': 15, 'jasmine': 15, 'horseradish': 15, 'bergamot': 15, 'terpene': 15, 'amber': 15, 'musk': 14, 'wine_like': 14, 'herbaceous': 14, 'alcoholic': 14, 'sweaty': 14, 'wax': 14, 'powerful': 14, 'maple': 14, 'brown': 13, 'ammoniacal': 13, 'leather': 13, 'medical': 13, 'caramellic': 13, 'acidic': 13, 'camphoraceous': 13, 'bread': 13, 'corn': 13, 'sweat': 12, 'gasoline': 12, 'cheesy': 12, 'smoke': 12, 'fermented': 12, 'mustard': 12, 'lilac': 12, 'cooling': 12, 'musky': 12, 'gardenia': 12, 'anisic': 12, 'cortex': 12, 'popcorn': 12, 'blackcurrant': 12, 'narcissus': 11, 'peppermint': 11, 'fennel': 11, 'raw': 11, 'toasted': 11, 'lactonic': 10, 'walnut': 10, 'fusel': 10, 'medicine': 10, 'egg': 10, 'soap': 10, 'radish': 10, 'mimosa': 10, 'carnation': 10, 'licorice': 10, 'beef': 10, 'sugar': 10, 'caraway': 9, 'metal': 9, 'rubber': 9, 'wintergreen': 9, 'tallow': 9, 'gassy': 9, 'turpentine': 9, 'blossom': 9, 'spearmint': 9, 'hay': 9, 'juicy': 9, 'brandy': 9, 'chip': 9, 'candy': 9, 'winey': 9, 'acetic': 8, 'cumin': 8, 'acid': 8, 'phenol': 8, 'grass': 8, 'deep': 8, 'foliage': 8, 'mandarin': 8, 'red rose': 8, 'bready': 7, 'malt': 7, 'aromatic': 7, 'cool': 7, 'naphthyl': 7, 'bacon': 7, 'baked': 7, 'peppery': 7, 'rhubarb': 7, 'mango': 7, 'menthol': 7, 'cotton': 7, 'chicken': 7, 'cinnamyl': 7, 'galbanum': 7, 'whiskey': 6, 'very mild': 6, 'amine': 6, 'cedar': 6, 'blueberry': 6, 'orchid': 6, 'buchu': 6, 'soft': 6, 'butterscotch': 6, 'ylang': 6, 'fungal': 6, 'heliotrope': 6, 'beefy': 6, 'rooty': 6, 'nut skin': 6, 'watermelon': 6, 'sandalwood': 6, 'fecal': 5, 'orange peel': 5, 'hawthorne': 5, 'putrid': 5, 'fish': 5, 'rubbery': 5, 'acetone': 5, 'cranberry': 5, 'acetophenone': 5, 'yeast': 5, 'tutti frutti': 5, 'greasy': 5, 'heavy': 5, 'resin': 5, 'mentholic': 5, 'root': 5, 'estery': 5, 'nutmeg': 5, 'dill': 5, 'moss': 5, 'jammy': 5, 'ester': 5, 'milk': 5, 'labdanum': 5, 'petitgrain': 5, 'petal': 5, 'bell': 5, 'apple skin': 5, 'vinegar': 4, 'cream': 4, 'malty': 4, 'new mown hay': 4, 'clover': 4, 'honeysuckle': 4, 'eucalyptus': 4, 'dirty': 4, 'ammonia': 4, 'fir needle': 4, 'harsh': 4, 'castoreum': 4, 'benzaldehyde': 4, 'rummy': 4, 'seedy': 4, 'storax': 4, 'peony': 4, 'ozone': 4, 'watery': 4, 'bean': 4, 'guaiacol': 4, 'unripe banana': 4, 'roasted meat': 4, 'lamb': 4, 'resinous': 4, 'seaweed': 4, 'beany': 4, 'grapefruit peel': 4, 'cut grass': 4, 'chamomile': 4, 'pea': 4, 'ambergris': 4, 'muguet': 4, 'fried': 4, 'cotton candy': 4, 'cassia': 4, 'magnolia': 4, 'civet': 3, 'paint': 3, 'watercress': 3, 'dusty': 3, 'camphoreous': 3, 'sassafrass': 3, 'cedarwood': 3, 'bois de rose': 3, 'acrylic': 3, 'guaiacwood': 3, 'acacia': 3, 'prune': 3, 'cananga': 3, 'oakmoss': 3, 'linalool': 3, 'tropica': 3, 'roasted nuts': 3, 'roasted nut': 3, 'taco': 3, 'laundered cloths': 3, 'vetiver': 3, 'acrylate': 3, 'pyridine': 3, 'cedarleaf': 3, 'coumarinic': 3, 'broccoli': 3, 'pork': 3, 'lard': 3, 'apple peel': 3, 'coriander': 3, 'smoked': 3, 'ginger': 3, 'citrus peel': 3, 'cooked meat': 3, 'cantaloupe': 3, 'rosemary': 3, 'paper': 3, 'mossy': 3, 'leaves': 3, 'privet': 3, 'fenugreek': 3, 'tangerine': 3, 'fir': 3, 'myrrh': 3, 'truffle': 3, 'sweetbitter': 3, 'valerian': 3, 'sage': 3, 'passion fruit': 3, 'catty': 3, 'melon rind': 3, 'honeydew': 3, 'burnt sugar': 2, 'mothball': 2, 'cardboard': 2, 'slightly waxy': 2, 'sickening': 2, 'sweet corn': 2, 'vanillin': 2, 'unpleasant': 2, 'rose dried': 2, 'very faint': 2, 'cologne': 2, 'maple syrup': 2, 'indole': 2, 'orange blossom': 2, 'thyme': 2, 'mesquite': 2, 'tart': 2, 'grape skin': 2, 'basil': 2, 'logenberry': 2, 'black tea': 2, 'ketonic': 2, 'verbena': 2, 'papaya': 2, 'roast beef': 2, 'repulsive': 2, 'vinous': 2, 'iris': 2, 'sandal': 2, 'orange flower': 2, 'wet': 2, 'barley': 2, 'saffron': 2, 'rose oxide': 2, 'feet': 2, 'parsley': 2, 'terpineol': 2, 'terpentine': 2, 'dank': 2, 'overripe fruit': 2, 'brothy': 2, 'rue': 2, 'borneol': 2, 'clam': 2, 'allspice': 2, 'cooked potato': 2, 'straw': 2, 'chrysanthemum': 2, 'leek': 2, 'peanut butter': 2, 'citric': 2, 'sausage': 2, 'red fruit': 2, 'wasabi': 2, 'shellfish': 2, 'mignonette': 2, 'arrack': 2, 'incense': 2, 'tuberose': 2, 'grain': 2, 'cereal': 2, 'cashew': 2, 'thiamin': 2, 'ambrette': 2, 'fresh air': 2, 'ionone': 2, 'moldy': 2, 'painty': 2, 'turnup': 2, 'box tree': 2, 'intensely': 2, 'broth': 2, 'dark': 2, 'dewy': 2, 'ham': 2, 'patchouli': 2, 'nasturtium': 2, 'cyclamen': 2, 'carrot': 2, 'meat broth': 2, 'clary': 2, 'black currant': 2, 'cat': 2, 'lemon peel': 2, 'banana peel': 2, 'delicate': 2, 'cinnamic': 2, 'pumpkin': 2, 'pear skin': 2, 'fleshy': 2, 'myrcene': 2, 'cassis': 2, 'kiwi': 2, 'mousy': 1, 'urine': 1, 'formyl': 1, 'curry': 1, 'bark': 1, 'rotten': 1, 'moth ball': 1, 'naphthelene': 1, 'decomposing cabbage': 1, 'tarry': 1, 'tar': 1, 'very slight': 1, 'soy': 1, 'wild': 1, 'cooked beef juice': 1, 'soil': 1, 'beet': 1, 'bay oil': 1, 'custard': 1, 'rose water': 1, 'rose flower': 1, 'pine needle': 1, 'light': 1, 'very strong': 1, 'creosote': 1, 'artichoke': 1, 'naphtha': 1, 'lettuce': 1, 'camomile': 1, 'capers': 1, 'flat': 1, 'cauliflower': 1, 'fragrant': 1, 'cadaverous': 1, 'toluene': 1, 'pastry': 1, 'cresol': 1, 'leathery': 1, 'hop_oil': 1, 'yeasty': 1, 'penetrating': 1, 'seafood': 1, 'quince': 1, 'wine-lee': 1, 'cultured dairy': 1, 'clean clothes': 1, 'laundry': 1, 'roquefort cheese': 1, 'bitter almond': 1, 'boiled vegetable': 1, 'rose bud': 1, 'rose acetate': 1, 'dust': 1, 'almost odorless': 1, 'lemongrass': 1, 'damascone': 1, 'terpenic': 1, 'thymol': 1, 'stinky': 1, 'soup': 1, 'glue': 1, 'mold': 1, 'violet-leaf': 1, 'foxy': 1, 'weak': 1, 'acetoin': 1, 'gravy': 1, 'acorn': 1, 'hot milk': 1, 'blackberry': 1, 'pesticide': 1, 'soybean': 1, 'thuja': 1, 'vegetable skin': 1, 'petroleum': 1, 'cooked vegetable': 1, 'sarsaparilla': 1, 'clean cloth': 1, 'bloody': 1, 'azalea': 1, 'ethyl benzoate': 1, 'gooseberry': 1, 'cistus': 1, 'thujone': 1, 'crab': 1, 'green bean': 1, 'propionic': 1, 'marigold': 1, 'skunk': 1, 'fenchyl': 1, 'sappy': 1, 'buttermilk': 1, 'hard yolk': 1, 'boiled egg': 1, 'syrup': 1, 'burnt almonds': 1, 'tangy': 1, 'ripe apricot': 1, 'pistachio': 1, 'tart lime': 1, 'cuminseed': 1, 'plant': 1, 'bread crust': 1, 'styrax': 1, 'alkaline': 1, 'peely': 1, 'broom': 1, 'heather': 1, 'genet': 1, 'green pepper': 1, 'undergrowth': 1, 'humus': 1, 'boiled beef': 1, 'aniseed': 1, 'tarragon': 1, 'rosy': 1, 'dried raspberry': 1, 'cassie': 1, 'absolute': 1, 'parmesan': 1, 'ricotta': 1, 'romano': 1, 'benzophenone': 1, 'unripe plum': 1, 'beef juice': 1, 'beef gravey': 1, 'heliotropin': 1, 'diphenyl oxide': 1, 'mildew': 1, 'molasses': 1, 'toffee': 1, 'fern': 1, 'beer': 1, 'reseda': 1, 'peach-pit': 1, 'cherry-pit': 1, 'valeric': 1, 'unripe fruit': 1, 'cayloxol': 1, 'pulpy': 1, 'furfural': 1, 'others': 1, 'ketone': 1, 'bouillon': 1, 'roasted in sugar syrup': 1, 'mild cooling': 1, 'old wood': 1, 'hummus': 1, 'outdoor': 1, 'styrene': 1, 'almond shell': 1, 'boiled shrimp': 1, 'marshmallow': 1, 'tomato leaf': 1, 'extremely sweet': 1, 'sulfide': 1, 'grilled': 1, 'shrimp': 1, 'bluebell': 1, 'lime blossom': 1, 'cat-urine': 1, 'rotting': 1, 'acrid': 1, 'spring': 1, 'marine': 1, 'low': 1, 'diterpene': 1, 'citronella': 1, 'rye': 1, 'damp': 1, 'ground': 1, 'old paper': 1, 'soupy': 1, 'sawdust': 1, 'oak': 1, 'fine': 1, 'roasted almonds': 1, 'benzyl acetate': 1, 'benzyl propionate': 1, 'sweet-likebitter': 1, 'slightly rose': 1, 'chicken coop': 1, 'eugenol': 1, 'sick': 1, 'pleasant': 1, 'asprin': 1, 'dried fruit': 1, 'linden': 1, 'angelica': 1, 'oriental': 1, 'salmon': 1, 'algae': 1, 'mahogany': 1, 'green tea': 1, 'roasted peanuts': 1, 'boiled meat': 1, 'skunky': 1, 'thiamine': 1, 'scallion': 1, 'dried berry': 1, 'raisin': 1, 'lemon rind': 1, 'olibanum': 1, 'naphthalic': 1, 'red hots': 1, 'lovage': 1, 'stem': 1, 'citral': 1, 'nitrile': 1, 'weak spice': 1, 'wet cloth': 1, 'opoponax': 1, 'cut privet': 1, 'plum skin': 1, 'banana skin': 1, 'diffusive': 1, 'cinnamate': 1, 'filbert': 1, 'cardamom': 1, 'slightly fruity': 1, 'biscuit': 1, 'crushed bug': 1, 'cucumber skin': 1, 'freesia': 1, 'citronellol': 1, 'vinyl': 1, 'mouldy': 1, 'cucumber seed': 1, 'salt': 1, 'rich': 1, 'tolu': 1, 'butyric': 1, 'concord grape': 1, 'very sweet': 1, 'cantaloupe rind': 1, 'green leaf': 1, 'ocimene': 1, 'moscato': 1, 'fleafy': 1, 'iactonic': 1, 'cookies': 1, 'buttered': 1, 'palmarosa': 1, 'mellow': 1, 'costus': 1, 'hairy': 1, 'lactone': 1, 'mallow': 1, 'jam preserves': 1, 'sensual': 1, 'peptone': 1, 'matches': 1, 'vine': 1}\n"
          ]
        }
      ]
    },
    {
      "cell_type": "markdown",
      "source": [
        "We now need to relabel the taste. We opted for an approach where we try to avoid labelling fragrance molecules with a taste as it is generally not true that taste and smell are equivalent. Hence, only very obviously attributable adjectives (e.g. \"sweet-like\") where also considered for the relabeling. Note that this will still label molecules whose \"Flavor Profile\" may be based on fragrance alone as a tasting molecule. Hence a sweet-smelling molecule might still be labeled as a sweet-tasting molecule."
      ],
      "metadata": {
        "id": "kiN0-3wY-Ueb"
      }
    },
    {
      "cell_type": "code",
      "source": [
        "def canonicalize_flavors(flavor_list):\n",
        "    assigned_flavors = []\n",
        "    if ('sweet' in flavor_list) or ('sweet-like' in flavor_list):\n",
        "      assigned_flavors.append('sweet')\n",
        "    if ('bitter' in flavor_list):\n",
        "      assigned_flavors.append('bitter')\n",
        "    if ('sour' in flavor_list) or ('acid' in flavor_list):\n",
        "      assigned_flavors.append('sour')\n",
        "    if len(assigned_flavors) == 0:\n",
        "      assigned_flavors.append('undefined')\n",
        "    assigned_flavors_string = ', '.join(assigned_flavors)\n",
        "    return assigned_flavors\n",
        "\n",
        "flavor_db['Canonicalized Taste Intermediary'] = flavor_db['Flavor'].apply(lambda x: canonicalize_flavors(x))"
      ],
      "metadata": {
        "id": "zNmeHDu7-S_v"
      },
      "execution_count": 333,
      "outputs": []
    },
    {
      "cell_type": "markdown",
      "source": [
        "Here we add the remaining columns. In this case original labels corresponds to the \"Flavor Profile\" given by FlavorDB here given in the column \"Flavor\"."
      ],
      "metadata": {
        "id": "_1XdzVLbfXZa"
      }
    },
    {
      "cell_type": "code",
      "source": [
        "# flatten and canonicalized list of tastes\n",
        "flavor_db = tidy_canonical_flavors(flavor_db)\n",
        "# canonicalize SMILES\n",
        "flavor_db = canonicalize_smiles_column(flavor_db)\n",
        "# list source\n",
        "flavor_db['Source'] = 'flavor_db'\n",
        "# list original labels\n",
        "flavor_db['Original Labels']  = flavor_db['Flavor']"
      ],
      "metadata": {
        "colab": {
          "base_uri": "https://localhost:8080/"
        },
        "collapsed": true,
        "id": "KHEH1IOIFPlt",
        "outputId": "19491c48-3bb4-429d-c0e6-9337be50aa62"
      },
      "execution_count": 334,
      "outputs": [
        {
          "output_type": "stream",
          "name": "stderr",
          "text": [
            "[21:00:30] WARNING: not removing hydrogen atom without neighbors\n",
            "[21:00:31] WARNING: not removing hydrogen atom without neighbors\n",
            "[21:00:31] WARNING: not removing hydrogen atom without neighbors\n",
            "[21:00:31] WARNING: not removing hydrogen atom without neighbors\n",
            "[21:00:31] WARNING: not removing hydrogen atom without neighbors\n",
            "[21:00:31] WARNING: not removing hydrogen atom without neighbors\n",
            "[21:00:31] WARNING: not removing hydrogen atom without neighbors\n",
            "[21:00:34] WARNING: not removing hydrogen atom without neighbors\n",
            "[21:00:34] WARNING: not removing hydrogen atom without neighbors\n",
            "[21:00:34] WARNING: not removing hydrogen atom without neighbors\n",
            "[21:00:35] WARNING: not removing hydrogen atom without neighbors\n",
            "[21:00:35] WARNING: not removing hydrogen atom without neighbors\n",
            "[21:00:35] WARNING: not removing hydrogen atom without neighbors\n",
            "[21:00:35] WARNING: not removing hydrogen atom without neighbors\n",
            "[21:00:35] WARNING: not removing hydrogen atom without neighbors\n",
            "[21:00:35] WARNING: not removing hydrogen atom without neighbors\n",
            "[21:00:35] WARNING: not removing hydrogen atom without neighbors\n",
            "[21:00:37] WARNING: not removing hydrogen atom without neighbors\n",
            "[21:00:37] WARNING: not removing hydrogen atom without neighbors\n",
            "[21:00:37] WARNING: not removing hydrogen atom without neighbors\n",
            "[21:00:37] WARNING: not removing hydrogen atom without neighbors\n",
            "[21:00:37] WARNING: not removing hydrogen atom without neighbors\n",
            "[21:00:37] WARNING: not removing hydrogen atom without neighbors\n",
            "[21:00:37] WARNING: not removing hydrogen atom without neighbors\n",
            "[21:00:37] WARNING: not removing hydrogen atom without neighbors\n",
            "[21:00:37] WARNING: not removing hydrogen atom without neighbors\n",
            "[21:00:38] WARNING: not removing hydrogen atom without neighbors\n",
            "[21:00:38] WARNING: not removing hydrogen atom without neighbors\n",
            "[21:00:38] WARNING: not removing hydrogen atom without neighbors\n",
            "[21:00:38] WARNING: not removing hydrogen atom without neighbors\n",
            "[21:00:38] WARNING: not removing hydrogen atom without neighbors\n",
            "[21:00:38] WARNING: not removing hydrogen atom without neighbors\n",
            "[21:00:38] WARNING: not removing hydrogen atom without neighbors\n",
            "[21:00:39] WARNING: not removing hydrogen atom without neighbors\n",
            "[21:00:39] WARNING: not removing hydrogen atom without neighbors\n",
            "[21:00:39] WARNING: not removing hydrogen atom without neighbors\n",
            "[21:00:39] WARNING: not removing hydrogen atom without neighbors\n"
          ]
        }
      ]
    },
    {
      "cell_type": "code",
      "source": [
        "# save database as an intermediate csv file\n",
        "flavor_db.to_csv('flavor_db.csv', index=False)"
      ],
      "metadata": {
        "id": "5J21DQMrXwc9"
      },
      "execution_count": 335,
      "outputs": []
    },
    {
      "cell_type": "markdown",
      "source": [
        "Concatenate FlavorDB to the final dataframe"
      ],
      "metadata": {
        "id": "aEt0DLNcfj9g"
      }
    },
    {
      "cell_type": "code",
      "source": [
        "flavor_db_subset = flavor_db[['Canonicalized SMILES', 'Canonicalized Taste', 'Original Labels', 'Source']]\n",
        "flavor_db_subset = flavor_db_subset.reset_index(drop=True)\n",
        "\n",
        "fart_uncurated = pd.concat([fart_uncurated, flavor_db_subset], axis=0, ignore_index=True)"
      ],
      "metadata": {
        "id": "CANIo-AAFd9n"
      },
      "execution_count": 358,
      "outputs": []
    },
    {
      "cell_type": "code",
      "source": [
        "# update lists for plot at the end\n",
        "full_dataset_size.append(len(fart_uncurated))\n",
        "dataset_stage.append('FlavorDB')\n",
        "len(fart_uncurated)"
      ],
      "metadata": {
        "colab": {
          "base_uri": "https://localhost:8080/"
        },
        "id": "BXqSWSkZabe8",
        "outputId": "6fee754f-cf8a-4e3b-b92e-01aae0f401cb"
      },
      "execution_count": 359,
      "outputs": [
        {
          "output_type": "execute_result",
          "data": {
            "text/plain": [
              "29523"
            ]
          },
          "metadata": {},
          "execution_count": 359
        }
      ]
    },
    {
      "cell_type": "markdown",
      "source": [
        "## Tas2R Agonists"
      ],
      "metadata": {
        "id": "ZAdJQSJ_F3oE"
      }
    },
    {
      "cell_type": "markdown",
      "source": [
        "The Tas2R Agonists DB is available as an excel sheet from a github repository."
      ],
      "metadata": {
        "id": "sOv7ZA6bfuLy"
      }
    },
    {
      "cell_type": "code",
      "source": [
        "TAS2R_agonists = pd.read_excel(\"https://github.com/dipizio/Natural_TAS2R_agonists/raw/main/Database%20of%20natural%20TAS2R%20agonists.xlsx\", skiprows=1)\n",
        "\n",
        "# only extract these columns\n",
        "tas2r_agonists = TAS2R_agonists[['Names', 'Canonical SMILES', 'INCHIKEY', 'CAS number']]\n",
        "\n",
        "# add remaining columns\n",
        "tas2r_agonists['Canonicalized Taste'] = 'bitter'\n",
        "tas2r_agonists['Source'] = 'tas2r_agonists'\n",
        "tas2r_agonists['Original Labels'] = 'Ligand to Tas2 Receptor'"
      ],
      "metadata": {
        "colab": {
          "base_uri": "https://localhost:8080/"
        },
        "id": "rPrcGpHLF8sN",
        "outputId": "1a2e1b69-5048-4f0a-9a50-ece60eac9e37"
      },
      "execution_count": 212,
      "outputs": [
        {
          "output_type": "stream",
          "name": "stderr",
          "text": [
            "<ipython-input-212-2c629f609b1f>:3: SettingWithCopyWarning: \n",
            "A value is trying to be set on a copy of a slice from a DataFrame.\n",
            "Try using .loc[row_indexer,col_indexer] = value instead\n",
            "\n",
            "See the caveats in the documentation: https://pandas.pydata.org/pandas-docs/stable/user_guide/indexing.html#returning-a-view-versus-a-copy\n",
            "  tas2r_agonists['Canonicalized Taste'] = 'bitter'\n",
            "<ipython-input-212-2c629f609b1f>:4: SettingWithCopyWarning: \n",
            "A value is trying to be set on a copy of a slice from a DataFrame.\n",
            "Try using .loc[row_indexer,col_indexer] = value instead\n",
            "\n",
            "See the caveats in the documentation: https://pandas.pydata.org/pandas-docs/stable/user_guide/indexing.html#returning-a-view-versus-a-copy\n",
            "  tas2r_agonists['Source'] = 'tas2r_agonists'\n"
          ]
        }
      ]
    },
    {
      "cell_type": "code",
      "source": [
        "# canonicalize SMILES\n",
        "tas2r_agonists = canonicalize_smiles_column(tas2r_agonists, 'Canonical SMILES')\n",
        "\n",
        "# save tas2r agonists as an intermediate csv\n",
        "tas2r_agonists.to_csv('tas2r_agonists_db.csv', index=False)"
      ],
      "metadata": {
        "id": "qYS4sm0IGBxX"
      },
      "execution_count": 262,
      "outputs": []
    },
    {
      "cell_type": "markdown",
      "source": [
        "Concatenate Tas2R agonists to the final dataframe"
      ],
      "metadata": {
        "id": "6NB9A4mVgErU"
      }
    },
    {
      "cell_type": "code",
      "source": [
        "tas2r_subset = tas2r_agonists[['Canonicalized SMILES', 'Canonicalized Taste', 'Original Labels', 'Source']]\n",
        "tas2r_subset = tas2r_subset.reset_index(drop=True)\n",
        "\n",
        "fart_uncurated = pd.concat([fart_uncurated, tas2r_subset], axis=0, ignore_index=True)"
      ],
      "metadata": {
        "id": "F4EeaslxGX7I"
      },
      "execution_count": 360,
      "outputs": []
    },
    {
      "cell_type": "code",
      "source": [
        "# update arrays for the plot at the end\n",
        "full_dataset_size.append(len(fart_uncurated))\n",
        "dataset_stage.append('Tas2R Agonists')\n",
        "len(fart_uncurated)"
      ],
      "metadata": {
        "colab": {
          "base_uri": "https://localhost:8080/"
        },
        "id": "TGbLI-qOaf-D",
        "outputId": "c1753284-3566-4117-dea6-d8b791f0e7a5"
      },
      "execution_count": 361,
      "outputs": [
        {
          "output_type": "execute_result",
          "data": {
            "text/plain": [
              "29770"
            ]
          },
          "metadata": {},
          "execution_count": 361
        }
      ]
    },
    {
      "cell_type": "markdown",
      "source": [
        "## Phytocompounds DB"
      ],
      "metadata": {
        "id": "WciXNdx-GkbY"
      }
    },
    {
      "cell_type": "markdown",
      "source": [
        "We again need to web scrape the database to obtain the data points."
      ],
      "metadata": {
        "id": "0pg9hg5mGnkz"
      }
    },
    {
      "cell_type": "code",
      "source": [
        "def scrape_phytocompounds(url):\n",
        "    # Fetch the page content\n",
        "    response = requests.get(url)\n",
        "    response.raise_for_status()\n",
        "\n",
        "    # Parse the page content with BeautifulSoup\n",
        "    soup = BeautifulSoup(response.content, \"html.parser\")\n",
        "\n",
        "    # Find all table rows\n",
        "    rows = soup.find_all(\"tr\")[1:]  # Skip the header row\n",
        "\n",
        "    # Extract data into lists\n",
        "    ids = []\n",
        "    tastes = []\n",
        "    smiles = []\n",
        "\n",
        "    for row in rows:\n",
        "        cols = row.find_all(\"td\")\n",
        "        compound_id = cols[0].find(\"input\")[\"value\"]  # Extract the PMTDB ID\n",
        "        taste = cols[2].text.strip()  # Extract the taste description\n",
        "\n",
        "        # Store the ID and taste in the lists\n",
        "        ids.append(compound_id)\n",
        "        tastes.append(taste)\n",
        "\n",
        "        # Navigate to the compound's detail page to get the SMILES string\n",
        "        compound_url = f\"https://plantmoleculartastedb.org/compound.php?id={compound_id}\"\n",
        "        canonical_smiles = get_canonical_smiles(compound_url)\n",
        "\n",
        "        smiles.append(canonical_smiles)\n",
        "\n",
        "    # Create a DataFrame\n",
        "    df = pd.DataFrame({\"id\": ids, \"Taste\": tastes, \"Canonical SMILES\": smiles})\n",
        "\n",
        "    return df\n",
        "\n",
        "def get_canonical_smiles(url):\n",
        "    \"\"\"Helper function to fetch and parse the Canonical SMILES from a compound's detail page.\"\"\"\n",
        "    response = requests.get(url)\n",
        "    response.raise_for_status()\n",
        "\n",
        "    soup = BeautifulSoup(response.content, \"html.parser\")\n",
        "\n",
        "    # Find the text field with the Canonical SMILES value\n",
        "    smiles_input = soup.find(\"input\", id=\"canSMILES_copy\")\n",
        "    if smiles_input:\n",
        "        return smiles_input[\"value\"]\n",
        "\n",
        "    return None\n",
        "\n",
        "\n",
        "dfs = []\n",
        "# Iterate over pages 1 to 77\n",
        "for page in range(1, 78):  # Page numbers are inclusive, hence 1-77\n",
        "    url = f\"https://plantmoleculartastedb.org/PMTDB_browsePhytocompAll.php?page={page}\"\n",
        "    df = scrape_phytocompounds(url)\n",
        "    dfs.append(df)\n",
        "    print('Page ', page, ' of 77 scraped')\n",
        "\n",
        "# Concatenate all DataFrames into a single one\n",
        "full_df = pd.concat(dfs, ignore_index=True)"
      ],
      "metadata": {
        "colab": {
          "base_uri": "https://localhost:8080/"
        },
        "collapsed": true,
        "id": "seDxo3jeGmqK",
        "outputId": "ae170150-2322-4b77-d78c-dfe9fb875c95"
      },
      "execution_count": 215,
      "outputs": [
        {
          "output_type": "stream",
          "name": "stdout",
          "text": [
            "Page  1  of 77 scraped\n",
            "Page  2  of 77 scraped\n",
            "Page  3  of 77 scraped\n",
            "Page  4  of 77 scraped\n",
            "Page  5  of 77 scraped\n",
            "Page  6  of 77 scraped\n",
            "Page  7  of 77 scraped\n",
            "Page  8  of 77 scraped\n",
            "Page  9  of 77 scraped\n",
            "Page  10  of 77 scraped\n",
            "Page  11  of 77 scraped\n",
            "Page  12  of 77 scraped\n",
            "Page  13  of 77 scraped\n",
            "Page  14  of 77 scraped\n",
            "Page  15  of 77 scraped\n",
            "Page  16  of 77 scraped\n",
            "Page  17  of 77 scraped\n",
            "Page  18  of 77 scraped\n",
            "Page  19  of 77 scraped\n",
            "Page  20  of 77 scraped\n",
            "Page  21  of 77 scraped\n",
            "Page  22  of 77 scraped\n",
            "Page  23  of 77 scraped\n",
            "Page  24  of 77 scraped\n",
            "Page  25  of 77 scraped\n",
            "Page  26  of 77 scraped\n",
            "Page  27  of 77 scraped\n",
            "Page  28  of 77 scraped\n",
            "Page  29  of 77 scraped\n",
            "Page  30  of 77 scraped\n",
            "Page  31  of 77 scraped\n",
            "Page  32  of 77 scraped\n",
            "Page  33  of 77 scraped\n",
            "Page  34  of 77 scraped\n",
            "Page  35  of 77 scraped\n",
            "Page  36  of 77 scraped\n",
            "Page  37  of 77 scraped\n",
            "Page  38  of 77 scraped\n",
            "Page  39  of 77 scraped\n",
            "Page  40  of 77 scraped\n",
            "Page  41  of 77 scraped\n",
            "Page  42  of 77 scraped\n",
            "Page  43  of 77 scraped\n",
            "Page  44  of 77 scraped\n",
            "Page  45  of 77 scraped\n",
            "Page  46  of 77 scraped\n",
            "Page  47  of 77 scraped\n",
            "Page  48  of 77 scraped\n",
            "Page  49  of 77 scraped\n",
            "Page  50  of 77 scraped\n",
            "Page  51  of 77 scraped\n",
            "Page  52  of 77 scraped\n",
            "Page  53  of 77 scraped\n",
            "Page  54  of 77 scraped\n",
            "Page  55  of 77 scraped\n",
            "Page  56  of 77 scraped\n",
            "Page  57  of 77 scraped\n",
            "Page  58  of 77 scraped\n",
            "Page  59  of 77 scraped\n",
            "Page  60  of 77 scraped\n",
            "Page  61  of 77 scraped\n",
            "Page  62  of 77 scraped\n",
            "Page  63  of 77 scraped\n",
            "Page  64  of 77 scraped\n",
            "Page  65  of 77 scraped\n",
            "Page  66  of 77 scraped\n",
            "Page  67  of 77 scraped\n",
            "Page  68  of 77 scraped\n",
            "Page  69  of 77 scraped\n",
            "Page  70  of 77 scraped\n",
            "Page  71  of 77 scraped\n",
            "Page  72  of 77 scraped\n",
            "Page  73  of 77 scraped\n",
            "Page  74  of 77 scraped\n",
            "Page  75  of 77 scraped\n",
            "Page  76  of 77 scraped\n",
            "Page  77  of 77 scraped\n"
          ]
        }
      ]
    },
    {
      "cell_type": "markdown",
      "source": [
        "We then need to relabel the data points. We try to relabel conservatively and only use obviously attributable adjectives (e.g. 'bitter, pungent' to 'bitter')."
      ],
      "metadata": {
        "id": "J4HcX9_WHAkh"
      }
    },
    {
      "cell_type": "code",
      "source": [
        "def canonicalize_flavors(flavor_string):\n",
        "  assigned_flavors = []\n",
        "  flavor_list = split_flavors(flavor_string)\n",
        "  if ('bitter' in flavor_list) or ('bitter;' in flavor_list) or ('bitter, pungent' in flavor_list) or ('bitter: pungent (scratchy)' in flavor_list) or ('bitter (electronic tongue)' in flavor_list) or ('bitter ( electronic tongue)' in flavor_list) or ('bitter, sweet' in flavor_list) or ('bitter, pungent (insufficient evidence)' in flavor_list) or ('bitter, astringent' in flavor_list):\n",
        "    assigned_flavors.append('bitter')\n",
        "  if ('sweet' in flavor_list) or ('sweet;' in flavor_list) or ('bitter, sweet' in flavor_list) or ('sweet, bitter' in flavor_list):\n",
        "    assigned_flavors.append('sweet')\n",
        "  if ('sour' in flavor_list) or ('sour;' in flavor_list) or ('sour, astringent' in flavor_list):\n",
        "    assigned_flavors.append('sour')\n",
        "  if ('umami' in flavor_list) or ('umami-like' in flavor_list) or ('umami;' in flavor_list):\n",
        "    assigned_flavors.append('umami')\n",
        "  if len(assigned_flavors) == 0:\n",
        "    assigned_flavors.append('undefined')\n",
        "\n",
        "  assigned_flavors_string = ', '.join(assigned_flavors)\n",
        "  return assigned_flavors"
      ],
      "metadata": {
        "id": "gl5M0nlAHB62"
      },
      "execution_count": 318,
      "outputs": []
    },
    {
      "cell_type": "code",
      "source": [
        "# apply relabeling scheme\n",
        "full_df['Canonicalized Taste Intermediary'] = full_df['Taste'].apply(lambda x: canonicalize_flavors(x))\n",
        "\n",
        "# flatten and canonicalize taste list\n",
        "phytocompounds_db = tidy_canonical_flavors(full_df)\n",
        "\n",
        "# drop empty SMILES rows\n",
        "phytocompounds_db = phytocompounds_db.dropna(subset=['Canonical SMILES'])\n",
        "\n",
        "# SMILES canonicalization\n",
        "phytocompounds_db = canonicalize_smiles_column(phytocompounds_db, 'Canonical SMILES')"
      ],
      "metadata": {
        "colab": {
          "base_uri": "https://localhost:8080/"
        },
        "id": "dZQRtfbrHD2F",
        "outputId": "ab60b551-45b5-438b-cfdf-4d757d95be20"
      },
      "execution_count": 341,
      "outputs": [
        {
          "output_type": "stream",
          "name": "stderr",
          "text": [
            "[21:01:11] SMILES Parse Error: syntax error while parsing: __\n",
            "[21:01:11] SMILES Parse Error: Failed parsing SMILES '__' for input: '__'\n",
            "[21:01:11] SMILES Parse Error: syntax error while parsing: __\n",
            "[21:01:11] SMILES Parse Error: Failed parsing SMILES '__' for input: '__'\n",
            "[21:01:11] SMILES Parse Error: syntax error while parsing: -\n",
            "[21:01:11] SMILES Parse Error: Failed parsing SMILES '-' for input: '-'\n",
            "[21:01:11] SMILES Parse Error: syntax error while parsing: __\n",
            "[21:01:11] SMILES Parse Error: Failed parsing SMILES '__' for input: '__'\n",
            "[21:01:11] SMILES Parse Error: syntax error while parsing: __\n",
            "[21:01:11] SMILES Parse Error: Failed parsing SMILES '__' for input: '__'\n",
            "[21:01:11] SMILES Parse Error: syntax error while parsing: __\n",
            "[21:01:11] SMILES Parse Error: Failed parsing SMILES '__' for input: '__'\n",
            "[21:01:11] SMILES Parse Error: syntax error while parsing: __\n",
            "[21:01:11] SMILES Parse Error: Failed parsing SMILES '__' for input: '__'\n",
            "[21:01:11] SMILES Parse Error: syntax error while parsing: __\n",
            "[21:01:11] SMILES Parse Error: Failed parsing SMILES '__' for input: '__'\n",
            "[21:01:11] SMILES Parse Error: syntax error while parsing: __\n",
            "[21:01:11] SMILES Parse Error: Failed parsing SMILES '__' for input: '__'\n",
            "[21:01:11] SMILES Parse Error: syntax error while parsing: __\n",
            "[21:01:11] SMILES Parse Error: Failed parsing SMILES '__' for input: '__'\n",
            "[21:01:11] SMILES Parse Error: syntax error while parsing: __\n",
            "[21:01:11] SMILES Parse Error: Failed parsing SMILES '__' for input: '__'\n",
            "[21:01:11] SMILES Parse Error: syntax error while parsing: __\n",
            "[21:01:11] SMILES Parse Error: Failed parsing SMILES '__' for input: '__'\n",
            "[21:01:11] SMILES Parse Error: syntax error while parsing: __\n",
            "[21:01:11] SMILES Parse Error: Failed parsing SMILES '__' for input: '__'\n",
            "[21:01:11] SMILES Parse Error: syntax error while parsing: {mollugogenol\n",
            "[21:01:11] SMILES Parse Error: Failed parsing SMILES '{mollugogenol' for input: '{mollugogenol'\n",
            "[21:01:11] SMILES Parse Error: syntax error while parsing: __\n",
            "[21:01:11] SMILES Parse Error: Failed parsing SMILES '__' for input: '__'\n",
            "[21:01:11] SMILES Parse Error: syntax error while parsing: __\n",
            "[21:01:11] SMILES Parse Error: Failed parsing SMILES '__' for input: '__'\n",
            "[21:01:11] SMILES Parse Error: syntax error while parsing: __\n",
            "[21:01:11] SMILES Parse Error: Failed parsing SMILES '__' for input: '__'\n",
            "[21:01:11] SMILES Parse Error: syntax error while parsing: __\n",
            "[21:01:11] SMILES Parse Error: Failed parsing SMILES '__' for input: '__'\n",
            "[21:01:11] SMILES Parse Error: syntax error while parsing: {scillaren\n",
            "[21:01:11] SMILES Parse Error: Failed parsing SMILES '{scillaren' for input: '{scillaren'\n",
            "[21:01:11] SMILES Parse Error: syntax error while parsing: __\n",
            "[21:01:11] SMILES Parse Error: Failed parsing SMILES '__' for input: '__'\n",
            "[21:01:12] SMILES Parse Error: syntax error while parsing: __\n",
            "[21:01:12] SMILES Parse Error: Failed parsing SMILES '__' for input: '__'\n"
          ]
        }
      ]
    },
    {
      "cell_type": "markdown",
      "source": [
        "Adding the remaining columns."
      ],
      "metadata": {
        "id": "J38V-jWyhqeh"
      }
    },
    {
      "cell_type": "code",
      "source": [
        "phytocompounds_db['Source'] = 'phytocompounds_db'\n",
        "phytocompounds_db['Original Labels'] = phytocompounds_db['Taste']"
      ],
      "metadata": {
        "id": "122LEmA5IsT-"
      },
      "execution_count": 342,
      "outputs": []
    },
    {
      "cell_type": "code",
      "source": [
        "# save phytocompounds_db as an intermediary csv file\n",
        "phytocompounds_db.to_csv('phytocompounds_db.csv', index=False)"
      ],
      "metadata": {
        "id": "EdeXiCdDhvou"
      },
      "execution_count": 343,
      "outputs": []
    },
    {
      "cell_type": "markdown",
      "source": [
        "Concatenating phytocompounds to the final dataframe."
      ],
      "metadata": {
        "id": "N1z9X_W_h6BY"
      }
    },
    {
      "cell_type": "code",
      "source": [
        "phytocompounds_db_subset = phytocompounds_db[['Canonicalized SMILES', 'Canonicalized Taste', 'Original Labels', 'Source']]\n",
        "phytocompounds_db_subset = phytocompounds_db_subset.reset_index(drop=True)\n",
        "\n",
        "fart_uncurated = pd.concat([fart_uncurated, phytocompounds_db_subset], axis=0, ignore_index=True)"
      ],
      "metadata": {
        "id": "dz7inkCdNfgL"
      },
      "execution_count": 362,
      "outputs": []
    },
    {
      "cell_type": "code",
      "source": [
        "# update arrays for the plot at the end\n",
        "full_dataset_size.append(len(fart_uncurated))\n",
        "dataset_stage.append('PhytocompoundsDB')\n",
        "len(fart_uncurated)"
      ],
      "metadata": {
        "colab": {
          "base_uri": "https://localhost:8080/"
        },
        "id": "fUFdZI06avoP",
        "outputId": "3aa926cf-7fba-4393-9702-74b085bebaab"
      },
      "execution_count": 363,
      "outputs": [
        {
          "output_type": "execute_result",
          "data": {
            "text/plain": [
              "31399"
            ]
          },
          "metadata": {},
          "execution_count": 363
        }
      ]
    },
    {
      "cell_type": "markdown",
      "source": [
        "## Umami Compounds from Literature"
      ],
      "metadata": {
        "id": "EgGWHM9iHwiW"
      }
    },
    {
      "cell_type": "markdown",
      "source": [
        "As stated above, we also considered some umami compounds given in the literature. These SMILES were obtained  from the structures as drawn in the referenced publication."
      ],
      "metadata": {
        "id": "Q7t09p6gh-UA"
      }
    },
    {
      "cell_type": "code",
      "source": [
        "umami_molecules = [\n",
        "    '[Na+].O=C([O-])[C@@H](N)CCC(=O)O',\n",
        "    'C(CC(=O)[O-])C(C(=O)[O-])N.C(CC(=O)[O-])C(C(=O)[O-])N.[Ca+2]',\n",
        "    '[K+].O=C([O-])C(N)CCC(=O)O',\n",
        "    'C1=NC2=C(N1[C@H]3[C@@H]([C@@H]([C@H](O3)COP(=O)(O)O)O)O)NC(=NC2=O)N',\n",
        "    'C1=NC2=C(N1C3C(C(C(O3)COP(=O)([O-])[O-])O)O)NC(=NC2=O)N.[Na+].[Na+]',\n",
        "    'O=C3/N=C\\\\Nc1c3ncn1[C@@H]2O[C@@H]([C@@H](O)[C@H]2O)COP(=O)(O)O',\n",
        "    'C(CC(=O)O)C(=O)O',\n",
        "    'O=C(O)C(O)C(O)C(=O)O',\n",
        "    'CC(O)C(=O)O',\n",
        "    'C([C@@H](C(=O)O)N)C(=O)O',\n",
        "    'O=C(O)c1cc(O)c(O)c(O)c1',\n",
        "    'C(C1C(C(C(C(O1)OC(CC(=O)O)C(=O)O)O)O)O)O',\n",
        "    'O=C(O)[C@]2(O)C[C@@H](O)[C@@H](O)[C@H](OC(=O)c1cc(O)c(O)c(O)c1)C2',\n",
        "    'CCNC(=O)CC[C@H](N)C(=O)O',\n",
        "    'CC(C(=O)[O-])[N+]1=C(C=CC(=C1)O)CO',\n",
        "    'CCOC(=O)CNC(=O)C1CC(CCC1C(C)C)C',\n",
        "    'CC1CCC(C(C1)OS(=O)C2=CC=C(C=C2)C)C(C)C',\n",
        "    'CC(=CCCC(=CCNC(=O)C1CC1)C)C',\n",
        "    'CCCC(CCC)NC(=O)C1=CC2=C(C=C1)OCO2'\n",
        "]\n",
        "\n",
        "umami_db = pd.DataFrame(umami_molecules, columns=['SMILES'])"
      ],
      "metadata": {
        "id": "oQ_neQBDQav2"
      },
      "execution_count": 221,
      "outputs": []
    },
    {
      "cell_type": "markdown",
      "source": [
        "Adding the missing columns"
      ],
      "metadata": {
        "id": "oZEsqs_riHN1"
      }
    },
    {
      "cell_type": "code",
      "source": [
        "umami_db['Canonicalized Taste'] = 'umami'\n",
        "umami_db['Original Labels'] = 'Umami molecule from literature'\n",
        "umami_db['Source'] = 'scifinder'\n",
        "\n",
        "# canonicalizing SMILES\n",
        "umami_db = canonicalize_smiles_column(umami_db, 'SMILES')"
      ],
      "metadata": {
        "id": "CmqrRQDyILVP"
      },
      "execution_count": 222,
      "outputs": []
    },
    {
      "cell_type": "code",
      "source": [
        "new_order = ['Canonicalized SMILES', 'Canonicalized Taste', 'Original Labels', 'Source']\n",
        "umami_db = umami_db[new_order]\n",
        "umami_db\n",
        "column_names = [\"source\", \"Canonicalized SMILES\", \"Canonicalized Taste\"]"
      ],
      "metadata": {
        "id": "JW3UtEFrIklh"
      },
      "execution_count": 224,
      "outputs": []
    },
    {
      "cell_type": "code",
      "source": [
        "# save umami db as an intermediary csv file\n",
        "umami_db.to_csv('umami_db.csv', index=False)"
      ],
      "metadata": {
        "id": "MJ3pObZYIm2D"
      },
      "execution_count": 270,
      "outputs": []
    },
    {
      "cell_type": "markdown",
      "source": [
        "Concatenate Umami DB to the final dataframe"
      ],
      "metadata": {
        "id": "gczqS5p8iTRo"
      }
    },
    {
      "cell_type": "code",
      "source": [
        "umami_subset = umami_db[['Canonicalized SMILES', 'Canonicalized Taste', 'Original Labels', 'Source']]\n",
        "umami_subset = umami_subset.reset_index(drop=True)\n",
        "\n",
        "fart_uncurated = pd.concat([fart_uncurated, umami_subset], axis=0, ignore_index=True)"
      ],
      "metadata": {
        "id": "c2TVFm8CIrkB"
      },
      "execution_count": 364,
      "outputs": []
    },
    {
      "cell_type": "code",
      "source": [
        "# update the arrays for the final plot\n",
        "full_dataset_size.append(len(fart_uncurated))\n",
        "dataset_stage.append('UmamiDB')\n",
        "len(fart_uncurated)"
      ],
      "metadata": {
        "colab": {
          "base_uri": "https://localhost:8080/"
        },
        "id": "rLDq47tsayZU",
        "outputId": "98fb1015-b6b9-4be2-bb87-a68eca8101ad"
      },
      "execution_count": 365,
      "outputs": [
        {
          "output_type": "execute_result",
          "data": {
            "text/plain": [
              "31418"
            ]
          },
          "metadata": {},
          "execution_count": 365
        }
      ]
    },
    {
      "cell_type": "markdown",
      "source": [
        "## Sour Compounds from IUPAC pK_A data"
      ],
      "metadata": {
        "id": "BipPfgJRJPKJ"
      }
    },
    {
      "cell_type": "markdown",
      "source": [
        "This csv file lists a file of digitalized dissociation constants from the literature. We look for a pKa of the first dissociation (most acidic proton) between 2 and 7."
      ],
      "metadata": {
        "id": "6YX3nPhaiY4J"
      }
    },
    {
      "cell_type": "code",
      "source": [
        "sour_db = pd.read_csv('https://github.com/IUPAC/Dissociation-Constants/raw/main/iupac_high-confidence_v2_0.csv')"
      ],
      "metadata": {
        "id": "wRnkpEK0JS_v"
      },
      "execution_count": 234,
      "outputs": []
    },
    {
      "cell_type": "code",
      "source": [
        "# casting columns to allow search\n",
        "sour_db['pka_value'] = pd.to_numeric(sour_db['pka_value'], errors='coerce')\n",
        "sour_db['temperature'] = pd.to_numeric(sour_db['T'], errors='coerce')"
      ],
      "metadata": {
        "id": "047qxWzFU2-C"
      },
      "execution_count": 235,
      "outputs": []
    },
    {
      "cell_type": "markdown",
      "source": [
        "Many molecules have pKa values for multiple temperatures. We consider a range between 15 and 30 degrees in which pKa is mostly constant. We do not exclude duplicants at this step but rather later in the data curation scripts."
      ],
      "metadata": {
        "id": "OLd45_NWip8_"
      }
    },
    {
      "cell_type": "code",
      "source": [
        "sour_db_filtered = sour_db[sour_db['pka_type'] == 'pKa1']\n",
        "sour_db_filtered = sour_db_filtered[(sour_db_filtered['temperature'] >= 15) & (sour_db_filtered['temperature'] <= 30)]\n",
        "sour_db_filtered = sour_db_filtered[(sour_db_filtered['pka_value'] >= 2) & (sour_db_filtered['pka_value'] < 7)]"
      ],
      "metadata": {
        "id": "7JIa6mbPSzRC"
      },
      "execution_count": 236,
      "outputs": []
    },
    {
      "cell_type": "markdown",
      "source": [
        "Adding the missing columns"
      ],
      "metadata": {
        "id": "uav69S8ei4PZ"
      }
    },
    {
      "cell_type": "code",
      "source": [
        "sour_db = canonicalize_smiles_column(sour_db, 'SMILES')\n",
        "sour_db['Canonicalized Taste'] = 'sour'\n",
        "sour_db['Source'] = 'IUPAC Dissocation Constants'\n",
        "sour_db['Original Labels'] = 'pKa between 2 and 7'"
      ],
      "metadata": {
        "id": "W7czZcxIT1Za"
      },
      "execution_count": 273,
      "outputs": []
    },
    {
      "cell_type": "code",
      "source": [
        "# saving sour db as intermediary csv file\n",
        "sour_db.to_csv('sour_db.csv', index=False)"
      ],
      "metadata": {
        "id": "yQbYYxagYOHx"
      },
      "execution_count": 324,
      "outputs": []
    },
    {
      "cell_type": "markdown",
      "source": [
        "Concatenating sour db to the final dataframe"
      ],
      "metadata": {
        "id": "9AWgoDyZi-zw"
      }
    },
    {
      "cell_type": "code",
      "source": [
        "sour_db_subset = sour_db[['Canonicalized SMILES', 'Canonicalized Taste', 'Original Labels', 'Source']]\n",
        "sour_db_subset = sour_db_subset.reset_index(drop=True)\n",
        "\n",
        "fart_uncurated = pd.concat([fart_uncurated, sour_db_subset], axis=0, ignore_index=True)"
      ],
      "metadata": {
        "id": "jwm6wniXS_gi"
      },
      "execution_count": 366,
      "outputs": []
    },
    {
      "cell_type": "code",
      "source": [
        "# updating arrays for the plot at the end\n",
        "full_dataset_size.append(len(fart_uncurated))\n",
        "dataset_stage.append('sourDB')\n",
        "len(fart_uncurated)"
      ],
      "metadata": {
        "colab": {
          "base_uri": "https://localhost:8080/"
        },
        "id": "9XYKcqo2a2ny",
        "outputId": "2e1d0a2a-abe5-4470-c92e-f4fc1556b38b"
      },
      "execution_count": 367,
      "outputs": [
        {
          "output_type": "execute_result",
          "data": {
            "text/plain": [
              "55640"
            ]
          },
          "metadata": {},
          "execution_count": 367
        }
      ]
    },
    {
      "cell_type": "markdown",
      "source": [
        "## Final Dataset"
      ],
      "metadata": {
        "id": "YHgQFI4oYM2I"
      }
    },
    {
      "cell_type": "code",
      "source": [
        "fart_uncurated"
      ],
      "metadata": {
        "colab": {
          "base_uri": "https://localhost:8080/",
          "height": 614
        },
        "id": "GWjur_WZVdg6",
        "outputId": "29c1ed50-3c54-4cb5-b2bd-e37c76495c4f"
      },
      "execution_count": 352,
      "outputs": [
        {
          "output_type": "execute_result",
          "data": {
            "text/plain": [
              "                                    Canonicalized SMILES Canonicalized Taste  \\\n",
              "0                 Oc1cc2c(cc1O)C1c3ccc(O)c(O)c3OCC1(O)C2               sweet   \n",
              "1                      CC(C)=CCCC(C)(O)C1CC(O)C(C)=CC1=O               sweet   \n",
              "2          CC(=O)OC1C(=O)c2c(O)cc(O)cc2OC1c1ccc(O)c(O)c1               sweet   \n",
              "3                 Oc1cc2c(cc1O)C1c3ccc(O)c(O)c3OCC1(O)C2               sweet   \n",
              "4                                 OC1C(O)C(O)C(O)C(O)C1O               sweet   \n",
              "...                                                  ...                 ...   \n",
              "55635  Cc1c(C2(c3cc(C(C)C)c(O)c(CN(CC(=O)[O-])CC(=O)[...                sour   \n",
              "55636  Cc1c(C2(c3cc(C(C)C)c(O)c(CN(CC(=O)[O-])CC(=O)[...                sour   \n",
              "55637  Cc1c(C2(c3cc(C(C)C)c(O)c(CN(CC(=O)[O-])CC(=O)[...                sour   \n",
              "55638  CCCC(=O)O[C@H](COC(=O)CC)COP(=O)(O)OC[C@H](N)C...                sour   \n",
              "55639  CCCC(=O)O[C@H](COC(=O)CC)COP(=O)(O)OC[C@H](N)C...                sour   \n",
              "\n",
              "           Original Labels                       Source  \n",
              "0         Sweet, Sweetness                 ChemTastesDB  \n",
              "1         Sweet, Sweetness                 ChemTastesDB  \n",
              "2         Sweet, Sweetness                 ChemTastesDB  \n",
              "3         Sweet, Sweetness                 ChemTastesDB  \n",
              "4         Sweet, Sweetness                 ChemTastesDB  \n",
              "...                    ...                          ...  \n",
              "55635  pKa between 2 and 7  IUPAC Dissocation Constants  \n",
              "55636  pKa between 2 and 7  IUPAC Dissocation Constants  \n",
              "55637  pKa between 2 and 7  IUPAC Dissocation Constants  \n",
              "55638  pKa between 2 and 7  IUPAC Dissocation Constants  \n",
              "55639  pKa between 2 and 7  IUPAC Dissocation Constants  \n",
              "\n",
              "[55640 rows x 4 columns]"
            ],
            "text/html": [
              "\n",
              "  <div id=\"df-05ee5f67-b62e-4c23-ab7a-62d92963ff0a\" class=\"colab-df-container\">\n",
              "    <div>\n",
              "<style scoped>\n",
              "    .dataframe tbody tr th:only-of-type {\n",
              "        vertical-align: middle;\n",
              "    }\n",
              "\n",
              "    .dataframe tbody tr th {\n",
              "        vertical-align: top;\n",
              "    }\n",
              "\n",
              "    .dataframe thead th {\n",
              "        text-align: right;\n",
              "    }\n",
              "</style>\n",
              "<table border=\"1\" class=\"dataframe\">\n",
              "  <thead>\n",
              "    <tr style=\"text-align: right;\">\n",
              "      <th></th>\n",
              "      <th>Canonicalized SMILES</th>\n",
              "      <th>Canonicalized Taste</th>\n",
              "      <th>Original Labels</th>\n",
              "      <th>Source</th>\n",
              "    </tr>\n",
              "  </thead>\n",
              "  <tbody>\n",
              "    <tr>\n",
              "      <th>0</th>\n",
              "      <td>Oc1cc2c(cc1O)C1c3ccc(O)c(O)c3OCC1(O)C2</td>\n",
              "      <td>sweet</td>\n",
              "      <td>Sweet, Sweetness</td>\n",
              "      <td>ChemTastesDB</td>\n",
              "    </tr>\n",
              "    <tr>\n",
              "      <th>1</th>\n",
              "      <td>CC(C)=CCCC(C)(O)C1CC(O)C(C)=CC1=O</td>\n",
              "      <td>sweet</td>\n",
              "      <td>Sweet, Sweetness</td>\n",
              "      <td>ChemTastesDB</td>\n",
              "    </tr>\n",
              "    <tr>\n",
              "      <th>2</th>\n",
              "      <td>CC(=O)OC1C(=O)c2c(O)cc(O)cc2OC1c1ccc(O)c(O)c1</td>\n",
              "      <td>sweet</td>\n",
              "      <td>Sweet, Sweetness</td>\n",
              "      <td>ChemTastesDB</td>\n",
              "    </tr>\n",
              "    <tr>\n",
              "      <th>3</th>\n",
              "      <td>Oc1cc2c(cc1O)C1c3ccc(O)c(O)c3OCC1(O)C2</td>\n",
              "      <td>sweet</td>\n",
              "      <td>Sweet, Sweetness</td>\n",
              "      <td>ChemTastesDB</td>\n",
              "    </tr>\n",
              "    <tr>\n",
              "      <th>4</th>\n",
              "      <td>OC1C(O)C(O)C(O)C(O)C1O</td>\n",
              "      <td>sweet</td>\n",
              "      <td>Sweet, Sweetness</td>\n",
              "      <td>ChemTastesDB</td>\n",
              "    </tr>\n",
              "    <tr>\n",
              "      <th>...</th>\n",
              "      <td>...</td>\n",
              "      <td>...</td>\n",
              "      <td>...</td>\n",
              "      <td>...</td>\n",
              "    </tr>\n",
              "    <tr>\n",
              "      <th>55635</th>\n",
              "      <td>Cc1c(C2(c3cc(C(C)C)c(O)c(CN(CC(=O)[O-])CC(=O)[...</td>\n",
              "      <td>sour</td>\n",
              "      <td>pKa between 2 and 7</td>\n",
              "      <td>IUPAC Dissocation Constants</td>\n",
              "    </tr>\n",
              "    <tr>\n",
              "      <th>55636</th>\n",
              "      <td>Cc1c(C2(c3cc(C(C)C)c(O)c(CN(CC(=O)[O-])CC(=O)[...</td>\n",
              "      <td>sour</td>\n",
              "      <td>pKa between 2 and 7</td>\n",
              "      <td>IUPAC Dissocation Constants</td>\n",
              "    </tr>\n",
              "    <tr>\n",
              "      <th>55637</th>\n",
              "      <td>Cc1c(C2(c3cc(C(C)C)c(O)c(CN(CC(=O)[O-])CC(=O)[...</td>\n",
              "      <td>sour</td>\n",
              "      <td>pKa between 2 and 7</td>\n",
              "      <td>IUPAC Dissocation Constants</td>\n",
              "    </tr>\n",
              "    <tr>\n",
              "      <th>55638</th>\n",
              "      <td>CCCC(=O)O[C@H](COC(=O)CC)COP(=O)(O)OC[C@H](N)C...</td>\n",
              "      <td>sour</td>\n",
              "      <td>pKa between 2 and 7</td>\n",
              "      <td>IUPAC Dissocation Constants</td>\n",
              "    </tr>\n",
              "    <tr>\n",
              "      <th>55639</th>\n",
              "      <td>CCCC(=O)O[C@H](COC(=O)CC)COP(=O)(O)OC[C@H](N)C...</td>\n",
              "      <td>sour</td>\n",
              "      <td>pKa between 2 and 7</td>\n",
              "      <td>IUPAC Dissocation Constants</td>\n",
              "    </tr>\n",
              "  </tbody>\n",
              "</table>\n",
              "<p>55640 rows × 4 columns</p>\n",
              "</div>\n",
              "    <div class=\"colab-df-buttons\">\n",
              "\n",
              "  <div class=\"colab-df-container\">\n",
              "    <button class=\"colab-df-convert\" onclick=\"convertToInteractive('df-05ee5f67-b62e-4c23-ab7a-62d92963ff0a')\"\n",
              "            title=\"Convert this dataframe to an interactive table.\"\n",
              "            style=\"display:none;\">\n",
              "\n",
              "  <svg xmlns=\"http://www.w3.org/2000/svg\" height=\"24px\" viewBox=\"0 -960 960 960\">\n",
              "    <path d=\"M120-120v-720h720v720H120Zm60-500h600v-160H180v160Zm220 220h160v-160H400v160Zm0 220h160v-160H400v160ZM180-400h160v-160H180v160Zm440 0h160v-160H620v160ZM180-180h160v-160H180v160Zm440 0h160v-160H620v160Z\"/>\n",
              "  </svg>\n",
              "    </button>\n",
              "\n",
              "  <style>\n",
              "    .colab-df-container {\n",
              "      display:flex;\n",
              "      gap: 12px;\n",
              "    }\n",
              "\n",
              "    .colab-df-convert {\n",
              "      background-color: #E8F0FE;\n",
              "      border: none;\n",
              "      border-radius: 50%;\n",
              "      cursor: pointer;\n",
              "      display: none;\n",
              "      fill: #1967D2;\n",
              "      height: 32px;\n",
              "      padding: 0 0 0 0;\n",
              "      width: 32px;\n",
              "    }\n",
              "\n",
              "    .colab-df-convert:hover {\n",
              "      background-color: #E2EBFA;\n",
              "      box-shadow: 0px 1px 2px rgba(60, 64, 67, 0.3), 0px 1px 3px 1px rgba(60, 64, 67, 0.15);\n",
              "      fill: #174EA6;\n",
              "    }\n",
              "\n",
              "    .colab-df-buttons div {\n",
              "      margin-bottom: 4px;\n",
              "    }\n",
              "\n",
              "    [theme=dark] .colab-df-convert {\n",
              "      background-color: #3B4455;\n",
              "      fill: #D2E3FC;\n",
              "    }\n",
              "\n",
              "    [theme=dark] .colab-df-convert:hover {\n",
              "      background-color: #434B5C;\n",
              "      box-shadow: 0px 1px 3px 1px rgba(0, 0, 0, 0.15);\n",
              "      filter: drop-shadow(0px 1px 2px rgba(0, 0, 0, 0.3));\n",
              "      fill: #FFFFFF;\n",
              "    }\n",
              "  </style>\n",
              "\n",
              "    <script>\n",
              "      const buttonEl =\n",
              "        document.querySelector('#df-05ee5f67-b62e-4c23-ab7a-62d92963ff0a button.colab-df-convert');\n",
              "      buttonEl.style.display =\n",
              "        google.colab.kernel.accessAllowed ? 'block' : 'none';\n",
              "\n",
              "      async function convertToInteractive(key) {\n",
              "        const element = document.querySelector('#df-05ee5f67-b62e-4c23-ab7a-62d92963ff0a');\n",
              "        const dataTable =\n",
              "          await google.colab.kernel.invokeFunction('convertToInteractive',\n",
              "                                                    [key], {});\n",
              "        if (!dataTable) return;\n",
              "\n",
              "        const docLinkHtml = 'Like what you see? Visit the ' +\n",
              "          '<a target=\"_blank\" href=https://colab.research.google.com/notebooks/data_table.ipynb>data table notebook</a>'\n",
              "          + ' to learn more about interactive tables.';\n",
              "        element.innerHTML = '';\n",
              "        dataTable['output_type'] = 'display_data';\n",
              "        await google.colab.output.renderOutput(dataTable, element);\n",
              "        const docLink = document.createElement('div');\n",
              "        docLink.innerHTML = docLinkHtml;\n",
              "        element.appendChild(docLink);\n",
              "      }\n",
              "    </script>\n",
              "  </div>\n",
              "\n",
              "\n",
              "<div id=\"df-4967275f-e96c-4fa8-9425-5885b47c9d6b\">\n",
              "  <button class=\"colab-df-quickchart\" onclick=\"quickchart('df-4967275f-e96c-4fa8-9425-5885b47c9d6b')\"\n",
              "            title=\"Suggest charts\"\n",
              "            style=\"display:none;\">\n",
              "\n",
              "<svg xmlns=\"http://www.w3.org/2000/svg\" height=\"24px\"viewBox=\"0 0 24 24\"\n",
              "     width=\"24px\">\n",
              "    <g>\n",
              "        <path d=\"M19 3H5c-1.1 0-2 .9-2 2v14c0 1.1.9 2 2 2h14c1.1 0 2-.9 2-2V5c0-1.1-.9-2-2-2zM9 17H7v-7h2v7zm4 0h-2V7h2v10zm4 0h-2v-4h2v4z\"/>\n",
              "    </g>\n",
              "</svg>\n",
              "  </button>\n",
              "\n",
              "<style>\n",
              "  .colab-df-quickchart {\n",
              "      --bg-color: #E8F0FE;\n",
              "      --fill-color: #1967D2;\n",
              "      --hover-bg-color: #E2EBFA;\n",
              "      --hover-fill-color: #174EA6;\n",
              "      --disabled-fill-color: #AAA;\n",
              "      --disabled-bg-color: #DDD;\n",
              "  }\n",
              "\n",
              "  [theme=dark] .colab-df-quickchart {\n",
              "      --bg-color: #3B4455;\n",
              "      --fill-color: #D2E3FC;\n",
              "      --hover-bg-color: #434B5C;\n",
              "      --hover-fill-color: #FFFFFF;\n",
              "      --disabled-bg-color: #3B4455;\n",
              "      --disabled-fill-color: #666;\n",
              "  }\n",
              "\n",
              "  .colab-df-quickchart {\n",
              "    background-color: var(--bg-color);\n",
              "    border: none;\n",
              "    border-radius: 50%;\n",
              "    cursor: pointer;\n",
              "    display: none;\n",
              "    fill: var(--fill-color);\n",
              "    height: 32px;\n",
              "    padding: 0;\n",
              "    width: 32px;\n",
              "  }\n",
              "\n",
              "  .colab-df-quickchart:hover {\n",
              "    background-color: var(--hover-bg-color);\n",
              "    box-shadow: 0 1px 2px rgba(60, 64, 67, 0.3), 0 1px 3px 1px rgba(60, 64, 67, 0.15);\n",
              "    fill: var(--button-hover-fill-color);\n",
              "  }\n",
              "\n",
              "  .colab-df-quickchart-complete:disabled,\n",
              "  .colab-df-quickchart-complete:disabled:hover {\n",
              "    background-color: var(--disabled-bg-color);\n",
              "    fill: var(--disabled-fill-color);\n",
              "    box-shadow: none;\n",
              "  }\n",
              "\n",
              "  .colab-df-spinner {\n",
              "    border: 2px solid var(--fill-color);\n",
              "    border-color: transparent;\n",
              "    border-bottom-color: var(--fill-color);\n",
              "    animation:\n",
              "      spin 1s steps(1) infinite;\n",
              "  }\n",
              "\n",
              "  @keyframes spin {\n",
              "    0% {\n",
              "      border-color: transparent;\n",
              "      border-bottom-color: var(--fill-color);\n",
              "      border-left-color: var(--fill-color);\n",
              "    }\n",
              "    20% {\n",
              "      border-color: transparent;\n",
              "      border-left-color: var(--fill-color);\n",
              "      border-top-color: var(--fill-color);\n",
              "    }\n",
              "    30% {\n",
              "      border-color: transparent;\n",
              "      border-left-color: var(--fill-color);\n",
              "      border-top-color: var(--fill-color);\n",
              "      border-right-color: var(--fill-color);\n",
              "    }\n",
              "    40% {\n",
              "      border-color: transparent;\n",
              "      border-right-color: var(--fill-color);\n",
              "      border-top-color: var(--fill-color);\n",
              "    }\n",
              "    60% {\n",
              "      border-color: transparent;\n",
              "      border-right-color: var(--fill-color);\n",
              "    }\n",
              "    80% {\n",
              "      border-color: transparent;\n",
              "      border-right-color: var(--fill-color);\n",
              "      border-bottom-color: var(--fill-color);\n",
              "    }\n",
              "    90% {\n",
              "      border-color: transparent;\n",
              "      border-bottom-color: var(--fill-color);\n",
              "    }\n",
              "  }\n",
              "</style>\n",
              "\n",
              "  <script>\n",
              "    async function quickchart(key) {\n",
              "      const quickchartButtonEl =\n",
              "        document.querySelector('#' + key + ' button');\n",
              "      quickchartButtonEl.disabled = true;  // To prevent multiple clicks.\n",
              "      quickchartButtonEl.classList.add('colab-df-spinner');\n",
              "      try {\n",
              "        const charts = await google.colab.kernel.invokeFunction(\n",
              "            'suggestCharts', [key], {});\n",
              "      } catch (error) {\n",
              "        console.error('Error during call to suggestCharts:', error);\n",
              "      }\n",
              "      quickchartButtonEl.classList.remove('colab-df-spinner');\n",
              "      quickchartButtonEl.classList.add('colab-df-quickchart-complete');\n",
              "    }\n",
              "    (() => {\n",
              "      let quickchartButtonEl =\n",
              "        document.querySelector('#df-4967275f-e96c-4fa8-9425-5885b47c9d6b button');\n",
              "      quickchartButtonEl.style.display =\n",
              "        google.colab.kernel.accessAllowed ? 'block' : 'none';\n",
              "    })();\n",
              "  </script>\n",
              "</div>\n",
              "    </div>\n",
              "  </div>\n"
            ],
            "application/vnd.google.colaboratory.intrinsic+json": {
              "type": "dataframe",
              "variable_name": "fart_uncurated",
              "summary": "{\n  \"name\": \"fart_uncurated\",\n  \"rows\": 55640,\n  \"fields\": [\n    {\n      \"column\": \"Canonicalized SMILES\",\n      \"properties\": {\n        \"dtype\": \"category\",\n        \"num_unique_values\": 26291,\n        \"samples\": [\n          \"Nc1ncnc2c1ncn2[C@@H]1O[C@H](CSCC[C@H](N)C(=O)O)[C@@H](O)[C@H]1O\",\n          \"CP(=O)(O)O.Nc1ncnc2c1ncn2C1CC(O)C(CO)O1\",\n          \"O=C(C=Cc1ccc(O)c(O)c1)OC1C(O)CC(OC(=O)C=Cc2ccc(O)c(O)c2)(C(=O)O)CC1O\"\n        ],\n        \"semantic_type\": \"\",\n        \"description\": \"\"\n      }\n    },\n    {\n      \"column\": \"Canonicalized Taste\",\n      \"properties\": {\n        \"dtype\": \"category\",\n        \"num_unique_values\": 5,\n        \"samples\": [\n          \"bitter\",\n          \"undefined\",\n          \"umami\"\n        ],\n        \"semantic_type\": \"\",\n        \"description\": \"\"\n      }\n    },\n    {\n      \"column\": \"Original Labels\",\n      \"properties\": {\n        \"dtype\": \"category\",\n        \"num_unique_values\": 2492,\n        \"samples\": [\n          \"black currant\",\n          \"pineapple, fruity\",\n          \"oily, butter, fatty\"\n        ],\n        \"semantic_type\": \"\",\n        \"description\": \"\"\n      }\n    },\n    {\n      \"column\": \"Source\",\n      \"properties\": {\n        \"dtype\": \"category\",\n        \"num_unique_values\": 6,\n        \"samples\": [\n          \"ChemTastesDB\",\n          \"flavor_db\",\n          \"IUPAC Dissocation Constants\"\n        ],\n        \"semantic_type\": \"\",\n        \"description\": \"\"\n      }\n    }\n  ]\n}"
            }
          },
          "metadata": {},
          "execution_count": 352
        }
      ]
    },
    {
      "cell_type": "code",
      "source": [
        "fart_uncurated.to_csv('fart_uncurated.csv')"
      ],
      "metadata": {
        "id": "7sVlbjKYYTDM"
      },
      "execution_count": 368,
      "outputs": []
    },
    {
      "cell_type": "code",
      "source": [
        "import matplotlib.pyplot as plt\n",
        "\n",
        "# Create the plot\n",
        "plt.figure(figsize=(10, 6))  # Optional: Set the size of the figure\n",
        "\n",
        "# Plot dataset size vs. dataset stage\n",
        "plt.plot(dataset_stage, full_dataset_size, marker='o', linestyle='-', color='b')\n",
        "\n",
        "# Add labels and title\n",
        "plt.xlabel('Dataset Stage')\n",
        "plt.ylabel('Dataset Size')\n",
        "plt.title('Dataset Size vs. Dataset Stage')\n",
        "plt.grid(True)  # Optional: Add grid lines for better readability\n",
        "\n",
        "# Display the plot\n",
        "plt.show()\n"
      ],
      "metadata": {
        "colab": {
          "base_uri": "https://localhost:8080/",
          "height": 564
        },
        "id": "5DKZROKXUGy8",
        "outputId": "57aacf1f-c5f3-41fc-dbaf-7df3483117c5"
      },
      "execution_count": 369,
      "outputs": [
        {
          "output_type": "display_data",
          "data": {
            "text/plain": [
              "<Figure size 1000x600 with 1 Axes>"
            ],
            "image/png": "[encoded data removed]"
          },
          "metadata": {}
        }
      ]
    },
    {
      "cell_type": "code",
      "source": [],
      "metadata": {
        "id": "uEVBznbgbM9X"
      },
      "execution_count": null,
      "outputs": []
    }
  ]
}