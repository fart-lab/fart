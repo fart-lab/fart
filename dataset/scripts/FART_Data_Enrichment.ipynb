{
 "cells": [
  {
   "cell_type": "markdown",
   "metadata": {
    "id": "FdoO47ttFu5S"
   },
   "source": [
    "# FART Dataset Enrichment"
   ]
  },
  {
   "cell_type": "code",
   "execution_count": 3,
   "metadata": {
    "id": "bxAR-wNBFodU"
   },
   "outputs": [],
   "source": [
    "import pandas as pd\n",
    "import requests\n",
    "import time\n",
    "from tqdm import tqdm"
   ]
  },
  {
   "cell_type": "code",
   "execution_count": null,
   "metadata": {
    "id": "FtwaxT3jFwtu"
   },
   "outputs": [],
   "source": [
    "df = pd.read_csv(\"FART_curated.csv\")\n",
    "\n",
    "# Define a function to query PubChem API using SMILES\n",
    "def get_pubchem_data(smiles):\n",
    "    '''\n",
    "    Args:\n",
    "      smiles (string) : SMILES representation of molecule\n",
    "\n",
    "    Retruns:\n",
    "      Dict : PubChem Information for molecule\n",
    "    '''\n",
    "    url = f\"https://pubchem.ncbi.nlm.nih.gov/rest/pug/compound/smiles/{smiles}/property/IUPACName,MolecularFormula,MolecularWeight,InChI,InChIKey/JSON?api_key=6d38451f7d0f37eca09d6666298d0f242d08\"\n",
    "    response = requests.get(url)\n",
    "    if response.status_code == 200:\n",
    "        data = response.json()\n",
    "        properties = data['PropertyTable']['Properties'][0]\n",
    "        return {\n",
    "            'PubChemID': properties.get('CID', ''),\n",
    "            'IUPAC Name': properties.get('IUPACName', ''),\n",
    "            'Molecular Formula': properties.get('MolecularFormula', ''),\n",
    "            'Molecular Weight': properties.get('MolecularWeight', ''),\n",
    "            'InChI': properties.get('InChI', ''),\n",
    "            'InChIKey': properties.get('InChIKey', '')\n",
    "        }\n",
    "    else:\n",
    "        return {'PubChemID': '', 'IUPAC Name': '', 'Molecular Formula': '', 'Molecular Weight': '', 'InChI': '', 'InChIKey': ''}"
   ]
  },
  {
   "cell_type": "code",
   "execution_count": null,
   "metadata": {
    "id": "czMGsgsVGLMW"
   },
   "outputs": [],
   "source": [
    "# Apply the function to each row in the DataFrame\n",
    "data_columns = ['PubChemID', 'IUPAC Name', 'Molecular Formula', 'Molecular Weight', 'InChI', 'InChIKey']\n",
    "for col in data_columns:\n",
    "    df[col] = ''\n",
    "\n",
    "# Due to API rate limits, we may need to fetch the data in batches or with delays\n",
    "for index, row in tqdm(df.iterrows(), total=df.shape[0], desc=\"Processing SMILES\"):\n",
    "    result = get_pubchem_data(row['Canonicalized SMILES'])\n",
    "    for key in data_columns:\n",
    "        df.at[index, key] = result[key]\n",
    "    time.sleep(0.2)  # Sleep to respect API rate limits"
   ]
  },
  {
   "cell_type": "code",
   "execution_count": null,
   "metadata": {
    "id": "6jh7e2roGH6s"
   },
   "outputs": [],
   "source": [
    "df.to_csv('FART_full_db.csv', index=False)"
   ]
  }
 ],
 "metadata": {
  "colab": {
   "provenance": []
  },
  "kernelspec": {
   "display_name": "Python 3",
   "name": "python3"
  },
  "language_info": {
   "name": "python"
  }
 },
 "nbformat": 4,
 "nbformat_minor": 0
}
